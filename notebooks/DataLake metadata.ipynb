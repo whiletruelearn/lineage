{
 "cells": [
  {
   "cell_type": "code",
   "execution_count": 2,
   "metadata": {},
   "outputs": [],
   "source": [
    "import datetime\n",
    "import logging\n",
    "import pandas as pd \n",
    "import os\n",
    "from google.cloud import bigquery "
   ]
  },
  {
   "cell_type": "code",
   "execution_count": 3,
   "metadata": {},
   "outputs": [],
   "source": [
    "os.environ[\"GOOGLE_APPLICATION_CREDENTIALS\"] = \"/home/krishna/Downloads/My Project 11220-3961afce01cc.json\""
   ]
  },
  {
   "cell_type": "code",
   "execution_count": 4,
   "metadata": {},
   "outputs": [],
   "source": [
    "def get_bq_data(projects):\n",
    "    \"\"\"Gets metadata from public BigQuery datasets\"\"\"\n",
    "    data = []\n",
    "    for project in projects:\n",
    "        client = bigquery.Client(project=project)\n",
    "        datasets = client.list_datasets()\n",
    " \n",
    "        for dataset in datasets:\n",
    "            dataset_id = dataset.dataset_id\n",
    "            dataset_ref = client.get_dataset(dataset_id)\n",
    "            tables = client.list_tables(dataset_id)\n",
    "            for table in tables:\n",
    "                full_table_id = table.full_table_id.replace(':', '.')\n",
    "                table_ref = client.get_table(full_table_id)\n",
    "                item = {'dataset_id': dataset_id,\n",
    "                        'project_id': project,\n",
    "                        'table_id': table_ref.table_id,\n",
    "                        'dataset_description': dataset_ref.description,\n",
    "                        'table_modified': table_ref.modified.strftime(\"%Y-%m-%d %H:%M:%S\"),\n",
    "                        'table_created': table_ref.created.strftime(\"%Y-%m-%d %H:%M:%S\"),\n",
    "                        'table_description': table_ref.description,\n",
    "                        'table_num_bytes': table_ref.num_bytes,\n",
    "                        'table_num_rows': table_ref.num_rows,\n",
    "                        'table_partitioning_type': table_ref.partitioning_type,\n",
    "                        'table_type': table_ref.table_type,\n",
    "                        'table_columns' : field_details(table_ref),\n",
    "                        \n",
    "                        }\n",
    "                data.append(item)\n",
    "    return data"
   ]
  },
  {
   "cell_type": "code",
   "execution_count": 5,
   "metadata": {},
   "outputs": [],
   "source": [
    "def field_details(table_ref):\n",
    "    schema_dict = table_ref.to_api_repr()[\"schema\"][\"fields\"]\n",
    "    fields = [_[\"name\"] for _ in schema_dict]\n",
    "    return fields"
   ]
  },
  {
   "cell_type": "code",
   "execution_count": 1,
   "metadata": {},
   "outputs": [],
   "source": [
    "\n",
    "projects = [\n",
    "    'bigquery-public-data',\n",
    "]"
   ]
  },
  {
   "cell_type": "code",
   "execution_count": 100,
   "metadata": {},
   "outputs": [],
   "source": [
    "big_query_data = get_bq_data(projects)"
   ]
  },
  {
   "cell_type": "code",
   "execution_count": 102,
   "metadata": {},
   "outputs": [],
   "source": [
    "df =pd.DataFrame(res)"
   ]
  },
  {
   "cell_type": "code",
   "execution_count": 103,
   "metadata": {},
   "outputs": [
    {
     "data": {
      "text/html": [
       "<div>\n",
       "<style scoped>\n",
       "    .dataframe tbody tr th:only-of-type {\n",
       "        vertical-align: middle;\n",
       "    }\n",
       "\n",
       "    .dataframe tbody tr th {\n",
       "        vertical-align: top;\n",
       "    }\n",
       "\n",
       "    .dataframe thead th {\n",
       "        text-align: right;\n",
       "    }\n",
       "</style>\n",
       "<table border=\"1\" class=\"dataframe\">\n",
       "  <thead>\n",
       "    <tr style=\"text-align: right;\">\n",
       "      <th></th>\n",
       "      <th>dataset_description</th>\n",
       "      <th>dataset_id</th>\n",
       "      <th>project_id</th>\n",
       "      <th>table_columns</th>\n",
       "      <th>table_created</th>\n",
       "      <th>table_description</th>\n",
       "      <th>table_id</th>\n",
       "      <th>table_modified</th>\n",
       "      <th>table_num_bytes</th>\n",
       "      <th>table_num_rows</th>\n",
       "      <th>table_partitioning_type</th>\n",
       "      <th>table_type</th>\n",
       "    </tr>\n",
       "  </thead>\n",
       "  <tbody>\n",
       "    <tr>\n",
       "      <th>0</th>\n",
       "      <td>None</td>\n",
       "      <td>austin_311</td>\n",
       "      <td>bigquery-public-data</td>\n",
       "      <td>[unique_key, complaint_type, complaint_descrip...</td>\n",
       "      <td>2017-05-18 14:29:56</td>\n",
       "      <td>None</td>\n",
       "      <td>311_service_requests</td>\n",
       "      <td>2019-01-05 00:58:32</td>\n",
       "      <td>185335640</td>\n",
       "      <td>640525</td>\n",
       "      <td>None</td>\n",
       "      <td>TABLE</td>\n",
       "    </tr>\n",
       "    <tr>\n",
       "      <th>1</th>\n",
       "      <td>None</td>\n",
       "      <td>austin_bikeshare</td>\n",
       "      <td>bigquery-public-data</td>\n",
       "      <td>[station_id, name, status, latitude, longitude...</td>\n",
       "      <td>2017-05-25 03:43:34</td>\n",
       "      <td>None</td>\n",
       "      <td>bikeshare_stations</td>\n",
       "      <td>2019-01-24 10:44:40</td>\n",
       "      <td>7384</td>\n",
       "      <td>94</td>\n",
       "      <td>None</td>\n",
       "      <td>TABLE</td>\n",
       "    </tr>\n",
       "  </tbody>\n",
       "</table>\n",
       "</div>"
      ],
      "text/plain": [
       "  dataset_description        dataset_id            project_id  \\\n",
       "0                None        austin_311  bigquery-public-data   \n",
       "1                None  austin_bikeshare  bigquery-public-data   \n",
       "\n",
       "                                       table_columns        table_created  \\\n",
       "0  [unique_key, complaint_type, complaint_descrip...  2017-05-18 14:29:56   \n",
       "1  [station_id, name, status, latitude, longitude...  2017-05-25 03:43:34   \n",
       "\n",
       "  table_description              table_id       table_modified  \\\n",
       "0              None  311_service_requests  2019-01-05 00:58:32   \n",
       "1              None    bikeshare_stations  2019-01-24 10:44:40   \n",
       "\n",
       "   table_num_bytes  table_num_rows table_partitioning_type table_type  \n",
       "0        185335640          640525                    None      TABLE  \n",
       "1             7384              94                    None      TABLE  "
      ]
     },
     "execution_count": 103,
     "metadata": {},
     "output_type": "execute_result"
    }
   ],
   "source": [
    "df.head(2)"
   ]
  },
  {
   "cell_type": "code",
   "execution_count": 104,
   "metadata": {},
   "outputs": [],
   "source": [
    "df.to_csv(\"/home/krishna/projects/lineage/data/public_dataset_metadata_fin.csv\")"
   ]
  },
  {
   "cell_type": "code",
   "execution_count": 6,
   "metadata": {},
   "outputs": [],
   "source": [
    "fh_query_data = get_bq_data(['fh-bigquery'])"
   ]
  },
  {
   "cell_type": "code",
   "execution_count": 7,
   "metadata": {},
   "outputs": [],
   "source": [
    "fh_df = pd.DataFrame(fh_query_data)"
   ]
  },
  {
   "cell_type": "code",
   "execution_count": 8,
   "metadata": {},
   "outputs": [
    {
     "data": {
      "text/plain": [
       "(1164, 12)"
      ]
     },
     "execution_count": 8,
     "metadata": {},
     "output_type": "execute_result"
    }
   ],
   "source": [
    "fh_df.shape"
   ]
  },
  {
   "cell_type": "code",
   "execution_count": 9,
   "metadata": {},
   "outputs": [
    {
     "data": {
      "text/html": [
       "<div>\n",
       "<style scoped>\n",
       "    .dataframe tbody tr th:only-of-type {\n",
       "        vertical-align: middle;\n",
       "    }\n",
       "\n",
       "    .dataframe tbody tr th {\n",
       "        vertical-align: top;\n",
       "    }\n",
       "\n",
       "    .dataframe thead th {\n",
       "        text-align: right;\n",
       "    }\n",
       "</style>\n",
       "<table border=\"1\" class=\"dataframe\">\n",
       "  <thead>\n",
       "    <tr style=\"text-align: right;\">\n",
       "      <th></th>\n",
       "      <th>dataset_description</th>\n",
       "      <th>dataset_id</th>\n",
       "      <th>project_id</th>\n",
       "      <th>table_columns</th>\n",
       "      <th>table_created</th>\n",
       "      <th>table_description</th>\n",
       "      <th>table_id</th>\n",
       "      <th>table_modified</th>\n",
       "      <th>table_num_bytes</th>\n",
       "      <th>table_num_rows</th>\n",
       "      <th>table_partitioning_type</th>\n",
       "      <th>table_type</th>\n",
       "    </tr>\n",
       "  </thead>\n",
       "  <tbody>\n",
       "    <tr>\n",
       "      <th>0</th>\n",
       "      <td>None</td>\n",
       "      <td>bigdataspain</td>\n",
       "      <td>fh-bigquery</td>\n",
       "      <td>[transaction, frm_amount, to_amount, time, blo...</td>\n",
       "      <td>2013-11-07 18:50:43</td>\n",
       "      <td>None</td>\n",
       "      <td>aggr_transaction_clean</td>\n",
       "      <td>2013-11-07 18:50:43</td>\n",
       "      <td>630730636</td>\n",
       "      <td>3846825</td>\n",
       "      <td>None</td>\n",
       "      <td>TABLE</td>\n",
       "    </tr>\n",
       "    <tr>\n",
       "      <th>1</th>\n",
       "      <td>None</td>\n",
       "      <td>bigdataspain</td>\n",
       "      <td>fh-bigquery</td>\n",
       "      <td>[transaction, frm_amount, to_amount, time, blo...</td>\n",
       "      <td>2013-11-07 17:58:36</td>\n",
       "      <td>None</td>\n",
       "      <td>aggr_transactions</td>\n",
       "      <td>2013-11-07 18:04:12</td>\n",
       "      <td>696837724</td>\n",
       "      <td>4249917</td>\n",
       "      <td>None</td>\n",
       "      <td>TABLE</td>\n",
       "    </tr>\n",
       "    <tr>\n",
       "      <th>2</th>\n",
       "      <td>None</td>\n",
       "      <td>bigdataspain</td>\n",
       "      <td>fh-bigquery</td>\n",
       "      <td>[transaction, frm_amount, to_amount, time, blo...</td>\n",
       "      <td>2013-11-07 18:13:35</td>\n",
       "      <td>None</td>\n",
       "      <td>aggr_transactions2</td>\n",
       "      <td>2013-11-07 18:44:05</td>\n",
       "      <td>696837724</td>\n",
       "      <td>4249917</td>\n",
       "      <td>None</td>\n",
       "      <td>TABLE</td>\n",
       "    </tr>\n",
       "    <tr>\n",
       "      <th>3</th>\n",
       "      <td>None</td>\n",
       "      <td>bigdataspain</td>\n",
       "      <td>fh-bigquery</td>\n",
       "      <td>[transaction, frm_amount, time, block, hsh]</td>\n",
       "      <td>2013-11-07 17:34:09</td>\n",
       "      <td>None</td>\n",
       "      <td>aggr_transactions_frm</td>\n",
       "      <td>2013-11-07 18:03:34</td>\n",
       "      <td>662849836</td>\n",
       "      <td>4249917</td>\n",
       "      <td>None</td>\n",
       "      <td>TABLE</td>\n",
       "    </tr>\n",
       "    <tr>\n",
       "      <th>4</th>\n",
       "      <td>None</td>\n",
       "      <td>bigdataspain</td>\n",
       "      <td>fh-bigquery</td>\n",
       "      <td>[transaction, frm_amount, time, block, hsh]</td>\n",
       "      <td>2013-11-07 18:37:44</td>\n",
       "      <td>None</td>\n",
       "      <td>aggr_transactions_frm2</td>\n",
       "      <td>2013-11-07 18:37:44</td>\n",
       "      <td>662849836</td>\n",
       "      <td>4249917</td>\n",
       "      <td>None</td>\n",
       "      <td>TABLE</td>\n",
       "    </tr>\n",
       "  </tbody>\n",
       "</table>\n",
       "</div>"
      ],
      "text/plain": [
       "  dataset_description    dataset_id   project_id  \\\n",
       "0                None  bigdataspain  fh-bigquery   \n",
       "1                None  bigdataspain  fh-bigquery   \n",
       "2                None  bigdataspain  fh-bigquery   \n",
       "3                None  bigdataspain  fh-bigquery   \n",
       "4                None  bigdataspain  fh-bigquery   \n",
       "\n",
       "                                       table_columns        table_created  \\\n",
       "0  [transaction, frm_amount, to_amount, time, blo...  2013-11-07 18:50:43   \n",
       "1  [transaction, frm_amount, to_amount, time, blo...  2013-11-07 17:58:36   \n",
       "2  [transaction, frm_amount, to_amount, time, blo...  2013-11-07 18:13:35   \n",
       "3        [transaction, frm_amount, time, block, hsh]  2013-11-07 17:34:09   \n",
       "4        [transaction, frm_amount, time, block, hsh]  2013-11-07 18:37:44   \n",
       "\n",
       "  table_description                table_id       table_modified  \\\n",
       "0              None  aggr_transaction_clean  2013-11-07 18:50:43   \n",
       "1              None       aggr_transactions  2013-11-07 18:04:12   \n",
       "2              None      aggr_transactions2  2013-11-07 18:44:05   \n",
       "3              None   aggr_transactions_frm  2013-11-07 18:03:34   \n",
       "4              None  aggr_transactions_frm2  2013-11-07 18:37:44   \n",
       "\n",
       "   table_num_bytes  table_num_rows table_partitioning_type table_type  \n",
       "0        630730636         3846825                    None      TABLE  \n",
       "1        696837724         4249917                    None      TABLE  \n",
       "2        696837724         4249917                    None      TABLE  \n",
       "3        662849836         4249917                    None      TABLE  \n",
       "4        662849836         4249917                    None      TABLE  "
      ]
     },
     "execution_count": 9,
     "metadata": {},
     "output_type": "execute_result"
    }
   ],
   "source": [
    "fh_df.head()"
   ]
  },
  {
   "cell_type": "code",
   "execution_count": 10,
   "metadata": {},
   "outputs": [],
   "source": [
    "fh_df.to_csv(\"/home/krishna/projects/lineage/data/fh_big_query_data.csv\",index=False)"
   ]
  },
  {
   "cell_type": "code",
   "execution_count": null,
   "metadata": {},
   "outputs": [],
   "source": []
  }
 ],
 "metadata": {
  "kernelspec": {
   "display_name": "py36",
   "language": "python",
   "name": "py36"
  },
  "language_info": {
   "codemirror_mode": {
    "name": "ipython",
    "version": 3
   },
   "file_extension": ".py",
   "mimetype": "text/x-python",
   "name": "python",
   "nbconvert_exporter": "python",
   "pygments_lexer": "ipython3",
   "version": "3.6.8"
  }
 },
 "nbformat": 4,
 "nbformat_minor": 2
}

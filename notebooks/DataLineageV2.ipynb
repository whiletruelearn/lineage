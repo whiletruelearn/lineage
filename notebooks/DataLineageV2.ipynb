{
 "cells": [
  {
   "cell_type": "code",
   "execution_count": 282,
   "metadata": {},
   "outputs": [],
   "source": [
    "import pandas as pd\n",
    "import matplotlib.pyplot as plt"
   ]
  },
  {
   "cell_type": "code",
   "execution_count": 283,
   "metadata": {},
   "outputs": [],
   "source": [
    "parse_dates = ['table_created','table_modified']"
   ]
  },
  {
   "cell_type": "code",
   "execution_count": 284,
   "metadata": {},
   "outputs": [],
   "source": [
    "df = pd.read_csv(\"/home/krishna/projects/lineage/data/fh_big_query_data.csv\",parse_dates=parse_dates)"
   ]
  },
  {
   "cell_type": "code",
   "execution_count": 285,
   "metadata": {},
   "outputs": [
    {
     "data": {
      "text/html": [
       "<div>\n",
       "<style scoped>\n",
       "    .dataframe tbody tr th:only-of-type {\n",
       "        vertical-align: middle;\n",
       "    }\n",
       "\n",
       "    .dataframe tbody tr th {\n",
       "        vertical-align: top;\n",
       "    }\n",
       "\n",
       "    .dataframe thead th {\n",
       "        text-align: right;\n",
       "    }\n",
       "</style>\n",
       "<table border=\"1\" class=\"dataframe\">\n",
       "  <thead>\n",
       "    <tr style=\"text-align: right;\">\n",
       "      <th></th>\n",
       "      <th>dataset_description</th>\n",
       "      <th>dataset_id</th>\n",
       "      <th>project_id</th>\n",
       "      <th>table_columns</th>\n",
       "      <th>table_created</th>\n",
       "      <th>table_description</th>\n",
       "      <th>table_id</th>\n",
       "      <th>table_modified</th>\n",
       "      <th>table_num_bytes</th>\n",
       "      <th>table_num_rows</th>\n",
       "      <th>table_partitioning_type</th>\n",
       "      <th>table_type</th>\n",
       "    </tr>\n",
       "  </thead>\n",
       "  <tbody>\n",
       "    <tr>\n",
       "      <th>0</th>\n",
       "      <td>NaN</td>\n",
       "      <td>bigdataspain</td>\n",
       "      <td>fh-bigquery</td>\n",
       "      <td>['transaction', 'frm_amount', 'to_amount', 'ti...</td>\n",
       "      <td>2013-11-07 18:50:43</td>\n",
       "      <td>NaN</td>\n",
       "      <td>aggr_transaction_clean</td>\n",
       "      <td>2013-11-07 18:50:43</td>\n",
       "      <td>630730636</td>\n",
       "      <td>3846825</td>\n",
       "      <td>NaN</td>\n",
       "      <td>TABLE</td>\n",
       "    </tr>\n",
       "    <tr>\n",
       "      <th>1</th>\n",
       "      <td>NaN</td>\n",
       "      <td>bigdataspain</td>\n",
       "      <td>fh-bigquery</td>\n",
       "      <td>['transaction', 'frm_amount', 'to_amount', 'ti...</td>\n",
       "      <td>2013-11-07 17:58:36</td>\n",
       "      <td>NaN</td>\n",
       "      <td>aggr_transactions</td>\n",
       "      <td>2013-11-07 18:04:12</td>\n",
       "      <td>696837724</td>\n",
       "      <td>4249917</td>\n",
       "      <td>NaN</td>\n",
       "      <td>TABLE</td>\n",
       "    </tr>\n",
       "  </tbody>\n",
       "</table>\n",
       "</div>"
      ],
      "text/plain": [
       "  dataset_description    dataset_id   project_id  \\\n",
       "0                 NaN  bigdataspain  fh-bigquery   \n",
       "1                 NaN  bigdataspain  fh-bigquery   \n",
       "\n",
       "                                       table_columns       table_created  \\\n",
       "0  ['transaction', 'frm_amount', 'to_amount', 'ti... 2013-11-07 18:50:43   \n",
       "1  ['transaction', 'frm_amount', 'to_amount', 'ti... 2013-11-07 17:58:36   \n",
       "\n",
       "  table_description                table_id      table_modified  \\\n",
       "0               NaN  aggr_transaction_clean 2013-11-07 18:50:43   \n",
       "1               NaN       aggr_transactions 2013-11-07 18:04:12   \n",
       "\n",
       "   table_num_bytes  table_num_rows table_partitioning_type table_type  \n",
       "0        630730636         3846825                     NaN      TABLE  \n",
       "1        696837724         4249917                     NaN      TABLE  "
      ]
     },
     "execution_count": 285,
     "metadata": {},
     "output_type": "execute_result"
    }
   ],
   "source": [
    "df.head(2)"
   ]
  },
  {
   "cell_type": "code",
   "execution_count": 286,
   "metadata": {},
   "outputs": [],
   "source": [
    "df = df[[\"dataset_id\",\"table_columns\",\"table_created\",\"table_id\",\"table_modified\",\"table_num_bytes\",\"table_num_rows\",\"table_type\"]]"
   ]
  },
  {
   "cell_type": "code",
   "execution_count": 287,
   "metadata": {},
   "outputs": [
    {
     "data": {
      "text/plain": [
       "array(['TABLE', 'VIEW', 'EXTERNAL'], dtype=object)"
      ]
     },
     "execution_count": 287,
     "metadata": {},
     "output_type": "execute_result"
    }
   ],
   "source": [
    "df.table_type.unique()"
   ]
  },
  {
   "cell_type": "code",
   "execution_count": 288,
   "metadata": {},
   "outputs": [],
   "source": [
    "df = df[df.dataset_id!= \"public_dump\"]"
   ]
  },
  {
   "cell_type": "code",
   "execution_count": 289,
   "metadata": {},
   "outputs": [
    {
     "data": {
      "text/plain": [
       "(1088, 8)"
      ]
     },
     "execution_count": 289,
     "metadata": {},
     "output_type": "execute_result"
    }
   ],
   "source": [
    "df.shape"
   ]
  },
  {
   "cell_type": "code",
   "execution_count": 290,
   "metadata": {},
   "outputs": [
    {
     "data": {
      "text/plain": [
       "(36,)"
      ]
     },
     "execution_count": 290,
     "metadata": {},
     "output_type": "execute_result"
    }
   ],
   "source": [
    "df.dataset_id.unique().shape"
   ]
  },
  {
   "cell_type": "code",
   "execution_count": 291,
   "metadata": {},
   "outputs": [],
   "source": [
    "df[\"num_columns\"] = df.apply(lambda x :len(x[\"table_columns\"]),axis =1)"
   ]
  },
  {
   "cell_type": "code",
   "execution_count": 292,
   "metadata": {},
   "outputs": [
    {
     "data": {
      "text/plain": [
       "<matplotlib.axes._subplots.AxesSubplot at 0x7f794cd19400>"
      ]
     },
     "execution_count": 292,
     "metadata": {},
     "output_type": "execute_result"
    },
    {
     "data": {
      "image/png": "[encoded data removed]",
      "text/plain": [
       "<Figure size 432x288 with 1 Axes>"
      ]
     },
     "metadata": {
      "needs_background": "light"
     },
     "output_type": "display_data"
    }
   ],
   "source": [
    "df.num_columns.hist()"
   ]
  },
  {
   "cell_type": "code",
   "execution_count": 293,
   "metadata": {},
   "outputs": [
    {
     "data": {
      "text/plain": [
       "551.3180147058823"
      ]
     },
     "execution_count": 293,
     "metadata": {},
     "output_type": "execute_result"
    }
   ],
   "source": [
    "df.num_columns.mean()"
   ]
  },
  {
   "cell_type": "code",
   "execution_count": 294,
   "metadata": {},
   "outputs": [
    {
     "data": {
      "text/plain": [
       "5"
      ]
     },
     "execution_count": 294,
     "metadata": {},
     "output_type": "execute_result"
    }
   ],
   "source": [
    "df.num_columns.min()"
   ]
  },
  {
   "cell_type": "code",
   "execution_count": 295,
   "metadata": {},
   "outputs": [
    {
     "data": {
      "text/plain": [
       "13690"
      ]
     },
     "execution_count": 295,
     "metadata": {},
     "output_type": "execute_result"
    }
   ],
   "source": [
    "df.num_columns.max()"
   ]
  },
  {
   "cell_type": "code",
   "execution_count": 188,
   "metadata": {},
   "outputs": [],
   "source": [
    "# this is good from diversity of data. represents a normal bigdata landscape with lots of columns\n",
    "# we have 36 lineages"
   ]
  },
  {
   "cell_type": "code",
   "execution_count": 46,
   "metadata": {},
   "outputs": [],
   "source": [
    "# using Just timestamp information"
   ]
  },
  {
   "cell_type": "code",
   "execution_count": 296,
   "metadata": {},
   "outputs": [],
   "source": [
    "start_date , end_date = df.table_created.min(), df.table_created.max()"
   ]
  },
  {
   "cell_type": "code",
   "execution_count": 297,
   "metadata": {},
   "outputs": [
    {
     "data": {
      "text/plain": [
       "Timestamp('2013-08-30 22:50:33')"
      ]
     },
     "execution_count": 297,
     "metadata": {},
     "output_type": "execute_result"
    }
   ],
   "source": [
    "start_date"
   ]
  },
  {
   "cell_type": "code",
   "execution_count": 298,
   "metadata": {},
   "outputs": [
    {
     "data": {
      "text/plain": [
       "Timestamp('2019-01-11 03:58:06')"
      ]
     },
     "execution_count": 298,
     "metadata": {},
     "output_type": "execute_result"
    }
   ],
   "source": [
    "end_date"
   ]
  },
  {
   "cell_type": "code",
   "execution_count": 299,
   "metadata": {},
   "outputs": [],
   "source": [
    "def get_day_of_week(ts) : return ts.dayofweek\n",
    "def get_day(ts) : return ts.day\n",
    "def get_month(ts) : return ts.month\n",
    "def get_year(ts) : return ts.year\n",
    "def get_minutes(ts) : return ts.minute\n",
    "def get_hour(ts) : return ts.hour\n",
    "def get_delta(ts) : return ts - start_date"
   ]
  },
  {
   "cell_type": "code",
   "execution_count": 300,
   "metadata": {},
   "outputs": [],
   "source": [
    "def get_num_days_since_start_date(ts):\n",
    "    delta = get_delta(ts)\n",
    "    return delta.days"
   ]
  },
  {
   "cell_type": "code",
   "execution_count": 301,
   "metadata": {},
   "outputs": [],
   "source": [
    "def get_num_hours_since_start_date(ts):\n",
    "    delta = get_delta(ts)\n",
    "    return round(delta.total_seconds() / 3600)"
   ]
  },
  {
   "cell_type": "code",
   "execution_count": 302,
   "metadata": {},
   "outputs": [],
   "source": [
    "def get_num_mins_since_start_date(ts):\n",
    "    delta = get_delta(ts)\n",
    "    return round(delta.total_seconds() / 60)"
   ]
  },
  {
   "cell_type": "code",
   "execution_count": 303,
   "metadata": {},
   "outputs": [
    {
     "data": {
      "text/plain": [
       "1959"
      ]
     },
     "execution_count": 303,
     "metadata": {},
     "output_type": "execute_result"
    }
   ],
   "source": [
    "get_num_days_since_start_date(end_date)"
   ]
  },
  {
   "cell_type": "code",
   "execution_count": 304,
   "metadata": {},
   "outputs": [
    {
     "data": {
      "text/plain": [
       "47021"
      ]
     },
     "execution_count": 304,
     "metadata": {},
     "output_type": "execute_result"
    }
   ],
   "source": [
    "get_num_hours_since_start_date(end_date)"
   ]
  },
  {
   "cell_type": "code",
   "execution_count": 305,
   "metadata": {},
   "outputs": [
    {
     "data": {
      "text/plain": [
       "2821268"
      ]
     },
     "execution_count": 305,
     "metadata": {},
     "output_type": "execute_result"
    }
   ],
   "source": [
    "get_num_mins_since_start_date(end_date)"
   ]
  },
  {
   "cell_type": "code",
   "execution_count": 306,
   "metadata": {},
   "outputs": [],
   "source": [
    "def get_qhr(hour, minute) : return hour * 4 +  (minute // 15)"
   ]
  },
  {
   "cell_type": "code",
   "execution_count": 307,
   "metadata": {},
   "outputs": [],
   "source": [
    "feature_df = df.copy()"
   ]
  },
  {
   "cell_type": "code",
   "execution_count": 308,
   "metadata": {},
   "outputs": [
    {
     "data": {
      "text/plain": [
       "Index(['dataset_id', 'table_columns', 'table_created', 'table_id',\n",
       "       'table_modified', 'table_num_bytes', 'table_num_rows', 'table_type',\n",
       "       'num_columns'],\n",
       "      dtype='object')"
      ]
     },
     "execution_count": 308,
     "metadata": {},
     "output_type": "execute_result"
    }
   ],
   "source": [
    "feature_df.columns"
   ]
  },
  {
   "cell_type": "code",
   "execution_count": 309,
   "metadata": {},
   "outputs": [
    {
     "data": {
      "text/plain": [
       "dataset_id         0\n",
       "table_columns      0\n",
       "table_created      0\n",
       "table_id           0\n",
       "table_modified     0\n",
       "table_num_bytes    0\n",
       "table_num_rows     0\n",
       "table_type         0\n",
       "num_columns        0\n",
       "dtype: int64"
      ]
     },
     "execution_count": 309,
     "metadata": {},
     "output_type": "execute_result"
    }
   ],
   "source": [
    "feature_df.isnull().sum()"
   ]
  },
  {
   "cell_type": "code",
   "execution_count": 310,
   "metadata": {},
   "outputs": [],
   "source": [
    "feature_df[\"day_of_week\"] = feature_df.table_created.apply(lambda x : get_day_of_week(x))\n",
    "feature_df[\"day\"] =  feature_df.table_created.apply(lambda x : get_day(x))\n",
    "feature_df[\"month\"] = feature_df.table_created.apply(lambda x : get_month(x))\n",
    "feature_df[\"year\"] = feature_df.table_created.apply(lambda x : get_year(x))\n",
    "feature_df[\"minute\"] = feature_df.table_created.apply(lambda x : get_minutes(x))\n",
    "feature_df[\"hour\"] = feature_df.table_created.apply(lambda x : get_hour(x))\n",
    "feature_df[\"qhr\"] = feature_df.apply(lambda x : get_qhr(x[\"hour\"],x[\"minute\"]),axis =1)"
   ]
  },
  {
   "cell_type": "code",
   "execution_count": 311,
   "metadata": {},
   "outputs": [
    {
     "data": {
      "text/plain": [
       "Index(['dataset_id', 'table_columns', 'table_created', 'table_id',\n",
       "       'table_modified', 'table_num_bytes', 'table_num_rows', 'table_type',\n",
       "       'num_columns', 'day_of_week', 'day', 'month', 'year', 'minute', 'hour',\n",
       "       'qhr'],\n",
       "      dtype='object')"
      ]
     },
     "execution_count": 311,
     "metadata": {},
     "output_type": "execute_result"
    }
   ],
   "source": [
    "feature_df.columns"
   ]
  },
  {
   "cell_type": "code",
   "execution_count": 312,
   "metadata": {},
   "outputs": [],
   "source": [
    "cols_to_drop = ['dataset_id', 'table_columns', 'table_id',\n",
    "       'table_modified', 'table_num_bytes', 'table_type']"
   ]
  },
  {
   "cell_type": "code",
   "execution_count": 313,
   "metadata": {},
   "outputs": [],
   "source": [
    "feature_df.drop(columns=cols_to_drop,inplace=True)"
   ]
  },
  {
   "cell_type": "code",
   "execution_count": 314,
   "metadata": {},
   "outputs": [
    {
     "data": {
      "text/html": [
       "<div>\n",
       "<style scoped>\n",
       "    .dataframe tbody tr th:only-of-type {\n",
       "        vertical-align: middle;\n",
       "    }\n",
       "\n",
       "    .dataframe tbody tr th {\n",
       "        vertical-align: top;\n",
       "    }\n",
       "\n",
       "    .dataframe thead th {\n",
       "        text-align: right;\n",
       "    }\n",
       "</style>\n",
       "<table border=\"1\" class=\"dataframe\">\n",
       "  <thead>\n",
       "    <tr style=\"text-align: right;\">\n",
       "      <th></th>\n",
       "      <th>table_created</th>\n",
       "      <th>table_num_rows</th>\n",
       "      <th>num_columns</th>\n",
       "      <th>day_of_week</th>\n",
       "      <th>day</th>\n",
       "      <th>month</th>\n",
       "      <th>year</th>\n",
       "      <th>minute</th>\n",
       "      <th>hour</th>\n",
       "      <th>qhr</th>\n",
       "    </tr>\n",
       "  </thead>\n",
       "  <tbody>\n",
       "    <tr>\n",
       "      <th>0</th>\n",
       "      <td>2013-11-07 18:50:43</td>\n",
       "      <td>3846825</td>\n",
       "      <td>66</td>\n",
       "      <td>3</td>\n",
       "      <td>7</td>\n",
       "      <td>11</td>\n",
       "      <td>2013</td>\n",
       "      <td>50</td>\n",
       "      <td>18</td>\n",
       "      <td>75</td>\n",
       "    </tr>\n",
       "    <tr>\n",
       "      <th>1</th>\n",
       "      <td>2013-11-07 17:58:36</td>\n",
       "      <td>4249917</td>\n",
       "      <td>66</td>\n",
       "      <td>3</td>\n",
       "      <td>7</td>\n",
       "      <td>11</td>\n",
       "      <td>2013</td>\n",
       "      <td>58</td>\n",
       "      <td>17</td>\n",
       "      <td>71</td>\n",
       "    </tr>\n",
       "    <tr>\n",
       "      <th>2</th>\n",
       "      <td>2013-11-07 18:13:35</td>\n",
       "      <td>4249917</td>\n",
       "      <td>66</td>\n",
       "      <td>3</td>\n",
       "      <td>7</td>\n",
       "      <td>11</td>\n",
       "      <td>2013</td>\n",
       "      <td>13</td>\n",
       "      <td>18</td>\n",
       "      <td>72</td>\n",
       "    </tr>\n",
       "  </tbody>\n",
       "</table>\n",
       "</div>"
      ],
      "text/plain": [
       "        table_created  table_num_rows  num_columns  day_of_week  day  month  \\\n",
       "0 2013-11-07 18:50:43         3846825           66            3    7     11   \n",
       "1 2013-11-07 17:58:36         4249917           66            3    7     11   \n",
       "2 2013-11-07 18:13:35         4249917           66            3    7     11   \n",
       "\n",
       "   year  minute  hour  qhr  \n",
       "0  2013      50    18   75  \n",
       "1  2013      58    17   71  \n",
       "2  2013      13    18   72  "
      ]
     },
     "execution_count": 314,
     "metadata": {},
     "output_type": "execute_result"
    }
   ],
   "source": [
    "feature_df.head(3)"
   ]
  },
  {
   "cell_type": "code",
   "execution_count": 315,
   "metadata": {},
   "outputs": [],
   "source": [
    "feature_df[\"num_days_since_start\"] = feature_df.table_created.apply(lambda x : get_num_days_since_start_date(x))\n",
    "feature_df[\"num_hours_since_start\"] = feature_df.table_created.apply(lambda x : get_num_hours_since_start_date(x))\n",
    "feature_df[\"num_mins_since_start\"] = feature_df.table_created.apply(lambda x : get_num_mins_since_start_date(x))"
   ]
  },
  {
   "cell_type": "code",
   "execution_count": 316,
   "metadata": {},
   "outputs": [],
   "source": [
    "cols_to_drop += [\"table_created\"]"
   ]
  },
  {
   "cell_type": "code",
   "execution_count": 317,
   "metadata": {},
   "outputs": [],
   "source": [
    "feature_df.drop(columns=[\"table_created\"],inplace=True)"
   ]
  },
  {
   "cell_type": "code",
   "execution_count": 244,
   "metadata": {},
   "outputs": [],
   "source": [
    "feature_df.drop(columns=[\"table_num_rows\"],inplace=True)"
   ]
  },
  {
   "cell_type": "code",
   "execution_count": 226,
   "metadata": {},
   "outputs": [],
   "source": [
    "feature_df.drop(columns=[\"day_of_week\",\"day\",\"month\",\"year\",\"minute\",\"hour\",\"qhr\"],inplace=True)"
   ]
  },
  {
   "cell_type": "code",
   "execution_count": 258,
   "metadata": {},
   "outputs": [
    {
     "data": {
      "text/html": [
       "<div>\n",
       "<style scoped>\n",
       "    .dataframe tbody tr th:only-of-type {\n",
       "        vertical-align: middle;\n",
       "    }\n",
       "\n",
       "    .dataframe tbody tr th {\n",
       "        vertical-align: top;\n",
       "    }\n",
       "\n",
       "    .dataframe thead th {\n",
       "        text-align: right;\n",
       "    }\n",
       "</style>\n",
       "<table border=\"1\" class=\"dataframe\">\n",
       "  <thead>\n",
       "    <tr style=\"text-align: right;\">\n",
       "      <th></th>\n",
       "      <th>dataset_id</th>\n",
       "      <th>table_columns</th>\n",
       "      <th>table_created</th>\n",
       "      <th>table_id</th>\n",
       "      <th>table_modified</th>\n",
       "      <th>table_num_bytes</th>\n",
       "      <th>table_num_rows</th>\n",
       "      <th>table_type</th>\n",
       "      <th>num_columns</th>\n",
       "    </tr>\n",
       "  </thead>\n",
       "  <tbody>\n",
       "    <tr>\n",
       "      <th>0</th>\n",
       "      <td>bigdataspain</td>\n",
       "      <td>['transaction', 'frm_amount', 'to_amount', 'ti...</td>\n",
       "      <td>2013-11-07 18:50:43</td>\n",
       "      <td>aggr_transaction_clean</td>\n",
       "      <td>2013-11-07 18:50:43</td>\n",
       "      <td>630730636</td>\n",
       "      <td>3846825</td>\n",
       "      <td>TABLE</td>\n",
       "      <td>66</td>\n",
       "    </tr>\n",
       "    <tr>\n",
       "      <th>1</th>\n",
       "      <td>bigdataspain</td>\n",
       "      <td>['transaction', 'frm_amount', 'to_amount', 'ti...</td>\n",
       "      <td>2013-11-07 17:58:36</td>\n",
       "      <td>aggr_transactions</td>\n",
       "      <td>2013-11-07 18:04:12</td>\n",
       "      <td>696837724</td>\n",
       "      <td>4249917</td>\n",
       "      <td>TABLE</td>\n",
       "      <td>66</td>\n",
       "    </tr>\n",
       "  </tbody>\n",
       "</table>\n",
       "</div>"
      ],
      "text/plain": [
       "     dataset_id                                      table_columns  \\\n",
       "0  bigdataspain  ['transaction', 'frm_amount', 'to_amount', 'ti...   \n",
       "1  bigdataspain  ['transaction', 'frm_amount', 'to_amount', 'ti...   \n",
       "\n",
       "        table_created                table_id      table_modified  \\\n",
       "0 2013-11-07 18:50:43  aggr_transaction_clean 2013-11-07 18:50:43   \n",
       "1 2013-11-07 17:58:36       aggr_transactions 2013-11-07 18:04:12   \n",
       "\n",
       "   table_num_bytes  table_num_rows table_type  num_columns  \n",
       "0        630730636         3846825      TABLE           66  \n",
       "1        696837724         4249917      TABLE           66  "
      ]
     },
     "execution_count": 258,
     "metadata": {},
     "output_type": "execute_result"
    }
   ],
   "source": [
    "df.head(2)"
   ]
  },
  {
   "cell_type": "code",
   "execution_count": 262,
   "metadata": {},
   "outputs": [
    {
     "data": {
      "text/html": [
       "<div>\n",
       "<style scoped>\n",
       "    .dataframe tbody tr th:only-of-type {\n",
       "        vertical-align: middle;\n",
       "    }\n",
       "\n",
       "    .dataframe tbody tr th {\n",
       "        vertical-align: top;\n",
       "    }\n",
       "\n",
       "    .dataframe thead th {\n",
       "        text-align: right;\n",
       "    }\n",
       "</style>\n",
       "<table border=\"1\" class=\"dataframe\">\n",
       "  <thead>\n",
       "    <tr style=\"text-align: right;\">\n",
       "      <th></th>\n",
       "      <th>dataset_id</th>\n",
       "      <th>table_columns</th>\n",
       "      <th>table_created</th>\n",
       "      <th>table_id</th>\n",
       "      <th>table_modified</th>\n",
       "      <th>table_num_bytes</th>\n",
       "      <th>table_num_rows</th>\n",
       "      <th>table_type</th>\n",
       "      <th>num_columns</th>\n",
       "    </tr>\n",
       "  </thead>\n",
       "  <tbody>\n",
       "    <tr>\n",
       "      <th>17</th>\n",
       "      <td>dbpedia2014temp</td>\n",
       "      <td>['URI', 'rdf_schema_label', 'rdf_schema_commen...</td>\n",
       "      <td>2015-01-21 07:45:01</td>\n",
       "      <td>AcademicJournal</td>\n",
       "      <td>2015-01-21 07:45:01</td>\n",
       "      <td>12143506</td>\n",
       "      <td>5678</td>\n",
       "      <td>TABLE</td>\n",
       "      <td>696</td>\n",
       "    </tr>\n",
       "    <tr>\n",
       "      <th>18</th>\n",
       "      <td>dbpedia2014temp</td>\n",
       "      <td>['URI', 'rdf_schema_label', 'rdf_schema_commen...</td>\n",
       "      <td>2015-01-21 07:50:21</td>\n",
       "      <td>Activity</td>\n",
       "      <td>2015-01-21 07:50:21</td>\n",
       "      <td>3023868</td>\n",
       "      <td>1629</td>\n",
       "      <td>TABLE</td>\n",
       "      <td>633</td>\n",
       "    </tr>\n",
       "    <tr>\n",
       "      <th>19</th>\n",
       "      <td>dbpedia2014temp</td>\n",
       "      <td>['URI', 'rdf_schema_label', 'rdf_schema_commen...</td>\n",
       "      <td>2015-01-21 07:52:21</td>\n",
       "      <td>Actor</td>\n",
       "      <td>2015-01-21 07:52:21</td>\n",
       "      <td>19115916</td>\n",
       "      <td>6501</td>\n",
       "      <td>TABLE</td>\n",
       "      <td>1517</td>\n",
       "    </tr>\n",
       "    <tr>\n",
       "      <th>20</th>\n",
       "      <td>dbpedia2014temp</td>\n",
       "      <td>['URI', 'rdf_schema_label', 'rdf_schema_commen...</td>\n",
       "      <td>2015-01-21 07:51:53</td>\n",
       "      <td>AdministrativeRegion</td>\n",
       "      <td>2015-01-21 07:51:53</td>\n",
       "      <td>70336117</td>\n",
       "      <td>21702</td>\n",
       "      <td>TABLE</td>\n",
       "      <td>2847</td>\n",
       "    </tr>\n",
       "    <tr>\n",
       "      <th>21</th>\n",
       "      <td>dbpedia2014temp</td>\n",
       "      <td>['URI', 'rdf_schema_label', 'rdf_schema_commen...</td>\n",
       "      <td>2015-01-21 07:53:05</td>\n",
       "      <td>AdultActor</td>\n",
       "      <td>2015-01-21 07:53:05</td>\n",
       "      <td>4517773</td>\n",
       "      <td>1497</td>\n",
       "      <td>TABLE</td>\n",
       "      <td>761</td>\n",
       "    </tr>\n",
       "    <tr>\n",
       "      <th>22</th>\n",
       "      <td>dbpedia2014temp</td>\n",
       "      <td>['URI', 'rdf_schema_label', 'rdf_schema_commen...</td>\n",
       "      <td>2015-01-21 07:43:23</td>\n",
       "      <td>Aircraft</td>\n",
       "      <td>2015-01-21 07:43:23</td>\n",
       "      <td>13710758</td>\n",
       "      <td>9720</td>\n",
       "      <td>TABLE</td>\n",
       "      <td>766</td>\n",
       "    </tr>\n",
       "    <tr>\n",
       "      <th>23</th>\n",
       "      <td>dbpedia2014temp</td>\n",
       "      <td>['URI', 'rdf_schema_label', 'rdf_schema_commen...</td>\n",
       "      <td>2015-01-21 07:48:55</td>\n",
       "      <td>Airline</td>\n",
       "      <td>2015-01-21 07:48:55</td>\n",
       "      <td>9590314</td>\n",
       "      <td>3387</td>\n",
       "      <td>TABLE</td>\n",
       "      <td>1106</td>\n",
       "    </tr>\n",
       "    <tr>\n",
       "      <th>24</th>\n",
       "      <td>dbpedia2014temp</td>\n",
       "      <td>['URI', 'rdf_schema_label', 'rdf_schema_commen...</td>\n",
       "      <td>2015-01-21 07:46:46</td>\n",
       "      <td>Airport</td>\n",
       "      <td>2015-01-21 07:46:46</td>\n",
       "      <td>31847784</td>\n",
       "      <td>13695</td>\n",
       "      <td>TABLE</td>\n",
       "      <td>789</td>\n",
       "    </tr>\n",
       "    <tr>\n",
       "      <th>25</th>\n",
       "      <td>dbpedia2014temp</td>\n",
       "      <td>['URI', 'rdf_schema_label', 'rdf_schema_commen...</td>\n",
       "      <td>2015-01-21 07:44:39</td>\n",
       "      <td>Album</td>\n",
       "      <td>2015-01-21 07:44:39</td>\n",
       "      <td>398611940</td>\n",
       "      <td>123803</td>\n",
       "      <td>TABLE</td>\n",
       "      <td>3922</td>\n",
       "    </tr>\n",
       "    <tr>\n",
       "      <th>26</th>\n",
       "      <td>dbpedia2014temp</td>\n",
       "      <td>['URI', 'rdf_schema_label', 'rdf_schema_commen...</td>\n",
       "      <td>2015-01-21 07:46:00</td>\n",
       "      <td>AmateurBoxer</td>\n",
       "      <td>2015-01-21 07:46:00</td>\n",
       "      <td>1088262</td>\n",
       "      <td>407</td>\n",
       "      <td>TABLE</td>\n",
       "      <td>469</td>\n",
       "    </tr>\n",
       "    <tr>\n",
       "      <th>27</th>\n",
       "      <td>dbpedia2014temp</td>\n",
       "      <td>['URI', 'rdf_schema_label', 'rdf_schema_commen...</td>\n",
       "      <td>2015-01-21 07:43:22</td>\n",
       "      <td>Ambassador</td>\n",
       "      <td>2015-01-21 07:43:22</td>\n",
       "      <td>1703502</td>\n",
       "      <td>470</td>\n",
       "      <td>TABLE</td>\n",
       "      <td>1516</td>\n",
       "    </tr>\n",
       "    <tr>\n",
       "      <th>28</th>\n",
       "      <td>dbpedia2014temp</td>\n",
       "      <td>['URI', 'rdf_schema_label', 'rdf_schema_commen...</td>\n",
       "      <td>2015-01-21 07:46:01</td>\n",
       "      <td>AmericanFootballCoach</td>\n",
       "      <td>2015-01-21 07:46:01</td>\n",
       "      <td>1112571</td>\n",
       "      <td>329</td>\n",
       "      <td>TABLE</td>\n",
       "      <td>478</td>\n",
       "    </tr>\n",
       "    <tr>\n",
       "      <th>29</th>\n",
       "      <td>dbpedia2014temp</td>\n",
       "      <td>['URI', 'rdf_schema_label', 'rdf_schema_commen...</td>\n",
       "      <td>2015-01-21 07:47:55</td>\n",
       "      <td>AmericanFootballLeague</td>\n",
       "      <td>2015-01-21 07:47:55</td>\n",
       "      <td>173896</td>\n",
       "      <td>86</td>\n",
       "      <td>TABLE</td>\n",
       "      <td>407</td>\n",
       "    </tr>\n",
       "    <tr>\n",
       "      <th>30</th>\n",
       "      <td>dbpedia2014temp</td>\n",
       "      <td>['URI', 'rdf_schema_label', 'rdf_schema_commen...</td>\n",
       "      <td>2015-01-21 07:43:16</td>\n",
       "      <td>AmericanFootballPlayer</td>\n",
       "      <td>2015-01-21 07:43:16</td>\n",
       "      <td>50154357</td>\n",
       "      <td>13909</td>\n",
       "      <td>TABLE</td>\n",
       "      <td>1221</td>\n",
       "    </tr>\n",
       "    <tr>\n",
       "      <th>31</th>\n",
       "      <td>dbpedia2014temp</td>\n",
       "      <td>['URI', 'rdf_schema_label', 'rdf_schema_commen...</td>\n",
       "      <td>2015-01-21 07:52:21</td>\n",
       "      <td>AmericanFootballTeam</td>\n",
       "      <td>2015-01-21 07:52:21</td>\n",
       "      <td>224587</td>\n",
       "      <td>96</td>\n",
       "      <td>TABLE</td>\n",
       "      <td>400</td>\n",
       "    </tr>\n",
       "    <tr>\n",
       "      <th>32</th>\n",
       "      <td>dbpedia2014temp</td>\n",
       "      <td>['URI', 'rdf_schema_label', 'rdf_schema_commen...</td>\n",
       "      <td>2015-01-21 07:51:09</td>\n",
       "      <td>Amphibian</td>\n",
       "      <td>2015-01-21 07:51:09</td>\n",
       "      <td>10595161</td>\n",
       "      <td>5893</td>\n",
       "      <td>TABLE</td>\n",
       "      <td>668</td>\n",
       "    </tr>\n",
       "    <tr>\n",
       "      <th>33</th>\n",
       "      <td>dbpedia2014temp</td>\n",
       "      <td>['URI', 'rdf_schema_label', 'rdf_schema_commen...</td>\n",
       "      <td>2015-01-21 07:43:36</td>\n",
       "      <td>AmusementParkAttraction</td>\n",
       "      <td>2015-01-21 07:43:36</td>\n",
       "      <td>2651409</td>\n",
       "      <td>1265</td>\n",
       "      <td>TABLE</td>\n",
       "      <td>327</td>\n",
       "    </tr>\n",
       "    <tr>\n",
       "      <th>34</th>\n",
       "      <td>dbpedia2014temp</td>\n",
       "      <td>['URI', 'rdf_schema_label', 'rdf_schema_commen...</td>\n",
       "      <td>2015-01-21 07:44:19</td>\n",
       "      <td>AnatomicalStructure</td>\n",
       "      <td>2015-01-21 07:44:19</td>\n",
       "      <td>9067836</td>\n",
       "      <td>4478</td>\n",
       "      <td>TABLE</td>\n",
       "      <td>894</td>\n",
       "    </tr>\n",
       "    <tr>\n",
       "      <th>35</th>\n",
       "      <td>dbpedia2014temp</td>\n",
       "      <td>['URI', 'rdf_schema_label', 'rdf_schema_commen...</td>\n",
       "      <td>2015-01-21 07:54:08</td>\n",
       "      <td>Animal</td>\n",
       "      <td>2015-01-21 07:54:08</td>\n",
       "      <td>333108398</td>\n",
       "      <td>195176</td>\n",
       "      <td>TABLE</td>\n",
       "      <td>1101</td>\n",
       "    </tr>\n",
       "    <tr>\n",
       "      <th>36</th>\n",
       "      <td>dbpedia2014temp</td>\n",
       "      <td>['URI', 'rdf_schema_label', 'rdf_schema_commen...</td>\n",
       "      <td>2015-01-21 07:43:35</td>\n",
       "      <td>AnimangaCharacter</td>\n",
       "      <td>2015-01-21 07:43:35</td>\n",
       "      <td>658329</td>\n",
       "      <td>232</td>\n",
       "      <td>TABLE</td>\n",
       "      <td>261</td>\n",
       "    </tr>\n",
       "    <tr>\n",
       "      <th>37</th>\n",
       "      <td>dbpedia2014temp</td>\n",
       "      <td>['URI', 'rdf_schema_label', 'rdf_schema_commen...</td>\n",
       "      <td>2015-01-21 07:44:39</td>\n",
       "      <td>Anime</td>\n",
       "      <td>2015-01-21 07:44:39</td>\n",
       "      <td>4349085</td>\n",
       "      <td>4188</td>\n",
       "      <td>TABLE</td>\n",
       "      <td>397</td>\n",
       "    </tr>\n",
       "    <tr>\n",
       "      <th>38</th>\n",
       "      <td>dbpedia2014temp</td>\n",
       "      <td>['URI', 'rdf_schema_label', 'rdf_schema_commen...</td>\n",
       "      <td>2015-01-21 07:49:56</td>\n",
       "      <td>Arachnid</td>\n",
       "      <td>2015-01-21 07:49:56</td>\n",
       "      <td>5915900</td>\n",
       "      <td>3967</td>\n",
       "      <td>TABLE</td>\n",
       "      <td>572</td>\n",
       "    </tr>\n",
       "    <tr>\n",
       "      <th>39</th>\n",
       "      <td>dbpedia2014temp</td>\n",
       "      <td>['URI', 'rdf_schema_label', 'rdf_schema_commen...</td>\n",
       "      <td>2015-01-21 07:47:08</td>\n",
       "      <td>Archaea</td>\n",
       "      <td>2015-01-21 07:47:08</td>\n",
       "      <td>375171</td>\n",
       "      <td>226</td>\n",
       "      <td>TABLE</td>\n",
       "      <td>490</td>\n",
       "    </tr>\n",
       "    <tr>\n",
       "      <th>40</th>\n",
       "      <td>dbpedia2014temp</td>\n",
       "      <td>['URI', 'rdf_schema_label', 'rdf_schema_commen...</td>\n",
       "      <td>2015-01-21 07:44:18</td>\n",
       "      <td>Architect</td>\n",
       "      <td>2015-01-21 07:44:18</td>\n",
       "      <td>6207288</td>\n",
       "      <td>2269</td>\n",
       "      <td>TABLE</td>\n",
       "      <td>1058</td>\n",
       "    </tr>\n",
       "    <tr>\n",
       "      <th>41</th>\n",
       "      <td>dbpedia2014temp</td>\n",
       "      <td>['URI', 'rdf_schema_label', 'rdf_schema_commen...</td>\n",
       "      <td>2015-01-21 07:52:32</td>\n",
       "      <td>ArchitecturalStructure</td>\n",
       "      <td>2015-01-21 07:52:32</td>\n",
       "      <td>608012658</td>\n",
       "      <td>150536</td>\n",
       "      <td>TABLE</td>\n",
       "      <td>5979</td>\n",
       "    </tr>\n",
       "    <tr>\n",
       "      <th>42</th>\n",
       "      <td>dbpedia2014temp</td>\n",
       "      <td>['URI', 'rdf_schema_label', 'rdf_schema_commen...</td>\n",
       "      <td>2015-01-21 07:44:49</td>\n",
       "      <td>Artery</td>\n",
       "      <td>2015-01-21 07:44:49</td>\n",
       "      <td>761350</td>\n",
       "      <td>376</td>\n",
       "      <td>TABLE</td>\n",
       "      <td>446</td>\n",
       "    </tr>\n",
       "    <tr>\n",
       "      <th>43</th>\n",
       "      <td>dbpedia2014temp</td>\n",
       "      <td>['URI', 'rdf_schema_label', 'rdf_schema_commen...</td>\n",
       "      <td>2015-01-21 07:45:19</td>\n",
       "      <td>ArtificialSatellite</td>\n",
       "      <td>2015-01-21 07:45:19</td>\n",
       "      <td>2164486</td>\n",
       "      <td>1921</td>\n",
       "      <td>TABLE</td>\n",
       "      <td>265</td>\n",
       "    </tr>\n",
       "    <tr>\n",
       "      <th>44</th>\n",
       "      <td>dbpedia2014temp</td>\n",
       "      <td>['URI', 'rdf_schema_label', 'rdf_schema_commen...</td>\n",
       "      <td>2015-01-21 07:52:53</td>\n",
       "      <td>Artist</td>\n",
       "      <td>2015-01-21 07:52:53</td>\n",
       "      <td>352914242</td>\n",
       "      <td>96300</td>\n",
       "      <td>TABLE</td>\n",
       "      <td>2319</td>\n",
       "    </tr>\n",
       "    <tr>\n",
       "      <th>45</th>\n",
       "      <td>dbpedia2014temp</td>\n",
       "      <td>['URI', 'rdf_schema_label', 'rdf_schema_commen...</td>\n",
       "      <td>2015-01-21 07:49:49</td>\n",
       "      <td>ArtistDiscography</td>\n",
       "      <td>2015-01-21 07:49:49</td>\n",
       "      <td>5616242</td>\n",
       "      <td>3494</td>\n",
       "      <td>TABLE</td>\n",
       "      <td>297</td>\n",
       "    </tr>\n",
       "    <tr>\n",
       "      <th>46</th>\n",
       "      <td>dbpedia2014temp</td>\n",
       "      <td>['URI', 'rdf_schema_label', 'rdf_schema_commen...</td>\n",
       "      <td>2015-01-21 07:53:41</td>\n",
       "      <td>Artwork</td>\n",
       "      <td>2015-01-21 07:53:41</td>\n",
       "      <td>6962745</td>\n",
       "      <td>3753</td>\n",
       "      <td>TABLE</td>\n",
       "      <td>414</td>\n",
       "    </tr>\n",
       "    <tr>\n",
       "      <th>...</th>\n",
       "      <td>...</td>\n",
       "      <td>...</td>\n",
       "      <td>...</td>\n",
       "      <td>...</td>\n",
       "      <td>...</td>\n",
       "      <td>...</td>\n",
       "      <td>...</td>\n",
       "      <td>...</td>\n",
       "      <td>...</td>\n",
       "    </tr>\n",
       "    <tr>\n",
       "      <th>434</th>\n",
       "      <td>dbpedia2014temp</td>\n",
       "      <td>['URI', 'rdf_schema_label', 'rdf_schema_commen...</td>\n",
       "      <td>2015-01-21 07:51:51</td>\n",
       "      <td>Train</td>\n",
       "      <td>2015-01-21 07:51:51</td>\n",
       "      <td>2157505</td>\n",
       "      <td>1307</td>\n",
       "      <td>TABLE</td>\n",
       "      <td>1126</td>\n",
       "    </tr>\n",
       "    <tr>\n",
       "      <th>435</th>\n",
       "      <td>dbpedia2014temp</td>\n",
       "      <td>['URI', 'rdf_schema_label', 'rdf_schema_commen...</td>\n",
       "      <td>2015-01-21 07:51:20</td>\n",
       "      <td>Tunnel</td>\n",
       "      <td>2015-01-21 07:51:20</td>\n",
       "      <td>122253</td>\n",
       "      <td>59</td>\n",
       "      <td>TABLE</td>\n",
       "      <td>596</td>\n",
       "    </tr>\n",
       "    <tr>\n",
       "      <th>436</th>\n",
       "      <td>dbpedia2014temp</td>\n",
       "      <td>['URI', 'rdf_schema_label', 'rdf_schema_commen...</td>\n",
       "      <td>2015-01-21 07:45:30</td>\n",
       "      <td>UnitOfWork</td>\n",
       "      <td>2015-01-21 07:45:30</td>\n",
       "      <td>3103897</td>\n",
       "      <td>2589</td>\n",
       "      <td>TABLE</td>\n",
       "      <td>578</td>\n",
       "    </tr>\n",
       "    <tr>\n",
       "      <th>437</th>\n",
       "      <td>dbpedia2014temp</td>\n",
       "      <td>['URI', 'rdf_schema_label', 'rdf_schema_commen...</td>\n",
       "      <td>2015-01-21 07:52:21</td>\n",
       "      <td>University</td>\n",
       "      <td>2015-01-21 07:52:21</td>\n",
       "      <td>58222967</td>\n",
       "      <td>19280</td>\n",
       "      <td>TABLE</td>\n",
       "      <td>1672</td>\n",
       "    </tr>\n",
       "    <tr>\n",
       "      <th>438</th>\n",
       "      <td>dbpedia2014temp</td>\n",
       "      <td>['URI', 'rdf_schema_label', 'rdf_schema_commen...</td>\n",
       "      <td>2015-01-21 07:50:19</td>\n",
       "      <td>Valley</td>\n",
       "      <td>2015-01-21 07:50:19</td>\n",
       "      <td>361212</td>\n",
       "      <td>123</td>\n",
       "      <td>TABLE</td>\n",
       "      <td>1781</td>\n",
       "    </tr>\n",
       "    <tr>\n",
       "      <th>439</th>\n",
       "      <td>dbpedia2014temp</td>\n",
       "      <td>['URI', 'rdf_schema_label', 'rdf_schema_commen...</td>\n",
       "      <td>2015-01-21 07:44:39</td>\n",
       "      <td>Vein</td>\n",
       "      <td>2015-01-21 07:44:39</td>\n",
       "      <td>413309</td>\n",
       "      <td>244</td>\n",
       "      <td>TABLE</td>\n",
       "      <td>388</td>\n",
       "    </tr>\n",
       "    <tr>\n",
       "      <th>440</th>\n",
       "      <td>dbpedia2014temp</td>\n",
       "      <td>['URI', 'rdf_schema_label', 'rdf_schema_commen...</td>\n",
       "      <td>2015-01-21 07:49:09</td>\n",
       "      <td>Venue</td>\n",
       "      <td>2015-01-21 07:49:09</td>\n",
       "      <td>5173580</td>\n",
       "      <td>2151</td>\n",
       "      <td>TABLE</td>\n",
       "      <td>919</td>\n",
       "    </tr>\n",
       "    <tr>\n",
       "      <th>441</th>\n",
       "      <td>dbpedia2014temp</td>\n",
       "      <td>['URI', 'rdf_schema_label', 'rdf_schema_commen...</td>\n",
       "      <td>2015-01-21 07:52:12</td>\n",
       "      <td>VideoGame</td>\n",
       "      <td>2015-01-21 07:52:12</td>\n",
       "      <td>52471271</td>\n",
       "      <td>19301</td>\n",
       "      <td>TABLE</td>\n",
       "      <td>1629</td>\n",
       "    </tr>\n",
       "    <tr>\n",
       "      <th>442</th>\n",
       "      <td>dbpedia2014temp</td>\n",
       "      <td>['URI', 'rdf_schema_label', 'rdf_schema_commen...</td>\n",
       "      <td>2015-01-21 07:51:29</td>\n",
       "      <td>VideogamesLeague</td>\n",
       "      <td>2015-01-21 07:51:29</td>\n",
       "      <td>14607</td>\n",
       "      <td>7</td>\n",
       "      <td>TABLE</td>\n",
       "      <td>301</td>\n",
       "    </tr>\n",
       "    <tr>\n",
       "      <th>443</th>\n",
       "      <td>dbpedia2014temp</td>\n",
       "      <td>['URI', 'rdf_schema_label', 'rdf_schema_commen...</td>\n",
       "      <td>2015-01-21 07:49:14</td>\n",
       "      <td>Village</td>\n",
       "      <td>2015-01-21 07:49:14</td>\n",
       "      <td>397096456</td>\n",
       "      <td>160111</td>\n",
       "      <td>TABLE</td>\n",
       "      <td>1687</td>\n",
       "    </tr>\n",
       "    <tr>\n",
       "      <th>444</th>\n",
       "      <td>dbpedia2014temp</td>\n",
       "      <td>['URI', 'rdf_schema_label', 'rdf_schema_commen...</td>\n",
       "      <td>2015-01-21 07:45:00</td>\n",
       "      <td>VoiceActor</td>\n",
       "      <td>2015-01-21 07:45:00</td>\n",
       "      <td>1345893</td>\n",
       "      <td>571</td>\n",
       "      <td>TABLE</td>\n",
       "      <td>720</td>\n",
       "    </tr>\n",
       "    <tr>\n",
       "      <th>445</th>\n",
       "      <td>dbpedia2014temp</td>\n",
       "      <td>['URI', 'rdf_schema_label', 'rdf_schema_commen...</td>\n",
       "      <td>2015-01-21 07:46:00</td>\n",
       "      <td>Volcano</td>\n",
       "      <td>2015-01-21 07:46:00</td>\n",
       "      <td>2419500</td>\n",
       "      <td>786</td>\n",
       "      <td>TABLE</td>\n",
       "      <td>667</td>\n",
       "    </tr>\n",
       "    <tr>\n",
       "      <th>446</th>\n",
       "      <td>dbpedia2014temp</td>\n",
       "      <td>['URI', 'rdf_schema_label', 'rdf_schema_commen...</td>\n",
       "      <td>2015-01-21 07:45:31</td>\n",
       "      <td>VolleyballCoach</td>\n",
       "      <td>2015-01-21 07:45:31</td>\n",
       "      <td>75614</td>\n",
       "      <td>29</td>\n",
       "      <td>TABLE</td>\n",
       "      <td>549</td>\n",
       "    </tr>\n",
       "    <tr>\n",
       "      <th>447</th>\n",
       "      <td>dbpedia2014temp</td>\n",
       "      <td>['URI', 'rdf_schema_label', 'rdf_schema_commen...</td>\n",
       "      <td>2015-01-21 07:51:19</td>\n",
       "      <td>VolleyballLeague</td>\n",
       "      <td>2015-01-21 07:51:19</td>\n",
       "      <td>155483</td>\n",
       "      <td>82</td>\n",
       "      <td>TABLE</td>\n",
       "      <td>338</td>\n",
       "    </tr>\n",
       "    <tr>\n",
       "      <th>448</th>\n",
       "      <td>dbpedia2014temp</td>\n",
       "      <td>['URI', 'rdf_schema_label', 'rdf_schema_commen...</td>\n",
       "      <td>2015-01-21 07:49:29</td>\n",
       "      <td>VolleyballPlayer</td>\n",
       "      <td>2015-01-21 07:49:29</td>\n",
       "      <td>3610268</td>\n",
       "      <td>1339</td>\n",
       "      <td>TABLE</td>\n",
       "      <td>673</td>\n",
       "    </tr>\n",
       "    <tr>\n",
       "      <th>449</th>\n",
       "      <td>dbpedia2014temp</td>\n",
       "      <td>['URI', 'rdf_schema_label', 'rdf_schema_commen...</td>\n",
       "      <td>2015-01-21 07:43:15</td>\n",
       "      <td>WaterRide</td>\n",
       "      <td>2015-01-21 07:43:15</td>\n",
       "      <td>145444</td>\n",
       "      <td>73</td>\n",
       "      <td>TABLE</td>\n",
       "      <td>305</td>\n",
       "    </tr>\n",
       "    <tr>\n",
       "      <th>450</th>\n",
       "      <td>dbpedia2014temp</td>\n",
       "      <td>['URI', 'rdf_schema_label', 'rdf_schema_commen...</td>\n",
       "      <td>2015-01-21 07:46:45</td>\n",
       "      <td>WaterwayTunnel</td>\n",
       "      <td>2015-01-21 07:46:45</td>\n",
       "      <td>53823</td>\n",
       "      <td>19</td>\n",
       "      <td>TABLE</td>\n",
       "      <td>670</td>\n",
       "    </tr>\n",
       "    <tr>\n",
       "      <th>451</th>\n",
       "      <td>dbpedia2014temp</td>\n",
       "      <td>['URI', 'rdf_schema_label', 'rdf_schema_commen...</td>\n",
       "      <td>2015-01-21 07:52:10</td>\n",
       "      <td>Weapon</td>\n",
       "      <td>2015-01-21 07:52:10</td>\n",
       "      <td>11241824</td>\n",
       "      <td>5409</td>\n",
       "      <td>TABLE</td>\n",
       "      <td>1502</td>\n",
       "    </tr>\n",
       "    <tr>\n",
       "      <th>452</th>\n",
       "      <td>dbpedia2014temp</td>\n",
       "      <td>['URI', 'rdf_schema_label', 'rdf_schema_commen...</td>\n",
       "      <td>2015-01-21 07:47:51</td>\n",
       "      <td>Website</td>\n",
       "      <td>2015-01-21 07:47:51</td>\n",
       "      <td>6656402</td>\n",
       "      <td>3639</td>\n",
       "      <td>TABLE</td>\n",
       "      <td>590</td>\n",
       "    </tr>\n",
       "    <tr>\n",
       "      <th>453</th>\n",
       "      <td>dbpedia2014temp</td>\n",
       "      <td>['URI', 'rdf_schema_label', 'rdf_schema_commen...</td>\n",
       "      <td>2015-01-21 07:49:50</td>\n",
       "      <td>WineRegion</td>\n",
       "      <td>2015-01-21 07:49:50</td>\n",
       "      <td>954784</td>\n",
       "      <td>380</td>\n",
       "      <td>TABLE</td>\n",
       "      <td>577</td>\n",
       "    </tr>\n",
       "    <tr>\n",
       "      <th>454</th>\n",
       "      <td>dbpedia2014temp</td>\n",
       "      <td>['URI', 'rdf_schema_label', 'rdf_schema_commen...</td>\n",
       "      <td>2015-01-21 07:49:49</td>\n",
       "      <td>Winery</td>\n",
       "      <td>2015-01-21 07:49:49</td>\n",
       "      <td>587499</td>\n",
       "      <td>309</td>\n",
       "      <td>TABLE</td>\n",
       "      <td>602</td>\n",
       "    </tr>\n",
       "    <tr>\n",
       "      <th>455</th>\n",
       "      <td>dbpedia2014temp</td>\n",
       "      <td>['URI', 'rdf_schema_label', 'rdf_schema_commen...</td>\n",
       "      <td>2015-01-21 07:51:51</td>\n",
       "      <td>WomensTennisAssociationTournament</td>\n",
       "      <td>2015-01-21 07:51:51</td>\n",
       "      <td>161486</td>\n",
       "      <td>61</td>\n",
       "      <td>TABLE</td>\n",
       "      <td>305</td>\n",
       "    </tr>\n",
       "    <tr>\n",
       "      <th>456</th>\n",
       "      <td>dbpedia2014temp</td>\n",
       "      <td>['URI', 'rdf_schema_label', 'rdf_schema_commen...</td>\n",
       "      <td>2015-01-21 07:46:00</td>\n",
       "      <td>WorldHeritageSite</td>\n",
       "      <td>2015-01-21 07:46:00</td>\n",
       "      <td>2120747</td>\n",
       "      <td>1025</td>\n",
       "      <td>TABLE</td>\n",
       "      <td>335</td>\n",
       "    </tr>\n",
       "    <tr>\n",
       "      <th>457</th>\n",
       "      <td>dbpedia2014temp</td>\n",
       "      <td>['URI', 'rdf_schema_label', 'rdf_schema_commen...</td>\n",
       "      <td>2015-01-21 07:43:14</td>\n",
       "      <td>Wrestler</td>\n",
       "      <td>2015-01-21 07:43:14</td>\n",
       "      <td>9779536</td>\n",
       "      <td>3828</td>\n",
       "      <td>TABLE</td>\n",
       "      <td>902</td>\n",
       "    </tr>\n",
       "    <tr>\n",
       "      <th>458</th>\n",
       "      <td>dbpedia2014temp</td>\n",
       "      <td>['URI', 'rdf_schema_label', 'rdf_schema_commen...</td>\n",
       "      <td>2015-01-21 07:45:39</td>\n",
       "      <td>WrestlingEvent</td>\n",
       "      <td>2015-01-21 07:45:39</td>\n",
       "      <td>1601160</td>\n",
       "      <td>963</td>\n",
       "      <td>TABLE</td>\n",
       "      <td>385</td>\n",
       "    </tr>\n",
       "    <tr>\n",
       "      <th>459</th>\n",
       "      <td>dbpedia2014temp</td>\n",
       "      <td>['URI', 'rdf_schema_label', 'rdf_schema_commen...</td>\n",
       "      <td>2015-01-21 07:43:33</td>\n",
       "      <td>Writer</td>\n",
       "      <td>2015-01-21 07:43:33</td>\n",
       "      <td>85019888</td>\n",
       "      <td>25995</td>\n",
       "      <td>TABLE</td>\n",
       "      <td>1709</td>\n",
       "    </tr>\n",
       "    <tr>\n",
       "      <th>460</th>\n",
       "      <td>dbpedia2014temp</td>\n",
       "      <td>['URI', 'rdf_schema_label', 'rdf_schema_commen...</td>\n",
       "      <td>2015-01-21 07:51:50</td>\n",
       "      <td>WrittenWork</td>\n",
       "      <td>2015-01-21 07:51:50</td>\n",
       "      <td>162402890</td>\n",
       "      <td>56505</td>\n",
       "      <td>TABLE</td>\n",
       "      <td>2811</td>\n",
       "    </tr>\n",
       "    <tr>\n",
       "      <th>461</th>\n",
       "      <td>dbpedia2014temp</td>\n",
       "      <td>['URI', 'rdf_schema_label', 'rdf_schema_commen...</td>\n",
       "      <td>2015-01-21 07:51:31</td>\n",
       "      <td>Year</td>\n",
       "      <td>2015-01-21 07:51:31</td>\n",
       "      <td>3895979</td>\n",
       "      <td>2037</td>\n",
       "      <td>TABLE</td>\n",
       "      <td>2155</td>\n",
       "    </tr>\n",
       "    <tr>\n",
       "      <th>462</th>\n",
       "      <td>dbpedia2014temp</td>\n",
       "      <td>['URI', 'rdf_schema_label', 'rdf_schema_commen...</td>\n",
       "      <td>2015-01-21 07:44:19</td>\n",
       "      <td>YearInSpaceflight</td>\n",
       "      <td>2015-01-21 07:44:19</td>\n",
       "      <td>67171</td>\n",
       "      <td>60</td>\n",
       "      <td>TABLE</td>\n",
       "      <td>727</td>\n",
       "    </tr>\n",
       "    <tr>\n",
       "      <th>463</th>\n",
       "      <td>dbpedia2014temp</td>\n",
       "      <td>['URI', 'rdf_schema_label', 'rdf_schema_commen...</td>\n",
       "      <td>2015-01-21 07:39:10</td>\n",
       "      <td>test</td>\n",
       "      <td>2015-01-21 07:56:50</td>\n",
       "      <td>8334409992</td>\n",
       "      <td>1649646</td>\n",
       "      <td>TABLE</td>\n",
       "      <td>8437</td>\n",
       "    </tr>\n",
       "  </tbody>\n",
       "</table>\n",
       "<p>447 rows × 9 columns</p>\n",
       "</div>"
      ],
      "text/plain": [
       "          dataset_id                                      table_columns  \\\n",
       "17   dbpedia2014temp  ['URI', 'rdf_schema_label', 'rdf_schema_commen...   \n",
       "18   dbpedia2014temp  ['URI', 'rdf_schema_label', 'rdf_schema_commen...   \n",
       "19   dbpedia2014temp  ['URI', 'rdf_schema_label', 'rdf_schema_commen...   \n",
       "20   dbpedia2014temp  ['URI', 'rdf_schema_label', 'rdf_schema_commen...   \n",
       "21   dbpedia2014temp  ['URI', 'rdf_schema_label', 'rdf_schema_commen...   \n",
       "22   dbpedia2014temp  ['URI', 'rdf_schema_label', 'rdf_schema_commen...   \n",
       "23   dbpedia2014temp  ['URI', 'rdf_schema_label', 'rdf_schema_commen...   \n",
       "24   dbpedia2014temp  ['URI', 'rdf_schema_label', 'rdf_schema_commen...   \n",
       "25   dbpedia2014temp  ['URI', 'rdf_schema_label', 'rdf_schema_commen...   \n",
       "26   dbpedia2014temp  ['URI', 'rdf_schema_label', 'rdf_schema_commen...   \n",
       "27   dbpedia2014temp  ['URI', 'rdf_schema_label', 'rdf_schema_commen...   \n",
       "28   dbpedia2014temp  ['URI', 'rdf_schema_label', 'rdf_schema_commen...   \n",
       "29   dbpedia2014temp  ['URI', 'rdf_schema_label', 'rdf_schema_commen...   \n",
       "30   dbpedia2014temp  ['URI', 'rdf_schema_label', 'rdf_schema_commen...   \n",
       "31   dbpedia2014temp  ['URI', 'rdf_schema_label', 'rdf_schema_commen...   \n",
       "32   dbpedia2014temp  ['URI', 'rdf_schema_label', 'rdf_schema_commen...   \n",
       "33   dbpedia2014temp  ['URI', 'rdf_schema_label', 'rdf_schema_commen...   \n",
       "34   dbpedia2014temp  ['URI', 'rdf_schema_label', 'rdf_schema_commen...   \n",
       "35   dbpedia2014temp  ['URI', 'rdf_schema_label', 'rdf_schema_commen...   \n",
       "36   dbpedia2014temp  ['URI', 'rdf_schema_label', 'rdf_schema_commen...   \n",
       "37   dbpedia2014temp  ['URI', 'rdf_schema_label', 'rdf_schema_commen...   \n",
       "38   dbpedia2014temp  ['URI', 'rdf_schema_label', 'rdf_schema_commen...   \n",
       "39   dbpedia2014temp  ['URI', 'rdf_schema_label', 'rdf_schema_commen...   \n",
       "40   dbpedia2014temp  ['URI', 'rdf_schema_label', 'rdf_schema_commen...   \n",
       "41   dbpedia2014temp  ['URI', 'rdf_schema_label', 'rdf_schema_commen...   \n",
       "42   dbpedia2014temp  ['URI', 'rdf_schema_label', 'rdf_schema_commen...   \n",
       "43   dbpedia2014temp  ['URI', 'rdf_schema_label', 'rdf_schema_commen...   \n",
       "44   dbpedia2014temp  ['URI', 'rdf_schema_label', 'rdf_schema_commen...   \n",
       "45   dbpedia2014temp  ['URI', 'rdf_schema_label', 'rdf_schema_commen...   \n",
       "46   dbpedia2014temp  ['URI', 'rdf_schema_label', 'rdf_schema_commen...   \n",
       "..               ...                                                ...   \n",
       "434  dbpedia2014temp  ['URI', 'rdf_schema_label', 'rdf_schema_commen...   \n",
       "435  dbpedia2014temp  ['URI', 'rdf_schema_label', 'rdf_schema_commen...   \n",
       "436  dbpedia2014temp  ['URI', 'rdf_schema_label', 'rdf_schema_commen...   \n",
       "437  dbpedia2014temp  ['URI', 'rdf_schema_label', 'rdf_schema_commen...   \n",
       "438  dbpedia2014temp  ['URI', 'rdf_schema_label', 'rdf_schema_commen...   \n",
       "439  dbpedia2014temp  ['URI', 'rdf_schema_label', 'rdf_schema_commen...   \n",
       "440  dbpedia2014temp  ['URI', 'rdf_schema_label', 'rdf_schema_commen...   \n",
       "441  dbpedia2014temp  ['URI', 'rdf_schema_label', 'rdf_schema_commen...   \n",
       "442  dbpedia2014temp  ['URI', 'rdf_schema_label', 'rdf_schema_commen...   \n",
       "443  dbpedia2014temp  ['URI', 'rdf_schema_label', 'rdf_schema_commen...   \n",
       "444  dbpedia2014temp  ['URI', 'rdf_schema_label', 'rdf_schema_commen...   \n",
       "445  dbpedia2014temp  ['URI', 'rdf_schema_label', 'rdf_schema_commen...   \n",
       "446  dbpedia2014temp  ['URI', 'rdf_schema_label', 'rdf_schema_commen...   \n",
       "447  dbpedia2014temp  ['URI', 'rdf_schema_label', 'rdf_schema_commen...   \n",
       "448  dbpedia2014temp  ['URI', 'rdf_schema_label', 'rdf_schema_commen...   \n",
       "449  dbpedia2014temp  ['URI', 'rdf_schema_label', 'rdf_schema_commen...   \n",
       "450  dbpedia2014temp  ['URI', 'rdf_schema_label', 'rdf_schema_commen...   \n",
       "451  dbpedia2014temp  ['URI', 'rdf_schema_label', 'rdf_schema_commen...   \n",
       "452  dbpedia2014temp  ['URI', 'rdf_schema_label', 'rdf_schema_commen...   \n",
       "453  dbpedia2014temp  ['URI', 'rdf_schema_label', 'rdf_schema_commen...   \n",
       "454  dbpedia2014temp  ['URI', 'rdf_schema_label', 'rdf_schema_commen...   \n",
       "455  dbpedia2014temp  ['URI', 'rdf_schema_label', 'rdf_schema_commen...   \n",
       "456  dbpedia2014temp  ['URI', 'rdf_schema_label', 'rdf_schema_commen...   \n",
       "457  dbpedia2014temp  ['URI', 'rdf_schema_label', 'rdf_schema_commen...   \n",
       "458  dbpedia2014temp  ['URI', 'rdf_schema_label', 'rdf_schema_commen...   \n",
       "459  dbpedia2014temp  ['URI', 'rdf_schema_label', 'rdf_schema_commen...   \n",
       "460  dbpedia2014temp  ['URI', 'rdf_schema_label', 'rdf_schema_commen...   \n",
       "461  dbpedia2014temp  ['URI', 'rdf_schema_label', 'rdf_schema_commen...   \n",
       "462  dbpedia2014temp  ['URI', 'rdf_schema_label', 'rdf_schema_commen...   \n",
       "463  dbpedia2014temp  ['URI', 'rdf_schema_label', 'rdf_schema_commen...   \n",
       "\n",
       "          table_created                           table_id  \\\n",
       "17  2015-01-21 07:45:01                    AcademicJournal   \n",
       "18  2015-01-21 07:50:21                           Activity   \n",
       "19  2015-01-21 07:52:21                              Actor   \n",
       "20  2015-01-21 07:51:53               AdministrativeRegion   \n",
       "21  2015-01-21 07:53:05                         AdultActor   \n",
       "22  2015-01-21 07:43:23                           Aircraft   \n",
       "23  2015-01-21 07:48:55                            Airline   \n",
       "24  2015-01-21 07:46:46                            Airport   \n",
       "25  2015-01-21 07:44:39                              Album   \n",
       "26  2015-01-21 07:46:00                       AmateurBoxer   \n",
       "27  2015-01-21 07:43:22                         Ambassador   \n",
       "28  2015-01-21 07:46:01              AmericanFootballCoach   \n",
       "29  2015-01-21 07:47:55             AmericanFootballLeague   \n",
       "30  2015-01-21 07:43:16             AmericanFootballPlayer   \n",
       "31  2015-01-21 07:52:21               AmericanFootballTeam   \n",
       "32  2015-01-21 07:51:09                          Amphibian   \n",
       "33  2015-01-21 07:43:36            AmusementParkAttraction   \n",
       "34  2015-01-21 07:44:19                AnatomicalStructure   \n",
       "35  2015-01-21 07:54:08                             Animal   \n",
       "36  2015-01-21 07:43:35                  AnimangaCharacter   \n",
       "37  2015-01-21 07:44:39                              Anime   \n",
       "38  2015-01-21 07:49:56                           Arachnid   \n",
       "39  2015-01-21 07:47:08                            Archaea   \n",
       "40  2015-01-21 07:44:18                          Architect   \n",
       "41  2015-01-21 07:52:32             ArchitecturalStructure   \n",
       "42  2015-01-21 07:44:49                             Artery   \n",
       "43  2015-01-21 07:45:19                ArtificialSatellite   \n",
       "44  2015-01-21 07:52:53                             Artist   \n",
       "45  2015-01-21 07:49:49                  ArtistDiscography   \n",
       "46  2015-01-21 07:53:41                            Artwork   \n",
       "..                  ...                                ...   \n",
       "434 2015-01-21 07:51:51                              Train   \n",
       "435 2015-01-21 07:51:20                             Tunnel   \n",
       "436 2015-01-21 07:45:30                         UnitOfWork   \n",
       "437 2015-01-21 07:52:21                         University   \n",
       "438 2015-01-21 07:50:19                             Valley   \n",
       "439 2015-01-21 07:44:39                               Vein   \n",
       "440 2015-01-21 07:49:09                              Venue   \n",
       "441 2015-01-21 07:52:12                          VideoGame   \n",
       "442 2015-01-21 07:51:29                   VideogamesLeague   \n",
       "443 2015-01-21 07:49:14                            Village   \n",
       "444 2015-01-21 07:45:00                         VoiceActor   \n",
       "445 2015-01-21 07:46:00                            Volcano   \n",
       "446 2015-01-21 07:45:31                    VolleyballCoach   \n",
       "447 2015-01-21 07:51:19                   VolleyballLeague   \n",
       "448 2015-01-21 07:49:29                   VolleyballPlayer   \n",
       "449 2015-01-21 07:43:15                          WaterRide   \n",
       "450 2015-01-21 07:46:45                     WaterwayTunnel   \n",
       "451 2015-01-21 07:52:10                             Weapon   \n",
       "452 2015-01-21 07:47:51                            Website   \n",
       "453 2015-01-21 07:49:50                         WineRegion   \n",
       "454 2015-01-21 07:49:49                             Winery   \n",
       "455 2015-01-21 07:51:51  WomensTennisAssociationTournament   \n",
       "456 2015-01-21 07:46:00                  WorldHeritageSite   \n",
       "457 2015-01-21 07:43:14                           Wrestler   \n",
       "458 2015-01-21 07:45:39                     WrestlingEvent   \n",
       "459 2015-01-21 07:43:33                             Writer   \n",
       "460 2015-01-21 07:51:50                        WrittenWork   \n",
       "461 2015-01-21 07:51:31                               Year   \n",
       "462 2015-01-21 07:44:19                  YearInSpaceflight   \n",
       "463 2015-01-21 07:39:10                               test   \n",
       "\n",
       "         table_modified  table_num_bytes  table_num_rows table_type  \\\n",
       "17  2015-01-21 07:45:01         12143506            5678      TABLE   \n",
       "18  2015-01-21 07:50:21          3023868            1629      TABLE   \n",
       "19  2015-01-21 07:52:21         19115916            6501      TABLE   \n",
       "20  2015-01-21 07:51:53         70336117           21702      TABLE   \n",
       "21  2015-01-21 07:53:05          4517773            1497      TABLE   \n",
       "22  2015-01-21 07:43:23         13710758            9720      TABLE   \n",
       "23  2015-01-21 07:48:55          9590314            3387      TABLE   \n",
       "24  2015-01-21 07:46:46         31847784           13695      TABLE   \n",
       "25  2015-01-21 07:44:39        398611940          123803      TABLE   \n",
       "26  2015-01-21 07:46:00          1088262             407      TABLE   \n",
       "27  2015-01-21 07:43:22          1703502             470      TABLE   \n",
       "28  2015-01-21 07:46:01          1112571             329      TABLE   \n",
       "29  2015-01-21 07:47:55           173896              86      TABLE   \n",
       "30  2015-01-21 07:43:16         50154357           13909      TABLE   \n",
       "31  2015-01-21 07:52:21           224587              96      TABLE   \n",
       "32  2015-01-21 07:51:09         10595161            5893      TABLE   \n",
       "33  2015-01-21 07:43:36          2651409            1265      TABLE   \n",
       "34  2015-01-21 07:44:19          9067836            4478      TABLE   \n",
       "35  2015-01-21 07:54:08        333108398          195176      TABLE   \n",
       "36  2015-01-21 07:43:35           658329             232      TABLE   \n",
       "37  2015-01-21 07:44:39          4349085            4188      TABLE   \n",
       "38  2015-01-21 07:49:56          5915900            3967      TABLE   \n",
       "39  2015-01-21 07:47:08           375171             226      TABLE   \n",
       "40  2015-01-21 07:44:18          6207288            2269      TABLE   \n",
       "41  2015-01-21 07:52:32        608012658          150536      TABLE   \n",
       "42  2015-01-21 07:44:49           761350             376      TABLE   \n",
       "43  2015-01-21 07:45:19          2164486            1921      TABLE   \n",
       "44  2015-01-21 07:52:53        352914242           96300      TABLE   \n",
       "45  2015-01-21 07:49:49          5616242            3494      TABLE   \n",
       "46  2015-01-21 07:53:41          6962745            3753      TABLE   \n",
       "..                  ...              ...             ...        ...   \n",
       "434 2015-01-21 07:51:51          2157505            1307      TABLE   \n",
       "435 2015-01-21 07:51:20           122253              59      TABLE   \n",
       "436 2015-01-21 07:45:30          3103897            2589      TABLE   \n",
       "437 2015-01-21 07:52:21         58222967           19280      TABLE   \n",
       "438 2015-01-21 07:50:19           361212             123      TABLE   \n",
       "439 2015-01-21 07:44:39           413309             244      TABLE   \n",
       "440 2015-01-21 07:49:09          5173580            2151      TABLE   \n",
       "441 2015-01-21 07:52:12         52471271           19301      TABLE   \n",
       "442 2015-01-21 07:51:29            14607               7      TABLE   \n",
       "443 2015-01-21 07:49:14        397096456          160111      TABLE   \n",
       "444 2015-01-21 07:45:00          1345893             571      TABLE   \n",
       "445 2015-01-21 07:46:00          2419500             786      TABLE   \n",
       "446 2015-01-21 07:45:31            75614              29      TABLE   \n",
       "447 2015-01-21 07:51:19           155483              82      TABLE   \n",
       "448 2015-01-21 07:49:29          3610268            1339      TABLE   \n",
       "449 2015-01-21 07:43:15           145444              73      TABLE   \n",
       "450 2015-01-21 07:46:45            53823              19      TABLE   \n",
       "451 2015-01-21 07:52:10         11241824            5409      TABLE   \n",
       "452 2015-01-21 07:47:51          6656402            3639      TABLE   \n",
       "453 2015-01-21 07:49:50           954784             380      TABLE   \n",
       "454 2015-01-21 07:49:49           587499             309      TABLE   \n",
       "455 2015-01-21 07:51:51           161486              61      TABLE   \n",
       "456 2015-01-21 07:46:00          2120747            1025      TABLE   \n",
       "457 2015-01-21 07:43:14          9779536            3828      TABLE   \n",
       "458 2015-01-21 07:45:39          1601160             963      TABLE   \n",
       "459 2015-01-21 07:43:33         85019888           25995      TABLE   \n",
       "460 2015-01-21 07:51:50        162402890           56505      TABLE   \n",
       "461 2015-01-21 07:51:31          3895979            2037      TABLE   \n",
       "462 2015-01-21 07:44:19            67171              60      TABLE   \n",
       "463 2015-01-21 07:56:50       8334409992         1649646      TABLE   \n",
       "\n",
       "     num_columns  \n",
       "17           696  \n",
       "18           633  \n",
       "19          1517  \n",
       "20          2847  \n",
       "21           761  \n",
       "22           766  \n",
       "23          1106  \n",
       "24           789  \n",
       "25          3922  \n",
       "26           469  \n",
       "27          1516  \n",
       "28           478  \n",
       "29           407  \n",
       "30          1221  \n",
       "31           400  \n",
       "32           668  \n",
       "33           327  \n",
       "34           894  \n",
       "35          1101  \n",
       "36           261  \n",
       "37           397  \n",
       "38           572  \n",
       "39           490  \n",
       "40          1058  \n",
       "41          5979  \n",
       "42           446  \n",
       "43           265  \n",
       "44          2319  \n",
       "45           297  \n",
       "46           414  \n",
       "..           ...  \n",
       "434         1126  \n",
       "435          596  \n",
       "436          578  \n",
       "437         1672  \n",
       "438         1781  \n",
       "439          388  \n",
       "440          919  \n",
       "441         1629  \n",
       "442          301  \n",
       "443         1687  \n",
       "444          720  \n",
       "445          667  \n",
       "446          549  \n",
       "447          338  \n",
       "448          673  \n",
       "449          305  \n",
       "450          670  \n",
       "451         1502  \n",
       "452          590  \n",
       "453          577  \n",
       "454          602  \n",
       "455          305  \n",
       "456          335  \n",
       "457          902  \n",
       "458          385  \n",
       "459         1709  \n",
       "460         2811  \n",
       "461         2155  \n",
       "462          727  \n",
       "463         8437  \n",
       "\n",
       "[447 rows x 9 columns]"
      ]
     },
     "execution_count": 262,
     "metadata": {},
     "output_type": "execute_result"
    }
   ],
   "source": [
    "df[df.dataset_id == \"dbpedia2014temp\"]"
   ]
  },
  {
   "cell_type": "code",
   "execution_count": 278,
   "metadata": {},
   "outputs": [],
   "source": [
    "feature_df[\"lineage\"] = df.dataset_id"
   ]
  },
  {
   "cell_type": "code",
   "execution_count": 279,
   "metadata": {},
   "outputs": [],
   "source": [
    "feature_df[\"table_name\"] = df.table_id"
   ]
  },
  {
   "cell_type": "code",
   "execution_count": 280,
   "metadata": {},
   "outputs": [],
   "source": [
    "feature_df[\"cluster_labels\"] = cluster.labels_"
   ]
  },
  {
   "cell_type": "code",
   "execution_count": 281,
   "metadata": {},
   "outputs": [],
   "source": [
    "feature_df.to_csv(\"sample_data.csv\",index=False)"
   ]
  },
  {
   "cell_type": "code",
   "execution_count": 264,
   "metadata": {},
   "outputs": [
    {
     "data": {
      "text/html": [
       "<div>\n",
       "<style scoped>\n",
       "    .dataframe tbody tr th:only-of-type {\n",
       "        vertical-align: middle;\n",
       "    }\n",
       "\n",
       "    .dataframe tbody tr th {\n",
       "        vertical-align: top;\n",
       "    }\n",
       "\n",
       "    .dataframe thead th {\n",
       "        text-align: right;\n",
       "    }\n",
       "</style>\n",
       "<table border=\"1\" class=\"dataframe\">\n",
       "  <thead>\n",
       "    <tr style=\"text-align: right;\">\n",
       "      <th></th>\n",
       "      <th>num_columns</th>\n",
       "      <th>num_days_since_start</th>\n",
       "      <th>num_hours_since_start</th>\n",
       "      <th>num_mins_since_start</th>\n",
       "      <th>lineage</th>\n",
       "      <th>table_name</th>\n",
       "    </tr>\n",
       "  </thead>\n",
       "  <tbody>\n",
       "    <tr>\n",
       "      <th>0</th>\n",
       "      <td>66</td>\n",
       "      <td>68</td>\n",
       "      <td>1652</td>\n",
       "      <td>99120</td>\n",
       "      <td>bigdataspain</td>\n",
       "      <td>aggr_transaction_clean</td>\n",
       "    </tr>\n",
       "    <tr>\n",
       "      <th>1</th>\n",
       "      <td>66</td>\n",
       "      <td>68</td>\n",
       "      <td>1651</td>\n",
       "      <td>99068</td>\n",
       "      <td>bigdataspain</td>\n",
       "      <td>aggr_transactions</td>\n",
       "    </tr>\n",
       "  </tbody>\n",
       "</table>\n",
       "</div>"
      ],
      "text/plain": [
       "   num_columns  num_days_since_start  num_hours_since_start  \\\n",
       "0           66                    68                   1652   \n",
       "1           66                    68                   1651   \n",
       "\n",
       "   num_mins_since_start       lineage              table_name  \n",
       "0                 99120  bigdataspain  aggr_transaction_clean  \n",
       "1                 99068  bigdataspain       aggr_transactions  "
      ]
     },
     "execution_count": 264,
     "metadata": {},
     "output_type": "execute_result"
    }
   ],
   "source": [
    "feature_df.head(2)"
   ]
  },
  {
   "cell_type": "code",
   "execution_count": 266,
   "metadata": {},
   "outputs": [],
   "source": [
    "feature_df.drop(columns=[\"num_columns\",\"lineage\",\"table_name\"],inplace=True)"
   ]
  },
  {
   "cell_type": "code",
   "execution_count": 318,
   "metadata": {},
   "outputs": [],
   "source": [
    "from sklearn.decomposition import PCA"
   ]
  },
  {
   "cell_type": "code",
   "execution_count": 326,
   "metadata": {},
   "outputs": [],
   "source": [
    "feature_df.drop(columns=[\"table_num_rows\"],inplace=True)"
   ]
  },
  {
   "cell_type": "code",
   "execution_count": 327,
   "metadata": {},
   "outputs": [
    {
     "data": {
      "text/html": [
       "<div>\n",
       "<style scoped>\n",
       "    .dataframe tbody tr th:only-of-type {\n",
       "        vertical-align: middle;\n",
       "    }\n",
       "\n",
       "    .dataframe tbody tr th {\n",
       "        vertical-align: top;\n",
       "    }\n",
       "\n",
       "    .dataframe thead th {\n",
       "        text-align: right;\n",
       "    }\n",
       "</style>\n",
       "<table border=\"1\" class=\"dataframe\">\n",
       "  <thead>\n",
       "    <tr style=\"text-align: right;\">\n",
       "      <th></th>\n",
       "      <th>num_columns</th>\n",
       "      <th>day_of_week</th>\n",
       "      <th>day</th>\n",
       "      <th>month</th>\n",
       "      <th>year</th>\n",
       "      <th>minute</th>\n",
       "      <th>hour</th>\n",
       "      <th>qhr</th>\n",
       "      <th>num_days_since_start</th>\n",
       "      <th>num_hours_since_start</th>\n",
       "      <th>num_mins_since_start</th>\n",
       "    </tr>\n",
       "  </thead>\n",
       "  <tbody>\n",
       "    <tr>\n",
       "      <th>0</th>\n",
       "      <td>66</td>\n",
       "      <td>3</td>\n",
       "      <td>7</td>\n",
       "      <td>11</td>\n",
       "      <td>2013</td>\n",
       "      <td>50</td>\n",
       "      <td>18</td>\n",
       "      <td>75</td>\n",
       "      <td>68</td>\n",
       "      <td>1652</td>\n",
       "      <td>99120</td>\n",
       "    </tr>\n",
       "    <tr>\n",
       "      <th>1</th>\n",
       "      <td>66</td>\n",
       "      <td>3</td>\n",
       "      <td>7</td>\n",
       "      <td>11</td>\n",
       "      <td>2013</td>\n",
       "      <td>58</td>\n",
       "      <td>17</td>\n",
       "      <td>71</td>\n",
       "      <td>68</td>\n",
       "      <td>1651</td>\n",
       "      <td>99068</td>\n",
       "    </tr>\n",
       "  </tbody>\n",
       "</table>\n",
       "</div>"
      ],
      "text/plain": [
       "   num_columns  day_of_week  day  month  year  minute  hour  qhr  \\\n",
       "0           66            3    7     11  2013      50    18   75   \n",
       "1           66            3    7     11  2013      58    17   71   \n",
       "\n",
       "   num_days_since_start  num_hours_since_start  num_mins_since_start  \n",
       "0                    68                   1652                 99120  \n",
       "1                    68                   1651                 99068  "
      ]
     },
     "execution_count": 327,
     "metadata": {},
     "output_type": "execute_result"
    }
   ],
   "source": [
    "feature_df.head(2)"
   ]
  },
  {
   "cell_type": "code",
   "execution_count": 328,
   "metadata": {},
   "outputs": [],
   "source": [
    "pca = PCA(n_components=2)"
   ]
  },
  {
   "cell_type": "code",
   "execution_count": 329,
   "metadata": {},
   "outputs": [],
   "source": [
    "pca_X = pca.fit_transform(feature_df.values)"
   ]
  },
  {
   "cell_type": "code",
   "execution_count": 330,
   "metadata": {},
   "outputs": [
    {
     "data": {
      "text/plain": [
       "array([[-1.08847185e+06, -7.92938951e+02],\n",
       "       [-1.08852385e+06, -7.92933489e+02],\n",
       "       [-1.08850886e+06, -7.93009459e+02],\n",
       "       ...,\n",
       "       [ 1.35177650e+06, -1.31273737e+02],\n",
       "       [ 1.39930511e+06, -1.17978167e+02],\n",
       "       [ 1.40354764e+06,  1.14305559e+02]])"
      ]
     },
     "execution_count": 330,
     "metadata": {},
     "output_type": "execute_result"
    }
   ],
   "source": [
    "pca_X"
   ]
  },
  {
   "cell_type": "code",
   "execution_count": 331,
   "metadata": {},
   "outputs": [
    {
     "data": {
      "text/plain": [
       "<matplotlib.collections.PathCollection at 0x7f794d032860>"
      ]
     },
     "execution_count": 331,
     "metadata": {},
     "output_type": "execute_result"
    },
    {
     "data": {
      "image/png": "[encoded data removed]",
      "text/plain": [
       "<Figure size 432x288 with 1 Axes>"
      ]
     },
     "metadata": {
      "needs_background": "light"
     },
     "output_type": "display_data"
    }
   ],
   "source": [
    "plt.scatter(pca_X[:, 0], pca_X[:, 1])"
   ]
  },
  {
   "cell_type": "code",
   "execution_count": null,
   "metadata": {},
   "outputs": [],
   "source": [
    "feature_df.drop(col)"
   ]
  },
  {
   "cell_type": "code",
   "execution_count": 245,
   "metadata": {},
   "outputs": [],
   "source": [
    "from sklearn.cluster import KMeans"
   ]
  },
  {
   "cell_type": "code",
   "execution_count": 246,
   "metadata": {},
   "outputs": [],
   "source": [
    "from sklearn.preprocessing import StandardScaler"
   ]
  },
  {
   "cell_type": "code",
   "execution_count": 251,
   "metadata": {},
   "outputs": [],
   "source": [
    "X = feature_df.values"
   ]
  },
  {
   "cell_type": "code",
   "execution_count": 252,
   "metadata": {},
   "outputs": [
    {
     "name": "stderr",
     "output_type": "stream",
     "text": [
      "/home/krishna/anaconda3/envs/py36/lib/python3.6/site-packages/sklearn/utils/validation.py:595: DataConversionWarning: Data with input dtype int64 was converted to float64 by StandardScaler.\n",
      "  warnings.warn(msg, DataConversionWarning)\n",
      "/home/krishna/anaconda3/envs/py36/lib/python3.6/site-packages/sklearn/utils/validation.py:595: DataConversionWarning: Data with input dtype int64 was converted to float64 by StandardScaler.\n",
      "  warnings.warn(msg, DataConversionWarning)\n"
     ]
    }
   ],
   "source": [
    "scaled_X = StandardScaler().fit_transform(X)"
   ]
  },
  {
   "cell_type": "code",
   "execution_count": 276,
   "metadata": {},
   "outputs": [],
   "source": [
    "cluster = KMeans(n_clusters=23).fit(pca_X)"
   ]
  },
  {
   "cell_type": "code",
   "execution_count": 277,
   "metadata": {},
   "outputs": [
    {
     "data": {
      "text/plain": [
       "array([13, 13, 13, ...,  4,  4,  4], dtype=int32)"
      ]
     },
     "execution_count": 277,
     "metadata": {},
     "output_type": "execute_result"
    }
   ],
   "source": [
    "cluster.labels_"
   ]
  },
  {
   "cell_type": "code",
   "execution_count": 168,
   "metadata": {},
   "outputs": [
    {
     "data": {
      "text/plain": [
       "(76, 9)"
      ]
     },
     "execution_count": 168,
     "metadata": {},
     "output_type": "execute_result"
    }
   ],
   "source": [
    "df[df.dataset_id == \"public_dump\"].shape"
   ]
  },
  {
   "cell_type": "code",
   "execution_count": 239,
   "metadata": {},
   "outputs": [],
   "source": [
    "from sklearn.metrics import silhouette_samples, silhouette_score"
   ]
  },
  {
   "cell_type": "code",
   "execution_count": 332,
   "metadata": {},
   "outputs": [
    {
     "name": "stdout",
     "output_type": "stream",
     "text": [
      "For n_clusters = 2 The average silhouette_score is : 0.7759260517366795\n",
      "For n_clusters = 3 The average silhouette_score is : 0.7495423841286066\n",
      "For n_clusters = 4 The average silhouette_score is : 0.7985499615183606\n",
      "For n_clusters = 5 The average silhouette_score is : 0.7972147005668129\n",
      "For n_clusters = 6 The average silhouette_score is : 0.8080600259157689\n",
      "For n_clusters = 7 The average silhouette_score is : 0.7989735659317587\n",
      "For n_clusters = 8 The average silhouette_score is : 0.8010607360095913\n",
      "For n_clusters = 9 The average silhouette_score is : 0.8114485460794221\n",
      "For n_clusters = 10 The average silhouette_score is : 0.81581029830001\n",
      "For n_clusters = 11 The average silhouette_score is : 0.8172097159552407\n",
      "For n_clusters = 12 The average silhouette_score is : 0.8173809257739733\n",
      "For n_clusters = 13 The average silhouette_score is : 0.8221798482532289\n",
      "For n_clusters = 14 The average silhouette_score is : 0.8239299866470675\n",
      "For n_clusters = 15 The average silhouette_score is : 0.8350306007568645\n",
      "For n_clusters = 16 The average silhouette_score is : 0.8367592284152453\n",
      "For n_clusters = 17 The average silhouette_score is : 0.8490408072920963\n",
      "For n_clusters = 18 The average silhouette_score is : 0.8548812099700589\n",
      "For n_clusters = 19 The average silhouette_score is : 0.8564588688494773\n",
      "For n_clusters = 20 The average silhouette_score is : 0.8605051738683052\n",
      "For n_clusters = 21 The average silhouette_score is : 0.8638132751540128\n",
      "For n_clusters = 22 The average silhouette_score is : 0.8678018053043135\n",
      "For n_clusters = 23 The average silhouette_score is : 0.8711350334827719\n",
      "For n_clusters = 24 The average silhouette_score is : 0.8661431630679363\n",
      "For n_clusters = 25 The average silhouette_score is : 0.8506314896190987\n",
      "For n_clusters = 26 The average silhouette_score is : 0.8520660763348766\n",
      "For n_clusters = 27 The average silhouette_score is : 0.8509979134573545\n",
      "For n_clusters = 28 The average silhouette_score is : 0.8523045165992513\n",
      "For n_clusters = 29 The average silhouette_score is : 0.8533067705170942\n",
      "For n_clusters = 30 The average silhouette_score is : 0.8263517171239972\n",
      "For n_clusters = 31 The average silhouette_score is : 0.827241588619192\n",
      "For n_clusters = 32 The average silhouette_score is : 0.8533917308547257\n",
      "For n_clusters = 33 The average silhouette_score is : 0.8292606652083568\n",
      "For n_clusters = 34 The average silhouette_score is : 0.8314522887153343\n",
      "For n_clusters = 35 The average silhouette_score is : 0.8287643606885681\n",
      "For n_clusters = 36 The average silhouette_score is : 0.8346103511584184\n",
      "For n_clusters = 37 The average silhouette_score is : 0.833688899345703\n",
      "For n_clusters = 38 The average silhouette_score is : 0.8329094734653013\n",
      "For n_clusters = 39 The average silhouette_score is : 0.8399197647396531\n"
     ]
    }
   ],
   "source": [
    "sum_squared_distance = []\n",
    "num_clusters = [_ for _ in range(2,40)]\n",
    "for k in num_clusters:\n",
    "    km = KMeans(n_clusters=k)\n",
    "    km = km.fit(scaled_X)\n",
    "    cluster_labels = km.fit_predict(pca_X)\n",
    "    silhouette_avg = silhouette_score(pca_X, cluster_labels)\n",
    "    sum_squared_distance.append(km.inertia_)\n",
    "    print(\"For n_clusters =\", k,\n",
    "          \"The average silhouette_score is :\", silhouette_avg)"
   ]
  },
  {
   "cell_type": "code",
   "execution_count": 333,
   "metadata": {},
   "outputs": [],
   "source": [
    "kmeans = KMeans(n_clusters=23)\n",
    "kmeans.fit(pca_X)\n",
    "y_kmeans = kmeans.predict(pca_X)"
   ]
  },
  {
   "cell_type": "code",
   "execution_count": 335,
   "metadata": {},
   "outputs": [
    {
     "data": {
      "text/plain": [
       "<matplotlib.collections.PathCollection at 0x7f794cefc630>"
      ]
     },
     "execution_count": 335,
     "metadata": {},
     "output_type": "execute_result"
    },
    {
     "data": {
      "image/png": "[encoded data removed]",
      "text/plain": [
       "<Figure size 432x288 with 1 Axes>"
      ]
     },
     "metadata": {
      "needs_background": "light"
     },
     "output_type": "display_data"
    }
   ],
   "source": [
    "plt.scatter(pca_X[:, 0], pca_X[:, 1], c=y_kmeans, s=50, cmap='viridis')\n",
    "\n"
   ]
  },
  {
   "cell_type": "code",
   "execution_count": 273,
   "metadata": {},
   "outputs": [
    {
     "name": "stdout",
     "output_type": "stream",
     "text": [
      "For n_clusters = 2 The average silhouette_score is : 0.7760627612543687\n",
      "For n_clusters = 3 The average silhouette_score is : 0.7499763012679149\n",
      "For n_clusters = 4 The average silhouette_score is : 0.7990872565527362\n",
      "For n_clusters = 5 The average silhouette_score is : 0.7977562296550005\n",
      "For n_clusters = 6 The average silhouette_score is : 0.8088849011532285\n",
      "For n_clusters = 7 The average silhouette_score is : 0.8024990185596321\n",
      "For n_clusters = 8 The average silhouette_score is : 0.8019083778517014\n",
      "For n_clusters = 9 The average silhouette_score is : 0.8123013730978144\n",
      "For n_clusters = 10 The average silhouette_score is : 0.8131497033907654\n",
      "For n_clusters = 11 The average silhouette_score is : 0.8185692842273506\n",
      "For n_clusters = 12 The average silhouette_score is : 0.8181028476046563\n",
      "For n_clusters = 13 The average silhouette_score is : 0.8240616953625496\n",
      "For n_clusters = 14 The average silhouette_score is : 0.8258306897794128\n",
      "For n_clusters = 15 The average silhouette_score is : 0.8340296438659385\n",
      "For n_clusters = 16 The average silhouette_score is : 0.8384271478945815\n",
      "For n_clusters = 17 The average silhouette_score is : 0.8511878799367545\n",
      "For n_clusters = 18 The average silhouette_score is : 0.8513594114886839\n",
      "For n_clusters = 19 The average silhouette_score is : 0.8595322141106965\n",
      "For n_clusters = 20 The average silhouette_score is : 0.8606295598349964\n",
      "For n_clusters = 21 The average silhouette_score is : 0.8614636232191464\n",
      "For n_clusters = 22 The average silhouette_score is : 0.8693771300053127\n",
      "For n_clusters = 23 The average silhouette_score is : 0.8728338897222546\n",
      "For n_clusters = 24 The average silhouette_score is : 0.8512725681305171\n",
      "For n_clusters = 25 The average silhouette_score is : 0.8598621634782856\n",
      "For n_clusters = 26 The average silhouette_score is : 0.8592167381942384\n",
      "For n_clusters = 27 The average silhouette_score is : 0.8610462040235608\n",
      "For n_clusters = 28 The average silhouette_score is : 0.8583811724726275\n",
      "For n_clusters = 29 The average silhouette_score is : 0.8524268596142841\n",
      "For n_clusters = 30 The average silhouette_score is : 0.8593149580328512\n",
      "For n_clusters = 31 The average silhouette_score is : 0.8627675931054282\n",
      "For n_clusters = 32 The average silhouette_score is : 0.8594126528753206\n",
      "For n_clusters = 33 The average silhouette_score is : 0.8614005412453765\n",
      "For n_clusters = 34 The average silhouette_score is : 0.8603711521387087\n",
      "For n_clusters = 35 The average silhouette_score is : 0.8643392011323969\n",
      "For n_clusters = 36 The average silhouette_score is : 0.8633682251678777\n",
      "For n_clusters = 37 The average silhouette_score is : 0.865974615953332\n",
      "For n_clusters = 38 The average silhouette_score is : 0.8679853710810603\n",
      "For n_clusters = 39 The average silhouette_score is : 0.8685698855705387\n"
     ]
    }
   ],
   "source": [
    "sum_squared_distance = []\n",
    "num_clusters = [_ for _ in range(2,40)]\n",
    "for k in num_clusters:\n",
    "    km = KMeans(n_clusters=k)\n",
    "    km = km.fit(scaled_X)\n",
    "    cluster_labels = km.fit_predict(pca_X)\n",
    "    silhouette_avg = silhouette_score(pca_X, cluster_labels)\n",
    "    sum_squared_distance.append(km.inertia_)\n",
    "    print(\"For n_clusters =\", k,\n",
    "          \"The average silhouette_score is :\", silhouette_avg)"
   ]
  },
  {
   "cell_type": "code",
   "execution_count": 336,
   "metadata": {},
   "outputs": [
    {
     "data": {
      "image/png": "[encoded data removed]",
      "text/plain": [
       "<Figure size 432x288 with 1 Axes>"
      ]
     },
     "metadata": {
      "needs_background": "light"
     },
     "output_type": "display_data"
    }
   ],
   "source": [
    "plt.plot(num_clusters, sum_squared_distance, 'bx-')\n",
    "plt.xlabel('num_of_clusters')\n",
    "plt.ylabel('Sum_of_squared_distances')\n",
    "plt.title('Elbow Method For Optimal k')\n",
    "plt.show()"
   ]
  },
  {
   "cell_type": "code",
   "execution_count": 166,
   "metadata": {},
   "outputs": [
    {
     "data": {
      "text/plain": [
       "['bigdataspain',\n",
       " 'censo_chile',\n",
       " 'dbpedia',\n",
       " 'dbpedia2014temp',\n",
       " 'fivethirtyeight_uber',\n",
       " 'freebase20140119',\n",
       " 'geocode',\n",
       " 'ghtorrent',\n",
       " 'github_extracts',\n",
       " 'hackernews',\n",
       " 'leadahq_challenge',\n",
       " 'liquor',\n",
       " 'mexico',\n",
       " 'mta_nyc_si',\n",
       " 'nyc',\n",
       " 'openlibrary',\n",
       " 'opensecrets',\n",
       " 'popular_names',\n",
       " 'public_dump',\n",
       " 'pypi',\n",
       " 'python_extracts',\n",
       " 'reddit',\n",
       " 'reddit_comments',\n",
       " 'reddit_extracts',\n",
       " 'reddit_posts',\n",
       " 'reddit_v2',\n",
       " 'sheets',\n",
       " 'stackoverflow',\n",
       " 'stackoverflow_archive',\n",
       " 'test_acousticbrainz',\n",
       " 'weather_gsod',\n",
       " 'wikidata',\n",
       " 'wikipedia',\n",
       " 'wikipedia_extracts',\n",
       " 'wikipedia_v2',\n",
       " 'wikipedia_v3',\n",
       " 'wikipedia_vt']"
      ]
     },
     "execution_count": 166,
     "metadata": {},
     "output_type": "execute_result"
    }
   ],
   "source": [
    "df.dataset_id.unique().tolist()"
   ]
  },
  {
   "cell_type": "code",
   "execution_count": 337,
   "metadata": {},
   "outputs": [
    {
     "data": {
      "text/html": [
       "<div>\n",
       "<style scoped>\n",
       "    .dataframe tbody tr th:only-of-type {\n",
       "        vertical-align: middle;\n",
       "    }\n",
       "\n",
       "    .dataframe tbody tr th {\n",
       "        vertical-align: top;\n",
       "    }\n",
       "\n",
       "    .dataframe thead th {\n",
       "        text-align: right;\n",
       "    }\n",
       "</style>\n",
       "<table border=\"1\" class=\"dataframe\">\n",
       "  <thead>\n",
       "    <tr style=\"text-align: right;\">\n",
       "      <th></th>\n",
       "      <th>num_columns</th>\n",
       "      <th>day_of_week</th>\n",
       "      <th>day</th>\n",
       "      <th>month</th>\n",
       "      <th>year</th>\n",
       "      <th>minute</th>\n",
       "      <th>hour</th>\n",
       "      <th>qhr</th>\n",
       "      <th>num_days_since_start</th>\n",
       "      <th>num_hours_since_start</th>\n",
       "      <th>num_mins_since_start</th>\n",
       "    </tr>\n",
       "  </thead>\n",
       "  <tbody>\n",
       "    <tr>\n",
       "      <th>0</th>\n",
       "      <td>66</td>\n",
       "      <td>3</td>\n",
       "      <td>7</td>\n",
       "      <td>11</td>\n",
       "      <td>2013</td>\n",
       "      <td>50</td>\n",
       "      <td>18</td>\n",
       "      <td>75</td>\n",
       "      <td>68</td>\n",
       "      <td>1652</td>\n",
       "      <td>99120</td>\n",
       "    </tr>\n",
       "    <tr>\n",
       "      <th>1</th>\n",
       "      <td>66</td>\n",
       "      <td>3</td>\n",
       "      <td>7</td>\n",
       "      <td>11</td>\n",
       "      <td>2013</td>\n",
       "      <td>58</td>\n",
       "      <td>17</td>\n",
       "      <td>71</td>\n",
       "      <td>68</td>\n",
       "      <td>1651</td>\n",
       "      <td>99068</td>\n",
       "    </tr>\n",
       "  </tbody>\n",
       "</table>\n",
       "</div>"
      ],
      "text/plain": [
       "   num_columns  day_of_week  day  month  year  minute  hour  qhr  \\\n",
       "0           66            3    7     11  2013      50    18   75   \n",
       "1           66            3    7     11  2013      58    17   71   \n",
       "\n",
       "   num_days_since_start  num_hours_since_start  num_mins_since_start  \n",
       "0                    68                   1652                 99120  \n",
       "1                    68                   1651                 99068  "
      ]
     },
     "execution_count": 337,
     "metadata": {},
     "output_type": "execute_result"
    }
   ],
   "source": [
    "feature_df.head(2)"
   ]
  },
  {
   "cell_type": "code",
   "execution_count": 339,
   "metadata": {},
   "outputs": [
    {
     "data": {
      "text/html": [
       "<div>\n",
       "<style scoped>\n",
       "    .dataframe tbody tr th:only-of-type {\n",
       "        vertical-align: middle;\n",
       "    }\n",
       "\n",
       "    .dataframe tbody tr th {\n",
       "        vertical-align: top;\n",
       "    }\n",
       "\n",
       "    .dataframe thead th {\n",
       "        text-align: right;\n",
       "    }\n",
       "</style>\n",
       "<table border=\"1\" class=\"dataframe\">\n",
       "  <thead>\n",
       "    <tr style=\"text-align: right;\">\n",
       "      <th></th>\n",
       "      <th>dataset_id</th>\n",
       "      <th>table_columns</th>\n",
       "      <th>table_created</th>\n",
       "      <th>table_id</th>\n",
       "      <th>table_modified</th>\n",
       "      <th>table_num_bytes</th>\n",
       "      <th>table_num_rows</th>\n",
       "      <th>table_type</th>\n",
       "      <th>num_columns</th>\n",
       "    </tr>\n",
       "  </thead>\n",
       "  <tbody>\n",
       "    <tr>\n",
       "      <th>0</th>\n",
       "      <td>bigdataspain</td>\n",
       "      <td>['transaction', 'frm_amount', 'to_amount', 'ti...</td>\n",
       "      <td>2013-11-07 18:50:43</td>\n",
       "      <td>aggr_transaction_clean</td>\n",
       "      <td>2013-11-07 18:50:43</td>\n",
       "      <td>630730636</td>\n",
       "      <td>3846825</td>\n",
       "      <td>TABLE</td>\n",
       "      <td>66</td>\n",
       "    </tr>\n",
       "    <tr>\n",
       "      <th>1</th>\n",
       "      <td>bigdataspain</td>\n",
       "      <td>['transaction', 'frm_amount', 'to_amount', 'ti...</td>\n",
       "      <td>2013-11-07 17:58:36</td>\n",
       "      <td>aggr_transactions</td>\n",
       "      <td>2013-11-07 18:04:12</td>\n",
       "      <td>696837724</td>\n",
       "      <td>4249917</td>\n",
       "      <td>TABLE</td>\n",
       "      <td>66</td>\n",
       "    </tr>\n",
       "  </tbody>\n",
       "</table>\n",
       "</div>"
      ],
      "text/plain": [
       "     dataset_id                                      table_columns  \\\n",
       "0  bigdataspain  ['transaction', 'frm_amount', 'to_amount', 'ti...   \n",
       "1  bigdataspain  ['transaction', 'frm_amount', 'to_amount', 'ti...   \n",
       "\n",
       "        table_created                table_id      table_modified  \\\n",
       "0 2013-11-07 18:50:43  aggr_transaction_clean 2013-11-07 18:50:43   \n",
       "1 2013-11-07 17:58:36       aggr_transactions 2013-11-07 18:04:12   \n",
       "\n",
       "   table_num_bytes  table_num_rows table_type  num_columns  \n",
       "0        630730636         3846825      TABLE           66  \n",
       "1        696837724         4249917      TABLE           66  "
      ]
     },
     "execution_count": 339,
     "metadata": {},
     "output_type": "execute_result"
    }
   ],
   "source": [
    "df.head(2)"
   ]
  },
  {
   "cell_type": "code",
   "execution_count": 340,
   "metadata": {},
   "outputs": [],
   "source": [
    "feature_df[\"col_names\"] = df.table_columns"
   ]
  },
  {
   "cell_type": "code",
   "execution_count": 353,
   "metadata": {},
   "outputs": [],
   "source": [
    "feature_df[\"cols\"] = feature_df.apply(lambda x : \" \".join(ast.literal_eval(x[\"col_names\"])),axis =1)"
   ]
  },
  {
   "cell_type": "code",
   "execution_count": 354,
   "metadata": {},
   "outputs": [
    {
     "data": {
      "text/html": [
       "<div>\n",
       "<style scoped>\n",
       "    .dataframe tbody tr th:only-of-type {\n",
       "        vertical-align: middle;\n",
       "    }\n",
       "\n",
       "    .dataframe tbody tr th {\n",
       "        vertical-align: top;\n",
       "    }\n",
       "\n",
       "    .dataframe thead th {\n",
       "        text-align: right;\n",
       "    }\n",
       "</style>\n",
       "<table border=\"1\" class=\"dataframe\">\n",
       "  <thead>\n",
       "    <tr style=\"text-align: right;\">\n",
       "      <th></th>\n",
       "      <th>num_columns</th>\n",
       "      <th>day_of_week</th>\n",
       "      <th>day</th>\n",
       "      <th>month</th>\n",
       "      <th>year</th>\n",
       "      <th>minute</th>\n",
       "      <th>hour</th>\n",
       "      <th>qhr</th>\n",
       "      <th>num_days_since_start</th>\n",
       "      <th>num_hours_since_start</th>\n",
       "      <th>num_mins_since_start</th>\n",
       "      <th>col_names</th>\n",
       "      <th>cols</th>\n",
       "    </tr>\n",
       "  </thead>\n",
       "  <tbody>\n",
       "    <tr>\n",
       "      <th>0</th>\n",
       "      <td>66</td>\n",
       "      <td>3</td>\n",
       "      <td>7</td>\n",
       "      <td>11</td>\n",
       "      <td>2013</td>\n",
       "      <td>50</td>\n",
       "      <td>18</td>\n",
       "      <td>75</td>\n",
       "      <td>68</td>\n",
       "      <td>1652</td>\n",
       "      <td>99120</td>\n",
       "      <td>['transaction', 'frm_amount', 'to_amount', 'ti...</td>\n",
       "      <td>transaction frm_amount to_amount time block hsh</td>\n",
       "    </tr>\n",
       "    <tr>\n",
       "      <th>1</th>\n",
       "      <td>66</td>\n",
       "      <td>3</td>\n",
       "      <td>7</td>\n",
       "      <td>11</td>\n",
       "      <td>2013</td>\n",
       "      <td>58</td>\n",
       "      <td>17</td>\n",
       "      <td>71</td>\n",
       "      <td>68</td>\n",
       "      <td>1651</td>\n",
       "      <td>99068</td>\n",
       "      <td>['transaction', 'frm_amount', 'to_amount', 'ti...</td>\n",
       "      <td>transaction frm_amount to_amount time block hsh</td>\n",
       "    </tr>\n",
       "  </tbody>\n",
       "</table>\n",
       "</div>"
      ],
      "text/plain": [
       "   num_columns  day_of_week  day  month  year  minute  hour  qhr  \\\n",
       "0           66            3    7     11  2013      50    18   75   \n",
       "1           66            3    7     11  2013      58    17   71   \n",
       "\n",
       "   num_days_since_start  num_hours_since_start  num_mins_since_start  \\\n",
       "0                    68                   1652                 99120   \n",
       "1                    68                   1651                 99068   \n",
       "\n",
       "                                           col_names  \\\n",
       "0  ['transaction', 'frm_amount', 'to_amount', 'ti...   \n",
       "1  ['transaction', 'frm_amount', 'to_amount', 'ti...   \n",
       "\n",
       "                                              cols  \n",
       "0  transaction frm_amount to_amount time block hsh  \n",
       "1  transaction frm_amount to_amount time block hsh  "
      ]
     },
     "execution_count": 354,
     "metadata": {},
     "output_type": "execute_result"
    }
   ],
   "source": [
    "feature_df.head(2)"
   ]
  },
  {
   "cell_type": "code",
   "execution_count": 343,
   "metadata": {},
   "outputs": [],
   "source": [
    "from sklearn.feature_extraction.text import CountVectorizer"
   ]
  },
  {
   "cell_type": "code",
   "execution_count": 344,
   "metadata": {},
   "outputs": [],
   "source": [
    "vectorizer = CountVectorizer()"
   ]
  },
  {
   "cell_type": "code",
   "execution_count": 355,
   "metadata": {},
   "outputs": [
    {
     "data": {
      "text/plain": [
       "CountVectorizer(analyzer='word', binary=False, decode_error='strict',\n",
       "        dtype=<class 'numpy.int64'>, encoding='utf-8', input='content',\n",
       "        lowercase=True, max_df=1.0, max_features=None, min_df=1,\n",
       "        ngram_range=(1, 1), preprocessor=None, stop_words=None,\n",
       "        strip_accents=None, token_pattern='(?u)\\\\b\\\\w\\\\w+\\\\b',\n",
       "        tokenizer=None, vocabulary=None)"
      ]
     },
     "execution_count": 355,
     "metadata": {},
     "output_type": "execute_result"
    }
   ],
   "source": [
    "vectorizer.fit(feature_df.cols)"
   ]
  },
  {
   "cell_type": "code",
   "execution_count": 357,
   "metadata": {},
   "outputs": [
    {
     "data": {
      "text/plain": [
       "3811"
      ]
     },
     "execution_count": 357,
     "metadata": {},
     "output_type": "execute_result"
    }
   ],
   "source": [
    "len(vectorizer.get_feature_names())"
   ]
  },
  {
   "cell_type": "code",
   "execution_count": 366,
   "metadata": {},
   "outputs": [],
   "source": [
    "cols_df = pd.DataFrame(vectorizer.transform(feature_df.cols).toarray(),columns=vectorizer.get_feature_names())"
   ]
  },
  {
   "cell_type": "code",
   "execution_count": 367,
   "metadata": {},
   "outputs": [
    {
     "data": {
      "text/html": [
       "<div>\n",
       "<style scoped>\n",
       "    .dataframe tbody tr th:only-of-type {\n",
       "        vertical-align: middle;\n",
       "    }\n",
       "\n",
       "    .dataframe tbody tr th {\n",
       "        vertical-align: top;\n",
       "    }\n",
       "\n",
       "    .dataframe thead th {\n",
       "        text-align: right;\n",
       "    }\n",
       "</style>\n",
       "<table border=\"1\" class=\"dataframe\">\n",
       "  <thead>\n",
       "    <tr style=\"text-align: right;\">\n",
       "      <th></th>\n",
       "      <th>_22_rdf_syntax_ns_type</th>\n",
       "      <th>_22_rdf_syntax_ns_type_label</th>\n",
       "      <th>a_authors</th>\n",
       "      <th>a_title</th>\n",
       "      <th>abbreviation</th>\n",
       "      <th>about_me</th>\n",
       "      <th>absolutemagnitude</th>\n",
       "      <th>academicadvisor</th>\n",
       "      <th>academicadvisor_label</th>\n",
       "      <th>academicdiscipline</th>\n",
       "      <th>...</th>\n",
       "      <th>yearofconstruction</th>\n",
       "      <th>yearofelectrification</th>\n",
       "      <th>years</th>\n",
       "      <th>yearscodedjob</th>\n",
       "      <th>yearscodedjobpast</th>\n",
       "      <th>yearsprogram</th>\n",
       "      <th>youthwing</th>\n",
       "      <th>youthwing_label</th>\n",
       "      <th>zip</th>\n",
       "      <th>zipcode</th>\n",
       "    </tr>\n",
       "  </thead>\n",
       "  <tbody>\n",
       "    <tr>\n",
       "      <th>0</th>\n",
       "      <td>0</td>\n",
       "      <td>0</td>\n",
       "      <td>0</td>\n",
       "      <td>0</td>\n",
       "      <td>0</td>\n",
       "      <td>0</td>\n",
       "      <td>0</td>\n",
       "      <td>0</td>\n",
       "      <td>0</td>\n",
       "      <td>0</td>\n",
       "      <td>...</td>\n",
       "      <td>0</td>\n",
       "      <td>0</td>\n",
       "      <td>0</td>\n",
       "      <td>0</td>\n",
       "      <td>0</td>\n",
       "      <td>0</td>\n",
       "      <td>0</td>\n",
       "      <td>0</td>\n",
       "      <td>0</td>\n",
       "      <td>0</td>\n",
       "    </tr>\n",
       "    <tr>\n",
       "      <th>1</th>\n",
       "      <td>0</td>\n",
       "      <td>0</td>\n",
       "      <td>0</td>\n",
       "      <td>0</td>\n",
       "      <td>0</td>\n",
       "      <td>0</td>\n",
       "      <td>0</td>\n",
       "      <td>0</td>\n",
       "      <td>0</td>\n",
       "      <td>0</td>\n",
       "      <td>...</td>\n",
       "      <td>0</td>\n",
       "      <td>0</td>\n",
       "      <td>0</td>\n",
       "      <td>0</td>\n",
       "      <td>0</td>\n",
       "      <td>0</td>\n",
       "      <td>0</td>\n",
       "      <td>0</td>\n",
       "      <td>0</td>\n",
       "      <td>0</td>\n",
       "    </tr>\n",
       "  </tbody>\n",
       "</table>\n",
       "<p>2 rows × 3811 columns</p>\n",
       "</div>"
      ],
      "text/plain": [
       "   _22_rdf_syntax_ns_type  _22_rdf_syntax_ns_type_label  a_authors  a_title  \\\n",
       "0                       0                             0          0        0   \n",
       "1                       0                             0          0        0   \n",
       "\n",
       "   abbreviation  about_me  absolutemagnitude  academicadvisor  \\\n",
       "0             0         0                  0                0   \n",
       "1             0         0                  0                0   \n",
       "\n",
       "   academicadvisor_label  academicdiscipline   ...     yearofconstruction  \\\n",
       "0                      0                   0   ...                      0   \n",
       "1                      0                   0   ...                      0   \n",
       "\n",
       "   yearofelectrification  years  yearscodedjob  yearscodedjobpast  \\\n",
       "0                      0      0              0                  0   \n",
       "1                      0      0              0                  0   \n",
       "\n",
       "   yearsprogram  youthwing  youthwing_label  zip  zipcode  \n",
       "0             0          0                0    0        0  \n",
       "1             0          0                0    0        0  \n",
       "\n",
       "[2 rows x 3811 columns]"
      ]
     },
     "execution_count": 367,
     "metadata": {},
     "output_type": "execute_result"
    }
   ],
   "source": [
    "cols_df.head(2)"
   ]
  },
  {
   "cell_type": "code",
   "execution_count": 368,
   "metadata": {},
   "outputs": [
    {
     "data": {
      "text/html": [
       "<div>\n",
       "<style scoped>\n",
       "    .dataframe tbody tr th:only-of-type {\n",
       "        vertical-align: middle;\n",
       "    }\n",
       "\n",
       "    .dataframe tbody tr th {\n",
       "        vertical-align: top;\n",
       "    }\n",
       "\n",
       "    .dataframe thead th {\n",
       "        text-align: right;\n",
       "    }\n",
       "</style>\n",
       "<table border=\"1\" class=\"dataframe\">\n",
       "  <thead>\n",
       "    <tr style=\"text-align: right;\">\n",
       "      <th></th>\n",
       "      <th>num_columns</th>\n",
       "      <th>day_of_week</th>\n",
       "      <th>day</th>\n",
       "      <th>month</th>\n",
       "      <th>year</th>\n",
       "      <th>minute</th>\n",
       "      <th>hour</th>\n",
       "      <th>qhr</th>\n",
       "      <th>num_days_since_start</th>\n",
       "      <th>num_hours_since_start</th>\n",
       "      <th>num_mins_since_start</th>\n",
       "      <th>col_names</th>\n",
       "      <th>cols</th>\n",
       "    </tr>\n",
       "  </thead>\n",
       "  <tbody>\n",
       "    <tr>\n",
       "      <th>0</th>\n",
       "      <td>66</td>\n",
       "      <td>3</td>\n",
       "      <td>7</td>\n",
       "      <td>11</td>\n",
       "      <td>2013</td>\n",
       "      <td>50</td>\n",
       "      <td>18</td>\n",
       "      <td>75</td>\n",
       "      <td>68</td>\n",
       "      <td>1652</td>\n",
       "      <td>99120</td>\n",
       "      <td>['transaction', 'frm_amount', 'to_amount', 'ti...</td>\n",
       "      <td>transaction frm_amount to_amount time block hsh</td>\n",
       "    </tr>\n",
       "    <tr>\n",
       "      <th>1</th>\n",
       "      <td>66</td>\n",
       "      <td>3</td>\n",
       "      <td>7</td>\n",
       "      <td>11</td>\n",
       "      <td>2013</td>\n",
       "      <td>58</td>\n",
       "      <td>17</td>\n",
       "      <td>71</td>\n",
       "      <td>68</td>\n",
       "      <td>1651</td>\n",
       "      <td>99068</td>\n",
       "      <td>['transaction', 'frm_amount', 'to_amount', 'ti...</td>\n",
       "      <td>transaction frm_amount to_amount time block hsh</td>\n",
       "    </tr>\n",
       "  </tbody>\n",
       "</table>\n",
       "</div>"
      ],
      "text/plain": [
       "   num_columns  day_of_week  day  month  year  minute  hour  qhr  \\\n",
       "0           66            3    7     11  2013      50    18   75   \n",
       "1           66            3    7     11  2013      58    17   71   \n",
       "\n",
       "   num_days_since_start  num_hours_since_start  num_mins_since_start  \\\n",
       "0                    68                   1652                 99120   \n",
       "1                    68                   1651                 99068   \n",
       "\n",
       "                                           col_names  \\\n",
       "0  ['transaction', 'frm_amount', 'to_amount', 'ti...   \n",
       "1  ['transaction', 'frm_amount', 'to_amount', 'ti...   \n",
       "\n",
       "                                              cols  \n",
       "0  transaction frm_amount to_amount time block hsh  \n",
       "1  transaction frm_amount to_amount time block hsh  "
      ]
     },
     "execution_count": 368,
     "metadata": {},
     "output_type": "execute_result"
    }
   ],
   "source": [
    "feature_df.head(2)"
   ]
  },
  {
   "cell_type": "code",
   "execution_count": 369,
   "metadata": {},
   "outputs": [],
   "source": [
    "feature_df.drop(columns=[\"col_names\",\"cols\"],inplace=True)"
   ]
  },
  {
   "cell_type": "code",
   "execution_count": 373,
   "metadata": {},
   "outputs": [],
   "source": [
    "fin_df = pd.concat([feature_df,cols_df],axis =1)"
   ]
  },
  {
   "cell_type": "code",
   "execution_count": 374,
   "metadata": {},
   "outputs": [
    {
     "data": {
      "text/html": [
       "<div>\n",
       "<style scoped>\n",
       "    .dataframe tbody tr th:only-of-type {\n",
       "        vertical-align: middle;\n",
       "    }\n",
       "\n",
       "    .dataframe tbody tr th {\n",
       "        vertical-align: top;\n",
       "    }\n",
       "\n",
       "    .dataframe thead th {\n",
       "        text-align: right;\n",
       "    }\n",
       "</style>\n",
       "<table border=\"1\" class=\"dataframe\">\n",
       "  <thead>\n",
       "    <tr style=\"text-align: right;\">\n",
       "      <th></th>\n",
       "      <th>num_columns</th>\n",
       "      <th>day_of_week</th>\n",
       "      <th>day</th>\n",
       "      <th>month</th>\n",
       "      <th>year</th>\n",
       "      <th>minute</th>\n",
       "      <th>hour</th>\n",
       "      <th>qhr</th>\n",
       "      <th>num_days_since_start</th>\n",
       "      <th>num_hours_since_start</th>\n",
       "      <th>...</th>\n",
       "      <th>yearofconstruction</th>\n",
       "      <th>yearofelectrification</th>\n",
       "      <th>years</th>\n",
       "      <th>yearscodedjob</th>\n",
       "      <th>yearscodedjobpast</th>\n",
       "      <th>yearsprogram</th>\n",
       "      <th>youthwing</th>\n",
       "      <th>youthwing_label</th>\n",
       "      <th>zip</th>\n",
       "      <th>zipcode</th>\n",
       "    </tr>\n",
       "  </thead>\n",
       "  <tbody>\n",
       "    <tr>\n",
       "      <th>0</th>\n",
       "      <td>66.0</td>\n",
       "      <td>3.0</td>\n",
       "      <td>7.0</td>\n",
       "      <td>11.0</td>\n",
       "      <td>2013.0</td>\n",
       "      <td>50.0</td>\n",
       "      <td>18.0</td>\n",
       "      <td>75.0</td>\n",
       "      <td>68.0</td>\n",
       "      <td>1652.0</td>\n",
       "      <td>...</td>\n",
       "      <td>0.0</td>\n",
       "      <td>0.0</td>\n",
       "      <td>0.0</td>\n",
       "      <td>0.0</td>\n",
       "      <td>0.0</td>\n",
       "      <td>0.0</td>\n",
       "      <td>0.0</td>\n",
       "      <td>0.0</td>\n",
       "      <td>0.0</td>\n",
       "      <td>0.0</td>\n",
       "    </tr>\n",
       "    <tr>\n",
       "      <th>1</th>\n",
       "      <td>66.0</td>\n",
       "      <td>3.0</td>\n",
       "      <td>7.0</td>\n",
       "      <td>11.0</td>\n",
       "      <td>2013.0</td>\n",
       "      <td>58.0</td>\n",
       "      <td>17.0</td>\n",
       "      <td>71.0</td>\n",
       "      <td>68.0</td>\n",
       "      <td>1651.0</td>\n",
       "      <td>...</td>\n",
       "      <td>0.0</td>\n",
       "      <td>0.0</td>\n",
       "      <td>0.0</td>\n",
       "      <td>0.0</td>\n",
       "      <td>0.0</td>\n",
       "      <td>0.0</td>\n",
       "      <td>0.0</td>\n",
       "      <td>0.0</td>\n",
       "      <td>0.0</td>\n",
       "      <td>0.0</td>\n",
       "    </tr>\n",
       "  </tbody>\n",
       "</table>\n",
       "<p>2 rows × 3822 columns</p>\n",
       "</div>"
      ],
      "text/plain": [
       "   num_columns  day_of_week  day  month    year  minute  hour   qhr  \\\n",
       "0         66.0          3.0  7.0   11.0  2013.0    50.0  18.0  75.0   \n",
       "1         66.0          3.0  7.0   11.0  2013.0    58.0  17.0  71.0   \n",
       "\n",
       "   num_days_since_start  num_hours_since_start   ...     yearofconstruction  \\\n",
       "0                  68.0                 1652.0   ...                    0.0   \n",
       "1                  68.0                 1651.0   ...                    0.0   \n",
       "\n",
       "   yearofelectrification  years  yearscodedjob  yearscodedjobpast  \\\n",
       "0                    0.0    0.0            0.0                0.0   \n",
       "1                    0.0    0.0            0.0                0.0   \n",
       "\n",
       "   yearsprogram  youthwing  youthwing_label  zip  zipcode  \n",
       "0           0.0        0.0              0.0  0.0      0.0  \n",
       "1           0.0        0.0              0.0  0.0      0.0  \n",
       "\n",
       "[2 rows x 3822 columns]"
      ]
     },
     "execution_count": 374,
     "metadata": {},
     "output_type": "execute_result"
    }
   ],
   "source": [
    "fin_df.head(2)"
   ]
  },
  {
   "cell_type": "code",
   "execution_count": 378,
   "metadata": {},
   "outputs": [],
   "source": [
    "fin_df.dropna(inplace=True)"
   ]
  },
  {
   "cell_type": "code",
   "execution_count": 379,
   "metadata": {},
   "outputs": [
    {
     "data": {
      "text/plain": [
       "(1012, 3822)"
      ]
     },
     "execution_count": 379,
     "metadata": {},
     "output_type": "execute_result"
    }
   ],
   "source": [
    "fin_df.shape"
   ]
  },
  {
   "cell_type": "code",
   "execution_count": 383,
   "metadata": {},
   "outputs": [],
   "source": [
    "pca = PCA(n_components=50)"
   ]
  },
  {
   "cell_type": "code",
   "execution_count": 384,
   "metadata": {},
   "outputs": [],
   "source": [
    "pca_X2 = pca.fit_transform(fin_df.values)"
   ]
  },
  {
   "cell_type": "code",
   "execution_count": null,
   "metadata": {},
   "outputs": [],
   "source": []
  },
  {
   "cell_type": "code",
   "execution_count": 387,
   "metadata": {},
   "outputs": [
    {
     "name": "stdout",
     "output_type": "stream",
     "text": [
      "For n_clusters = 2 The average silhouette_score is : 0.7890970362901943\n",
      "For n_clusters = 3 The average silhouette_score is : 0.7597990685209792\n",
      "For n_clusters = 4 The average silhouette_score is : 0.805474015113027\n",
      "For n_clusters = 5 The average silhouette_score is : 0.806109588834138\n",
      "For n_clusters = 6 The average silhouette_score is : 0.8191886019442011\n",
      "For n_clusters = 7 The average silhouette_score is : 0.8120925219915814\n",
      "For n_clusters = 8 The average silhouette_score is : 0.8132892333088321\n",
      "For n_clusters = 9 The average silhouette_score is : 0.8195109707569456\n",
      "For n_clusters = 10 The average silhouette_score is : 0.8227571417953642\n",
      "For n_clusters = 11 The average silhouette_score is : 0.8138300801046046\n",
      "For n_clusters = 12 The average silhouette_score is : 0.8287748497018451\n",
      "For n_clusters = 13 The average silhouette_score is : 0.8287276761580579\n",
      "For n_clusters = 14 The average silhouette_score is : 0.8310166222740158\n",
      "For n_clusters = 15 The average silhouette_score is : 0.8408704480422003\n",
      "For n_clusters = 16 The average silhouette_score is : 0.8500643611242217\n",
      "For n_clusters = 17 The average silhouette_score is : 0.8632656393086582\n",
      "For n_clusters = 18 The average silhouette_score is : 0.8691946879031811\n",
      "For n_clusters = 19 The average silhouette_score is : 0.8706069716503881\n",
      "For n_clusters = 20 The average silhouette_score is : 0.8768877981004046\n",
      "For n_clusters = 21 The average silhouette_score is : 0.8789367464770191\n",
      "For n_clusters = 22 The average silhouette_score is : 0.8828912151052389\n",
      "For n_clusters = 23 The average silhouette_score is : 0.8902792904347201\n",
      "For n_clusters = 24 The average silhouette_score is : 0.8751867799510199\n",
      "For n_clusters = 25 The average silhouette_score is : 0.8760229587268624\n",
      "For n_clusters = 26 The average silhouette_score is : 0.8723041836973219\n",
      "For n_clusters = 27 The average silhouette_score is : 0.8722706754557413\n",
      "For n_clusters = 28 The average silhouette_score is : 0.8681563733836708\n",
      "For n_clusters = 29 The average silhouette_score is : 0.8448399272775675\n",
      "For n_clusters = 30 The average silhouette_score is : 0.8760241771093289\n",
      "For n_clusters = 31 The average silhouette_score is : 0.875760249391559\n",
      "For n_clusters = 32 The average silhouette_score is : 0.8768685504809625\n",
      "For n_clusters = 33 The average silhouette_score is : 0.8496750025507644\n",
      "For n_clusters = 34 The average silhouette_score is : 0.8487383547568365\n",
      "For n_clusters = 35 The average silhouette_score is : 0.8491623080900154\n",
      "For n_clusters = 36 The average silhouette_score is : 0.859291909476682\n",
      "For n_clusters = 37 The average silhouette_score is : 0.8554535161036514\n",
      "For n_clusters = 38 The average silhouette_score is : 0.8569482145337931\n",
      "For n_clusters = 39 The average silhouette_score is : 0.8553343163442569\n"
     ]
    }
   ],
   "source": [
    "sum_squared_distance = []\n",
    "num_clusters = [_ for _ in range(2,40)]\n",
    "for k in num_clusters:\n",
    "    km = KMeans(n_clusters=k)\n",
    "    cluster_labels = km.fit_predict(fin_df.values)\n",
    "    silhouette_avg = silhouette_score(fin_df.values, cluster_labels)\n",
    "    print(\"For n_clusters =\", k,\n",
    "          \"The average silhouette_score is :\", silhouette_avg)"
   ]
  },
  {
   "cell_type": "code",
   "execution_count": 385,
   "metadata": {},
   "outputs": [
    {
     "name": "stdout",
     "output_type": "stream",
     "text": [
      "For n_clusters = 2 The average silhouette_score is : 0.7759260517366795\n",
      "For n_clusters = 3 The average silhouette_score is : 0.7495423841286066\n",
      "For n_clusters = 4 The average silhouette_score is : 0.7985499615183606\n",
      "For n_clusters = 5 The average silhouette_score is : 0.7972147005668129\n",
      "For n_clusters = 6 The average silhouette_score is : 0.8080600259157689\n",
      "For n_clusters = 7 The average silhouette_score is : 0.8016653841618652\n",
      "For n_clusters = 8 The average silhouette_score is : 0.7994392900085534\n",
      "For n_clusters = 9 The average silhouette_score is : 0.812356460656667\n",
      "For n_clusters = 10 The average silhouette_score is : 0.81581029830001\n",
      "For n_clusters = 11 The average silhouette_score is : 0.8153938257108323\n",
      "For n_clusters = 12 The average silhouette_score is : 0.815506195854703\n",
      "For n_clusters = 13 The average silhouette_score is : 0.8203639580088204\n",
      "For n_clusters = 14 The average silhouette_score is : 0.8259753077772932\n",
      "For n_clusters = 15 The average silhouette_score is : 0.8321189403602255\n",
      "For n_clusters = 16 The average silhouette_score is : 0.8427985689186825\n",
      "For n_clusters = 17 The average silhouette_score is : 0.8490408072920963\n",
      "For n_clusters = 18 The average silhouette_score is : 0.8513514840901183\n",
      "For n_clusters = 19 The average silhouette_score is : 0.8566186774484454\n",
      "For n_clusters = 20 The average silhouette_score is : 0.8516621011654093\n",
      "For n_clusters = 21 The average silhouette_score is : 0.8621031939773149\n",
      "For n_clusters = 22 The average silhouette_score is : 0.8497867016857894\n",
      "For n_clusters = 23 The average silhouette_score is : 0.8715383091455888\n",
      "For n_clusters = 24 The average silhouette_score is : 0.8563597994721399\n",
      "For n_clusters = 25 The average silhouette_score is : 0.8513362089126133\n",
      "For n_clusters = 26 The average silhouette_score is : 0.8541017134815748\n",
      "For n_clusters = 27 The average silhouette_score is : 0.853440914044366\n",
      "For n_clusters = 28 The average silhouette_score is : 0.8520513725553652\n",
      "For n_clusters = 29 The average silhouette_score is : 0.8483166370674632\n",
      "For n_clusters = 30 The average silhouette_score is : 0.8495007622850334\n",
      "For n_clusters = 31 The average silhouette_score is : 0.8515554121497764\n",
      "For n_clusters = 32 The average silhouette_score is : 0.8292247414824395\n",
      "For n_clusters = 33 The average silhouette_score is : 0.8257070110850727\n",
      "For n_clusters = 34 The average silhouette_score is : 0.8288644257594117\n",
      "For n_clusters = 35 The average silhouette_score is : 0.8324362655045418\n",
      "For n_clusters = 36 The average silhouette_score is : 0.8311370396240477\n",
      "For n_clusters = 37 The average silhouette_score is : 0.8306501041363435\n",
      "For n_clusters = 38 The average silhouette_score is : 0.8346130062465035\n",
      "For n_clusters = 39 The average silhouette_score is : 0.8380526075228085\n"
     ]
    }
   ],
   "source": [
    "sum_squared_distance = []\n",
    "num_clusters = [_ for _ in range(2,40)]\n",
    "for k in num_clusters:\n",
    "    km = KMeans(n_clusters=k)\n",
    "    cluster_labels = km.fit_predict(pca_X)\n",
    "    silhouette_avg = silhouette_score(pca_X, cluster_labels)\n",
    "    sum_squared_distance.append(km.inertia_)\n",
    "    print(\"For n_clusters =\", k,\n",
    "          \"The average silhouette_score is :\", silhouette_avg)"
   ]
  },
  {
   "cell_type": "code",
   "execution_count": 386,
   "metadata": {},
   "outputs": [],
   "source": [
    "km = KMeans(n_clusters=23)"
   ]
  },
  {
   "cell_type": "code",
   "execution_count": null,
   "metadata": {},
   "outputs": [],
   "source": [
    "km.fit_predict()"
   ]
  }
 ],
 "metadata": {
  "kernelspec": {
   "display_name": "py36",
   "language": "python",
   "name": "py36"
  },
  "language_info": {
   "codemirror_mode": {
    "name": "ipython",
    "version": 3
   },
   "file_extension": ".py",
   "mimetype": "text/x-python",
   "name": "python",
   "nbconvert_exporter": "python",
   "pygments_lexer": "ipython3",
   "version": "3.6.8"
  }
 },
 "nbformat": 4,
 "nbformat_minor": 2
}

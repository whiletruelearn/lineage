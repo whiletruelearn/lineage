{
 "cells": [
  {
   "cell_type": "code",
   "execution_count": 1,
   "metadata": {},
   "outputs": [],
   "source": [
    "import pandas as pd\n",
    "import matplotlib.pyplot as plt"
   ]
  },
  {
   "cell_type": "code",
   "execution_count": 3,
   "metadata": {},
   "outputs": [],
   "source": [
    "parse_dates = ['table_created','table_modified']"
   ]
  },
  {
   "cell_type": "code",
   "execution_count": 4,
   "metadata": {},
   "outputs": [],
   "source": [
    "df = pd.read_csv(\"/home/krishna/projects/lineage/data/public_dataset_metadata_fin.csv\",parse_dates=parse_dates)"
   ]
  },
  {
   "cell_type": "code",
   "execution_count": 127,
   "metadata": {},
   "outputs": [
    {
     "data": {
      "text/html": [
       "<div>\n",
       "<style scoped>\n",
       "    .dataframe tbody tr th:only-of-type {\n",
       "        vertical-align: middle;\n",
       "    }\n",
       "\n",
       "    .dataframe tbody tr th {\n",
       "        vertical-align: top;\n",
       "    }\n",
       "\n",
       "    .dataframe thead th {\n",
       "        text-align: right;\n",
       "    }\n",
       "</style>\n",
       "<table border=\"1\" class=\"dataframe\">\n",
       "  <thead>\n",
       "    <tr style=\"text-align: right;\">\n",
       "      <th></th>\n",
       "      <th>dataset_id</th>\n",
       "      <th>table_columns</th>\n",
       "      <th>table_created</th>\n",
       "      <th>table_id</th>\n",
       "      <th>table_modified</th>\n",
       "      <th>table_num_bytes</th>\n",
       "      <th>table_num_rows</th>\n",
       "      <th>table_type</th>\n",
       "      <th>num_columns</th>\n",
       "    </tr>\n",
       "  </thead>\n",
       "  <tbody>\n",
       "    <tr>\n",
       "      <th>1509</th>\n",
       "      <td>world_bank_wdi</td>\n",
       "      <td>['country_code', 'short_name', 'table_name', '...</td>\n",
       "      <td>2018-06-26 19:45:55</td>\n",
       "      <td>country_summary</td>\n",
       "      <td>2018-11-14 23:04:47</td>\n",
       "      <td>128516</td>\n",
       "      <td>263</td>\n",
       "      <td>TABLE</td>\n",
       "      <td>763</td>\n",
       "    </tr>\n",
       "    <tr>\n",
       "      <th>1510</th>\n",
       "      <td>world_bank_wdi</td>\n",
       "      <td>['country_code', 'series_code', 'year', 'descr...</td>\n",
       "      <td>2018-06-26 19:48:29</td>\n",
       "      <td>footnotes</td>\n",
       "      <td>2018-11-14 23:10:52</td>\n",
       "      <td>62442245</td>\n",
       "      <td>676230</td>\n",
       "      <td>TABLE</td>\n",
       "      <td>54</td>\n",
       "    </tr>\n",
       "    <tr>\n",
       "      <th>1511</th>\n",
       "      <td>world_bank_wdi</td>\n",
       "      <td>['country_name', 'country_code', 'indicator_na...</td>\n",
       "      <td>2018-06-26 19:55:30</td>\n",
       "      <td>indicators_data</td>\n",
       "      <td>2018-11-14 23:20:50</td>\n",
       "      <td>813392632</td>\n",
       "      <td>7758183</td>\n",
       "      <td>TABLE</td>\n",
       "      <td>85</td>\n",
       "    </tr>\n",
       "    <tr>\n",
       "      <th>1512</th>\n",
       "      <td>world_bank_wdi</td>\n",
       "      <td>['series_code', 'topic', 'indicator_name', 'sh...</td>\n",
       "      <td>2018-06-26 19:45:53</td>\n",
       "      <td>series_summary</td>\n",
       "      <td>2018-11-14 23:05:00</td>\n",
       "      <td>3881002</td>\n",
       "      <td>1600</td>\n",
       "      <td>TABLE</td>\n",
       "      <td>402</td>\n",
       "    </tr>\n",
       "    <tr>\n",
       "      <th>1513</th>\n",
       "      <td>world_bank_wdi</td>\n",
       "      <td>['series_code', 'year', 'description']</td>\n",
       "      <td>2018-06-26 19:45:49</td>\n",
       "      <td>series_time</td>\n",
       "      <td>2018-11-14 23:04:46</td>\n",
       "      <td>40326</td>\n",
       "      <td>441</td>\n",
       "      <td>TABLE</td>\n",
       "      <td>38</td>\n",
       "    </tr>\n",
       "  </tbody>\n",
       "</table>\n",
       "</div>"
      ],
      "text/plain": [
       "          dataset_id                                      table_columns  \\\n",
       "1509  world_bank_wdi  ['country_code', 'short_name', 'table_name', '...   \n",
       "1510  world_bank_wdi  ['country_code', 'series_code', 'year', 'descr...   \n",
       "1511  world_bank_wdi  ['country_name', 'country_code', 'indicator_na...   \n",
       "1512  world_bank_wdi  ['series_code', 'topic', 'indicator_name', 'sh...   \n",
       "1513  world_bank_wdi             ['series_code', 'year', 'description']   \n",
       "\n",
       "           table_created         table_id      table_modified  \\\n",
       "1509 2018-06-26 19:45:55  country_summary 2018-11-14 23:04:47   \n",
       "1510 2018-06-26 19:48:29        footnotes 2018-11-14 23:10:52   \n",
       "1511 2018-06-26 19:55:30  indicators_data 2018-11-14 23:20:50   \n",
       "1512 2018-06-26 19:45:53   series_summary 2018-11-14 23:05:00   \n",
       "1513 2018-06-26 19:45:49      series_time 2018-11-14 23:04:46   \n",
       "\n",
       "      table_num_bytes  table_num_rows table_type  num_columns  \n",
       "1509           128516             263      TABLE          763  \n",
       "1510         62442245          676230      TABLE           54  \n",
       "1511        813392632         7758183      TABLE           85  \n",
       "1512          3881002            1600      TABLE          402  \n",
       "1513            40326             441      TABLE           38  "
      ]
     },
     "execution_count": 127,
     "metadata": {},
     "output_type": "execute_result"
    }
   ],
   "source": [
    "df.tail(5)"
   ]
  },
  {
   "cell_type": "code",
   "execution_count": 6,
   "metadata": {},
   "outputs": [],
   "source": [
    "df = df[[\"dataset_id\",\"table_columns\",\"table_created\",\"table_id\",\"table_modified\",\"table_num_bytes\",\"table_num_rows\",\"table_type\"]]"
   ]
  },
  {
   "cell_type": "code",
   "execution_count": 7,
   "metadata": {},
   "outputs": [
    {
     "data": {
      "text/plain": [
       "array(['TABLE', 'VIEW', 'MODEL'], dtype=object)"
      ]
     },
     "execution_count": 7,
     "metadata": {},
     "output_type": "execute_result"
    }
   ],
   "source": [
    "df.table_type.unique()"
   ]
  },
  {
   "cell_type": "code",
   "execution_count": 9,
   "metadata": {},
   "outputs": [
    {
     "data": {
      "text/plain": [
       "['austin_311',\n",
       " 'austin_bikeshare',\n",
       " 'austin_crime',\n",
       " 'austin_incidents',\n",
       " 'austin_waste',\n",
       " 'baseball',\n",
       " 'bitcoin_blockchain',\n",
       " 'bls',\n",
       " 'census_bureau_construction',\n",
       " 'census_bureau_international',\n",
       " 'census_bureau_usa',\n",
       " 'census_fips_codes',\n",
       " 'chicago_crime',\n",
       " 'chicago_taxi_trips',\n",
       " 'cloud_storage_geo_index',\n",
       " 'cms_codes',\n",
       " 'cms_medicare',\n",
       " 'crypto_bitcoin',\n",
       " 'eclipse_megamovie',\n",
       " 'epa_historical_air_quality',\n",
       " 'ethereum_blockchain',\n",
       " 'fda_drug',\n",
       " 'fda_food',\n",
       " 'fec',\n",
       " 'genomics_cannabis',\n",
       " 'ghcn_d',\n",
       " 'ghcn_m',\n",
       " 'github_repos',\n",
       " 'google_analytics_sample',\n",
       " 'google_political_ads',\n",
       " 'hacker_news',\n",
       " 'human_genome_variants',\n",
       " 'human_variant_annotation',\n",
       " 'irs_990',\n",
       " 'libraries_io',\n",
       " 'london_bicycles',\n",
       " 'london_crime',\n",
       " 'london_fire_brigade',\n",
       " 'medicare',\n",
       " 'moon_phases',\n",
       " 'nasa_wildfire',\n",
       " 'ncaa_basketball',\n",
       " 'new_york',\n",
       " 'new_york_311',\n",
       " 'new_york_citibike',\n",
       " 'new_york_mv_collisions',\n",
       " 'new_york_taxi_trips',\n",
       " 'new_york_trees',\n",
       " 'nhtsa_traffic_fatalities',\n",
       " 'nlm_rxnorm',\n",
       " 'noaa_goes16',\n",
       " 'noaa_goes17',\n",
       " 'noaa_gsod',\n",
       " 'noaa_hurricanes',\n",
       " 'noaa_icoads',\n",
       " 'noaa_significant_earthquakes',\n",
       " 'noaa_spc',\n",
       " 'noaa_tsunami',\n",
       " 'nppes',\n",
       " 'open_images',\n",
       " 'openaq',\n",
       " 'samples',\n",
       " 'san_francisco',\n",
       " 'san_francisco_311',\n",
       " 'san_francisco_film_locations',\n",
       " 'san_francisco_sffd_service_calls',\n",
       " 'san_francisco_sfpd_incidents',\n",
       " 'san_francisco_trees',\n",
       " 'sec_quarterly_financials',\n",
       " 'stackoverflow',\n",
       " 'sunroof_solar',\n",
       " 'the_met',\n",
       " 'un_sdg',\n",
       " 'usa_names',\n",
       " 'usda_nass_agriculture',\n",
       " 'usfs_fia',\n",
       " 'utility_eu',\n",
       " 'utility_us',\n",
       " 'world_bank_health_population',\n",
       " 'world_bank_intl_debt',\n",
       " 'world_bank_intl_education',\n",
       " 'world_bank_wdi']"
      ]
     },
     "execution_count": 9,
     "metadata": {},
     "output_type": "execute_result"
    }
   ],
   "source": [
    "df.dataset_id.unique().tolist()"
   ]
  },
  {
   "cell_type": "code",
   "execution_count": 12,
   "metadata": {},
   "outputs": [
    {
     "data": {
      "text/plain": [
       "(1514, 8)"
      ]
     },
     "execution_count": 12,
     "metadata": {},
     "output_type": "execute_result"
    }
   ],
   "source": [
    "df.shape"
   ]
  },
  {
   "cell_type": "code",
   "execution_count": 13,
   "metadata": {},
   "outputs": [
    {
     "data": {
      "text/plain": [
       "(82,)"
      ]
     },
     "execution_count": 13,
     "metadata": {},
     "output_type": "execute_result"
    }
   ],
   "source": [
    "df.dataset_id.unique().shape"
   ]
  },
  {
   "cell_type": "code",
   "execution_count": 14,
   "metadata": {},
   "outputs": [],
   "source": [
    "df[\"num_columns\"] = df.apply(lambda x :len(x[\"table_columns\"]),axis =1)"
   ]
  },
  {
   "cell_type": "code",
   "execution_count": 15,
   "metadata": {},
   "outputs": [
    {
     "data": {
      "text/plain": [
       "<matplotlib.axes._subplots.AxesSubplot at 0x7f5383c772b0>"
      ]
     },
     "execution_count": 15,
     "metadata": {},
     "output_type": "execute_result"
    },
    {
     "data": {
      "image/png": "[encoded data removed]",
      "text/plain": [
       "<Figure size 432x288 with 1 Axes>"
      ]
     },
     "metadata": {
      "needs_background": "light"
     },
     "output_type": "display_data"
    }
   ],
   "source": [
    "df.num_columns.hist()"
   ]
  },
  {
   "cell_type": "code",
   "execution_count": 16,
   "metadata": {},
   "outputs": [
    {
     "data": {
      "text/plain": [
       "320.42140026420077"
      ]
     },
     "execution_count": 16,
     "metadata": {},
     "output_type": "execute_result"
    }
   ],
   "source": [
    "df.num_columns.mean()"
   ]
  },
  {
   "cell_type": "code",
   "execution_count": 17,
   "metadata": {},
   "outputs": [
    {
     "data": {
      "text/plain": [
       "7"
      ]
     },
     "execution_count": 17,
     "metadata": {},
     "output_type": "execute_result"
    }
   ],
   "source": [
    "df.num_columns.min()"
   ]
  },
  {
   "cell_type": "code",
   "execution_count": 18,
   "metadata": {},
   "outputs": [
    {
     "data": {
      "text/plain": [
       "19649"
      ]
     },
     "execution_count": 18,
     "metadata": {},
     "output_type": "execute_result"
    }
   ],
   "source": [
    "df.num_columns.max()"
   ]
  },
  {
   "cell_type": "code",
   "execution_count": 19,
   "metadata": {},
   "outputs": [],
   "source": [
    "start_date , end_date = df.table_created.min(), df.table_created.max()"
   ]
  },
  {
   "cell_type": "code",
   "execution_count": 20,
   "metadata": {},
   "outputs": [
    {
     "data": {
      "text/plain": [
       "Timestamp('2016-03-12 01:02:22')"
      ]
     },
     "execution_count": 20,
     "metadata": {},
     "output_type": "execute_result"
    }
   ],
   "source": [
    "start_date"
   ]
  },
  {
   "cell_type": "code",
   "execution_count": 21,
   "metadata": {},
   "outputs": [
    {
     "data": {
      "text/plain": [
       "Timestamp('2019-01-15 03:52:36')"
      ]
     },
     "execution_count": 21,
     "metadata": {},
     "output_type": "execute_result"
    }
   ],
   "source": [
    "end_date"
   ]
  },
  {
   "cell_type": "code",
   "execution_count": 22,
   "metadata": {},
   "outputs": [],
   "source": [
    "def get_day_of_week(ts) : return ts.dayofweek\n",
    "def get_day(ts) : return ts.day\n",
    "def get_month(ts) : return ts.month\n",
    "def get_year(ts) : return ts.year\n",
    "def get_minutes(ts) : return ts.minute\n",
    "def get_hour(ts) : return ts.hour\n",
    "def get_delta(ts) : return ts - start_date"
   ]
  },
  {
   "cell_type": "code",
   "execution_count": 24,
   "metadata": {},
   "outputs": [],
   "source": [
    "def get_num_days_since_start_date(ts):\n",
    "    delta = get_delta(ts)\n",
    "    return delta.days"
   ]
  },
  {
   "cell_type": "code",
   "execution_count": 25,
   "metadata": {},
   "outputs": [],
   "source": [
    "def get_num_hours_since_start_date(ts):\n",
    "    delta = get_delta(ts)\n",
    "    return round(delta.total_seconds() / 3600)"
   ]
  },
  {
   "cell_type": "code",
   "execution_count": 26,
   "metadata": {},
   "outputs": [],
   "source": [
    "def get_num_mins_since_start_date(ts):\n",
    "    delta = get_delta(ts)\n",
    "    return round(delta.total_seconds() / 60)"
   ]
  },
  {
   "cell_type": "code",
   "execution_count": 27,
   "metadata": {},
   "outputs": [
    {
     "data": {
      "text/plain": [
       "1039"
      ]
     },
     "execution_count": 27,
     "metadata": {},
     "output_type": "execute_result"
    }
   ],
   "source": [
    "get_num_days_since_start_date(end_date)"
   ]
  },
  {
   "cell_type": "code",
   "execution_count": 28,
   "metadata": {},
   "outputs": [
    {
     "data": {
      "text/plain": [
       "24939"
      ]
     },
     "execution_count": 28,
     "metadata": {},
     "output_type": "execute_result"
    }
   ],
   "source": [
    "get_num_hours_since_start_date(end_date)"
   ]
  },
  {
   "cell_type": "code",
   "execution_count": 29,
   "metadata": {},
   "outputs": [
    {
     "data": {
      "text/plain": [
       "1496330"
      ]
     },
     "execution_count": 29,
     "metadata": {},
     "output_type": "execute_result"
    }
   ],
   "source": [
    "get_num_mins_since_start_date(end_date)"
   ]
  },
  {
   "cell_type": "code",
   "execution_count": 30,
   "metadata": {},
   "outputs": [],
   "source": [
    "def get_qhr(hour, minute) : return hour * 4 +  (minute // 15)"
   ]
  },
  {
   "cell_type": "code",
   "execution_count": 51,
   "metadata": {},
   "outputs": [],
   "source": [
    "feature_df = df.copy()"
   ]
  },
  {
   "cell_type": "code",
   "execution_count": 52,
   "metadata": {},
   "outputs": [
    {
     "data": {
      "text/plain": [
       "Index(['dataset_id', 'table_columns', 'table_created', 'table_id',\n",
       "       'table_modified', 'table_num_bytes', 'table_num_rows', 'table_type',\n",
       "       'num_columns'],\n",
       "      dtype='object')"
      ]
     },
     "execution_count": 52,
     "metadata": {},
     "output_type": "execute_result"
    }
   ],
   "source": [
    "feature_df.columns"
   ]
  },
  {
   "cell_type": "code",
   "execution_count": 53,
   "metadata": {},
   "outputs": [
    {
     "data": {
      "text/plain": [
       "dataset_id         0\n",
       "table_columns      0\n",
       "table_created      0\n",
       "table_id           0\n",
       "table_modified     0\n",
       "table_num_bytes    0\n",
       "table_num_rows     0\n",
       "table_type         0\n",
       "num_columns        0\n",
       "dtype: int64"
      ]
     },
     "execution_count": 53,
     "metadata": {},
     "output_type": "execute_result"
    }
   ],
   "source": [
    "feature_df.isnull().sum()"
   ]
  },
  {
   "cell_type": "code",
   "execution_count": 54,
   "metadata": {},
   "outputs": [],
   "source": [
    "feature_df[\"day_of_week\"] = feature_df.table_created.apply(lambda x : get_day_of_week(x))\n",
    "feature_df[\"day\"] =  feature_df.table_created.apply(lambda x : get_day(x))\n",
    "feature_df[\"month\"] = feature_df.table_created.apply(lambda x : get_month(x))\n",
    "feature_df[\"year\"] = feature_df.table_created.apply(lambda x : get_year(x))\n",
    "feature_df[\"minute\"] = feature_df.table_created.apply(lambda x : get_minutes(x))\n",
    "feature_df[\"hour\"] = feature_df.table_created.apply(lambda x : get_hour(x))\n",
    "feature_df[\"qhr\"] = feature_df.apply(lambda x : get_qhr(x[\"hour\"],x[\"minute\"]),axis =1)"
   ]
  },
  {
   "cell_type": "code",
   "execution_count": 55,
   "metadata": {},
   "outputs": [
    {
     "data": {
      "text/plain": [
       "Index(['dataset_id', 'table_columns', 'table_created', 'table_id',\n",
       "       'table_modified', 'table_num_bytes', 'table_num_rows', 'table_type',\n",
       "       'num_columns', 'day_of_week', 'day', 'month', 'year', 'minute', 'hour',\n",
       "       'qhr'],\n",
       "      dtype='object')"
      ]
     },
     "execution_count": 55,
     "metadata": {},
     "output_type": "execute_result"
    }
   ],
   "source": [
    "feature_df.columns"
   ]
  },
  {
   "cell_type": "code",
   "execution_count": 40,
   "metadata": {},
   "outputs": [],
   "source": [
    "cols_to_drop = ['dataset_id', 'table_columns', 'table_id',\n",
    "       'table_modified', 'table_num_bytes', 'table_type']"
   ]
  },
  {
   "cell_type": "code",
   "execution_count": 41,
   "metadata": {},
   "outputs": [],
   "source": [
    "feature_df.drop(columns=cols_to_drop,inplace=True)"
   ]
  },
  {
   "cell_type": "code",
   "execution_count": 42,
   "metadata": {},
   "outputs": [
    {
     "data": {
      "text/html": [
       "<div>\n",
       "<style scoped>\n",
       "    .dataframe tbody tr th:only-of-type {\n",
       "        vertical-align: middle;\n",
       "    }\n",
       "\n",
       "    .dataframe tbody tr th {\n",
       "        vertical-align: top;\n",
       "    }\n",
       "\n",
       "    .dataframe thead th {\n",
       "        text-align: right;\n",
       "    }\n",
       "</style>\n",
       "<table border=\"1\" class=\"dataframe\">\n",
       "  <thead>\n",
       "    <tr style=\"text-align: right;\">\n",
       "      <th></th>\n",
       "      <th>table_created</th>\n",
       "      <th>table_num_rows</th>\n",
       "      <th>num_columns</th>\n",
       "      <th>day_of_week</th>\n",
       "      <th>day</th>\n",
       "      <th>month</th>\n",
       "      <th>year</th>\n",
       "      <th>minute</th>\n",
       "      <th>hour</th>\n",
       "      <th>qhr</th>\n",
       "    </tr>\n",
       "  </thead>\n",
       "  <tbody>\n",
       "    <tr>\n",
       "      <th>0</th>\n",
       "      <td>2017-05-18 14:29:56</td>\n",
       "      <td>640525</td>\n",
       "      <td>398</td>\n",
       "      <td>3</td>\n",
       "      <td>18</td>\n",
       "      <td>5</td>\n",
       "      <td>2017</td>\n",
       "      <td>29</td>\n",
       "      <td>14</td>\n",
       "      <td>57</td>\n",
       "    </tr>\n",
       "    <tr>\n",
       "      <th>1</th>\n",
       "      <td>2017-05-25 03:43:34</td>\n",
       "      <td>94</td>\n",
       "      <td>69</td>\n",
       "      <td>3</td>\n",
       "      <td>25</td>\n",
       "      <td>5</td>\n",
       "      <td>2017</td>\n",
       "      <td>43</td>\n",
       "      <td>3</td>\n",
       "      <td>14</td>\n",
       "    </tr>\n",
       "    <tr>\n",
       "      <th>2</th>\n",
       "      <td>2017-05-25 03:55:42</td>\n",
       "      <td>1077929</td>\n",
       "      <td>154</td>\n",
       "      <td>3</td>\n",
       "      <td>25</td>\n",
       "      <td>5</td>\n",
       "      <td>2017</td>\n",
       "      <td>55</td>\n",
       "      <td>3</td>\n",
       "      <td>15</td>\n",
       "    </tr>\n",
       "  </tbody>\n",
       "</table>\n",
       "</div>"
      ],
      "text/plain": [
       "        table_created  table_num_rows  num_columns  day_of_week  day  month  \\\n",
       "0 2017-05-18 14:29:56          640525          398            3   18      5   \n",
       "1 2017-05-25 03:43:34              94           69            3   25      5   \n",
       "2 2017-05-25 03:55:42         1077929          154            3   25      5   \n",
       "\n",
       "   year  minute  hour  qhr  \n",
       "0  2017      29    14   57  \n",
       "1  2017      43     3   14  \n",
       "2  2017      55     3   15  "
      ]
     },
     "execution_count": 42,
     "metadata": {},
     "output_type": "execute_result"
    }
   ],
   "source": [
    "feature_df.head(3)"
   ]
  },
  {
   "cell_type": "code",
   "execution_count": 56,
   "metadata": {},
   "outputs": [],
   "source": [
    "feature_df[\"num_days_since_start\"] = feature_df.table_created.apply(lambda x : get_num_days_since_start_date(x))\n",
    "feature_df[\"num_hours_since_start\"] = feature_df.table_created.apply(lambda x : get_num_hours_since_start_date(x))\n",
    "feature_df[\"num_mins_since_start\"] = feature_df.table_created.apply(lambda x : get_num_mins_since_start_date(x))"
   ]
  },
  {
   "cell_type": "code",
   "execution_count": 57,
   "metadata": {},
   "outputs": [],
   "source": [
    "cols_to_drop += [\"table_created\"]"
   ]
  },
  {
   "cell_type": "code",
   "execution_count": 58,
   "metadata": {},
   "outputs": [],
   "source": [
    "feature_df.drop(columns=[\"table_created\"],inplace=True)"
   ]
  },
  {
   "cell_type": "code",
   "execution_count": 46,
   "metadata": {},
   "outputs": [],
   "source": [
    "feature_df.drop(columns=[\"table_num_rows\"],inplace=True)"
   ]
  },
  {
   "cell_type": "code",
   "execution_count": 47,
   "metadata": {},
   "outputs": [],
   "source": [
    "feature_df.drop(columns=[\"day_of_week\",\"day\",\"month\",\"year\",\"minute\",\"hour\",\"qhr\"],inplace=True)"
   ]
  },
  {
   "cell_type": "code",
   "execution_count": 49,
   "metadata": {},
   "outputs": [
    {
     "data": {
      "text/html": [
       "<div>\n",
       "<style scoped>\n",
       "    .dataframe tbody tr th:only-of-type {\n",
       "        vertical-align: middle;\n",
       "    }\n",
       "\n",
       "    .dataframe tbody tr th {\n",
       "        vertical-align: top;\n",
       "    }\n",
       "\n",
       "    .dataframe thead th {\n",
       "        text-align: right;\n",
       "    }\n",
       "</style>\n",
       "<table border=\"1\" class=\"dataframe\">\n",
       "  <thead>\n",
       "    <tr style=\"text-align: right;\">\n",
       "      <th></th>\n",
       "      <th>dataset_id</th>\n",
       "      <th>table_columns</th>\n",
       "      <th>table_created</th>\n",
       "      <th>table_id</th>\n",
       "      <th>table_modified</th>\n",
       "      <th>table_num_bytes</th>\n",
       "      <th>table_num_rows</th>\n",
       "      <th>table_type</th>\n",
       "      <th>num_columns</th>\n",
       "    </tr>\n",
       "  </thead>\n",
       "  <tbody>\n",
       "    <tr>\n",
       "      <th>0</th>\n",
       "      <td>austin_311</td>\n",
       "      <td>['unique_key', 'complaint_type', 'complaint_de...</td>\n",
       "      <td>2017-05-18 14:29:56</td>\n",
       "      <td>311_service_requests</td>\n",
       "      <td>2019-01-05 00:58:32</td>\n",
       "      <td>185335640</td>\n",
       "      <td>640525</td>\n",
       "      <td>TABLE</td>\n",
       "      <td>398</td>\n",
       "    </tr>\n",
       "    <tr>\n",
       "      <th>1</th>\n",
       "      <td>austin_bikeshare</td>\n",
       "      <td>['station_id', 'name', 'status', 'latitude', '...</td>\n",
       "      <td>2017-05-25 03:43:34</td>\n",
       "      <td>bikeshare_stations</td>\n",
       "      <td>2019-01-24 10:44:40</td>\n",
       "      <td>7384</td>\n",
       "      <td>94</td>\n",
       "      <td>TABLE</td>\n",
       "      <td>69</td>\n",
       "    </tr>\n",
       "  </tbody>\n",
       "</table>\n",
       "</div>"
      ],
      "text/plain": [
       "         dataset_id                                      table_columns  \\\n",
       "0        austin_311  ['unique_key', 'complaint_type', 'complaint_de...   \n",
       "1  austin_bikeshare  ['station_id', 'name', 'status', 'latitude', '...   \n",
       "\n",
       "        table_created              table_id      table_modified  \\\n",
       "0 2017-05-18 14:29:56  311_service_requests 2019-01-05 00:58:32   \n",
       "1 2017-05-25 03:43:34    bikeshare_stations 2019-01-24 10:44:40   \n",
       "\n",
       "   table_num_bytes  table_num_rows table_type  num_columns  \n",
       "0        185335640          640525      TABLE          398  \n",
       "1             7384              94      TABLE           69  "
      ]
     },
     "execution_count": 49,
     "metadata": {},
     "output_type": "execute_result"
    }
   ],
   "source": [
    "df.head(2)"
   ]
  },
  {
   "cell_type": "code",
   "execution_count": 50,
   "metadata": {},
   "outputs": [
    {
     "data": {
      "text/html": [
       "<div>\n",
       "<style scoped>\n",
       "    .dataframe tbody tr th:only-of-type {\n",
       "        vertical-align: middle;\n",
       "    }\n",
       "\n",
       "    .dataframe tbody tr th {\n",
       "        vertical-align: top;\n",
       "    }\n",
       "\n",
       "    .dataframe thead th {\n",
       "        text-align: right;\n",
       "    }\n",
       "</style>\n",
       "<table border=\"1\" class=\"dataframe\">\n",
       "  <thead>\n",
       "    <tr style=\"text-align: right;\">\n",
       "      <th></th>\n",
       "      <th>num_columns</th>\n",
       "      <th>num_days_since_start</th>\n",
       "      <th>num_hours_since_start</th>\n",
       "      <th>num_mins_since_start</th>\n",
       "    </tr>\n",
       "  </thead>\n",
       "  <tbody>\n",
       "    <tr>\n",
       "      <th>0</th>\n",
       "      <td>398</td>\n",
       "      <td>432</td>\n",
       "      <td>10381</td>\n",
       "      <td>622888</td>\n",
       "    </tr>\n",
       "    <tr>\n",
       "      <th>1</th>\n",
       "      <td>69</td>\n",
       "      <td>439</td>\n",
       "      <td>10539</td>\n",
       "      <td>632321</td>\n",
       "    </tr>\n",
       "  </tbody>\n",
       "</table>\n",
       "</div>"
      ],
      "text/plain": [
       "   num_columns  num_days_since_start  num_hours_since_start  \\\n",
       "0          398                   432                  10381   \n",
       "1           69                   439                  10539   \n",
       "\n",
       "   num_mins_since_start  \n",
       "0                622888  \n",
       "1                632321  "
      ]
     },
     "execution_count": 50,
     "metadata": {},
     "output_type": "execute_result"
    }
   ],
   "source": [
    "feature_df.head(2)"
   ]
  },
  {
   "cell_type": "code",
   "execution_count": 61,
   "metadata": {},
   "outputs": [
    {
     "data": {
      "text/plain": [
       "Index(['dataset_id', 'table_columns', 'table_id', 'table_modified',\n",
       "       'table_num_bytes', 'table_num_rows', 'table_type', 'num_columns',\n",
       "       'day_of_week', 'day', 'month', 'year', 'minute', 'hour', 'qhr',\n",
       "       'num_days_since_start', 'num_hours_since_start',\n",
       "       'num_mins_since_start'],\n",
       "      dtype='object')"
      ]
     },
     "execution_count": 61,
     "metadata": {},
     "output_type": "execute_result"
    }
   ],
   "source": [
    "feature_df.columns"
   ]
  },
  {
   "cell_type": "code",
   "execution_count": 59,
   "metadata": {},
   "outputs": [
    {
     "data": {
      "text/html": [
       "<div>\n",
       "<style scoped>\n",
       "    .dataframe tbody tr th:only-of-type {\n",
       "        vertical-align: middle;\n",
       "    }\n",
       "\n",
       "    .dataframe tbody tr th {\n",
       "        vertical-align: top;\n",
       "    }\n",
       "\n",
       "    .dataframe thead th {\n",
       "        text-align: right;\n",
       "    }\n",
       "</style>\n",
       "<table border=\"1\" class=\"dataframe\">\n",
       "  <thead>\n",
       "    <tr style=\"text-align: right;\">\n",
       "      <th></th>\n",
       "      <th>dataset_id</th>\n",
       "      <th>table_columns</th>\n",
       "      <th>table_id</th>\n",
       "      <th>table_modified</th>\n",
       "      <th>table_num_bytes</th>\n",
       "      <th>table_num_rows</th>\n",
       "      <th>table_type</th>\n",
       "      <th>num_columns</th>\n",
       "      <th>day_of_week</th>\n",
       "      <th>day</th>\n",
       "      <th>month</th>\n",
       "      <th>year</th>\n",
       "      <th>minute</th>\n",
       "      <th>hour</th>\n",
       "      <th>qhr</th>\n",
       "      <th>num_days_since_start</th>\n",
       "      <th>num_hours_since_start</th>\n",
       "      <th>num_mins_since_start</th>\n",
       "    </tr>\n",
       "  </thead>\n",
       "  <tbody>\n",
       "    <tr>\n",
       "      <th>0</th>\n",
       "      <td>austin_311</td>\n",
       "      <td>['unique_key', 'complaint_type', 'complaint_de...</td>\n",
       "      <td>311_service_requests</td>\n",
       "      <td>2019-01-05 00:58:32</td>\n",
       "      <td>185335640</td>\n",
       "      <td>640525</td>\n",
       "      <td>TABLE</td>\n",
       "      <td>398</td>\n",
       "      <td>3</td>\n",
       "      <td>18</td>\n",
       "      <td>5</td>\n",
       "      <td>2017</td>\n",
       "      <td>29</td>\n",
       "      <td>14</td>\n",
       "      <td>57</td>\n",
       "      <td>432</td>\n",
       "      <td>10381</td>\n",
       "      <td>622888</td>\n",
       "    </tr>\n",
       "    <tr>\n",
       "      <th>1</th>\n",
       "      <td>austin_bikeshare</td>\n",
       "      <td>['station_id', 'name', 'status', 'latitude', '...</td>\n",
       "      <td>bikeshare_stations</td>\n",
       "      <td>2019-01-24 10:44:40</td>\n",
       "      <td>7384</td>\n",
       "      <td>94</td>\n",
       "      <td>TABLE</td>\n",
       "      <td>69</td>\n",
       "      <td>3</td>\n",
       "      <td>25</td>\n",
       "      <td>5</td>\n",
       "      <td>2017</td>\n",
       "      <td>43</td>\n",
       "      <td>3</td>\n",
       "      <td>14</td>\n",
       "      <td>439</td>\n",
       "      <td>10539</td>\n",
       "      <td>632321</td>\n",
       "    </tr>\n",
       "  </tbody>\n",
       "</table>\n",
       "</div>"
      ],
      "text/plain": [
       "         dataset_id                                      table_columns  \\\n",
       "0        austin_311  ['unique_key', 'complaint_type', 'complaint_de...   \n",
       "1  austin_bikeshare  ['station_id', 'name', 'status', 'latitude', '...   \n",
       "\n",
       "               table_id      table_modified  table_num_bytes  table_num_rows  \\\n",
       "0  311_service_requests 2019-01-05 00:58:32        185335640          640525   \n",
       "1    bikeshare_stations 2019-01-24 10:44:40             7384              94   \n",
       "\n",
       "  table_type  num_columns  day_of_week  day  month  year  minute  hour  qhr  \\\n",
       "0      TABLE          398            3   18      5  2017      29    14   57   \n",
       "1      TABLE           69            3   25      5  2017      43     3   14   \n",
       "\n",
       "   num_days_since_start  num_hours_since_start  num_mins_since_start  \n",
       "0                   432                  10381                622888  \n",
       "1                   439                  10539                632321  "
      ]
     },
     "execution_count": 59,
     "metadata": {},
     "output_type": "execute_result"
    }
   ],
   "source": [
    "feature_df.head(2)"
   ]
  },
  {
   "cell_type": "code",
   "execution_count": 63,
   "metadata": {},
   "outputs": [],
   "source": [
    "feature_df.drop(columns=['dataset_id', 'table_columns', 'table_id', 'table_modified',\n",
    "       'table_num_bytes','table_type','table_num_rows'],inplace=True)"
   ]
  },
  {
   "cell_type": "code",
   "execution_count": 64,
   "metadata": {},
   "outputs": [],
   "source": [
    "from sklearn.decomposition import PCA"
   ]
  },
  {
   "cell_type": "code",
   "execution_count": 65,
   "metadata": {},
   "outputs": [
    {
     "data": {
      "text/html": [
       "<div>\n",
       "<style scoped>\n",
       "    .dataframe tbody tr th:only-of-type {\n",
       "        vertical-align: middle;\n",
       "    }\n",
       "\n",
       "    .dataframe tbody tr th {\n",
       "        vertical-align: top;\n",
       "    }\n",
       "\n",
       "    .dataframe thead th {\n",
       "        text-align: right;\n",
       "    }\n",
       "</style>\n",
       "<table border=\"1\" class=\"dataframe\">\n",
       "  <thead>\n",
       "    <tr style=\"text-align: right;\">\n",
       "      <th></th>\n",
       "      <th>num_columns</th>\n",
       "      <th>day_of_week</th>\n",
       "      <th>day</th>\n",
       "      <th>month</th>\n",
       "      <th>year</th>\n",
       "      <th>minute</th>\n",
       "      <th>hour</th>\n",
       "      <th>qhr</th>\n",
       "      <th>num_days_since_start</th>\n",
       "      <th>num_hours_since_start</th>\n",
       "      <th>num_mins_since_start</th>\n",
       "    </tr>\n",
       "  </thead>\n",
       "  <tbody>\n",
       "    <tr>\n",
       "      <th>0</th>\n",
       "      <td>398</td>\n",
       "      <td>3</td>\n",
       "      <td>18</td>\n",
       "      <td>5</td>\n",
       "      <td>2017</td>\n",
       "      <td>29</td>\n",
       "      <td>14</td>\n",
       "      <td>57</td>\n",
       "      <td>432</td>\n",
       "      <td>10381</td>\n",
       "      <td>622888</td>\n",
       "    </tr>\n",
       "    <tr>\n",
       "      <th>1</th>\n",
       "      <td>69</td>\n",
       "      <td>3</td>\n",
       "      <td>25</td>\n",
       "      <td>5</td>\n",
       "      <td>2017</td>\n",
       "      <td>43</td>\n",
       "      <td>3</td>\n",
       "      <td>14</td>\n",
       "      <td>439</td>\n",
       "      <td>10539</td>\n",
       "      <td>632321</td>\n",
       "    </tr>\n",
       "  </tbody>\n",
       "</table>\n",
       "</div>"
      ],
      "text/plain": [
       "   num_columns  day_of_week  day  month  year  minute  hour  qhr  \\\n",
       "0          398            3   18      5  2017      29    14   57   \n",
       "1           69            3   25      5  2017      43     3   14   \n",
       "\n",
       "   num_days_since_start  num_hours_since_start  num_mins_since_start  \n",
       "0                   432                  10381                622888  \n",
       "1                   439                  10539                632321  "
      ]
     },
     "execution_count": 65,
     "metadata": {},
     "output_type": "execute_result"
    }
   ],
   "source": [
    "feature_df.head(2)"
   ]
  },
  {
   "cell_type": "code",
   "execution_count": 66,
   "metadata": {},
   "outputs": [],
   "source": [
    "pca = PCA(n_components=2)"
   ]
  },
  {
   "cell_type": "code",
   "execution_count": 67,
   "metadata": {},
   "outputs": [],
   "source": [
    "pca_X = pca.fit_transform(feature_df.values)"
   ]
  },
  {
   "cell_type": "code",
   "execution_count": 68,
   "metadata": {},
   "outputs": [
    {
     "data": {
      "text/plain": [
       "array([[-6.36019277e+04,  8.21434484e+01],\n",
       "       [-5.41676260e+04, -2.47497104e+02],\n",
       "       [-5.41556217e+04, -1.62505997e+02],\n",
       "       ...,\n",
       "       [ 5.18564038e+05, -2.72634364e+02],\n",
       "       [ 5.18555062e+05,  4.43718965e+01],\n",
       "       [ 5.18554036e+05, -3.19627776e+02]])"
      ]
     },
     "execution_count": 68,
     "metadata": {},
     "output_type": "execute_result"
    }
   ],
   "source": [
    "pca_X"
   ]
  },
  {
   "cell_type": "code",
   "execution_count": 69,
   "metadata": {},
   "outputs": [
    {
     "data": {
      "text/plain": [
       "<matplotlib.collections.PathCollection at 0x7f5369727a58>"
      ]
     },
     "execution_count": 69,
     "metadata": {},
     "output_type": "execute_result"
    },
    {
     "data": {
      "image/png": "[encoded data removed]",
      "text/plain": [
       "<Figure size 432x288 with 1 Axes>"
      ]
     },
     "metadata": {
      "needs_background": "light"
     },
     "output_type": "display_data"
    }
   ],
   "source": [
    "plt.scatter(pca_X[:, 0], pca_X[:, 1])"
   ]
  },
  {
   "cell_type": "code",
   "execution_count": 70,
   "metadata": {},
   "outputs": [],
   "source": [
    "from sklearn.metrics import silhouette_samples, silhouette_score"
   ]
  },
  {
   "cell_type": "code",
   "execution_count": 72,
   "metadata": {},
   "outputs": [],
   "source": [
    "from sklearn.cluster import KMeans"
   ]
  },
  {
   "cell_type": "code",
   "execution_count": 74,
   "metadata": {},
   "outputs": [
    {
     "name": "stdout",
     "output_type": "stream",
     "text": [
      "For n_clusters = 30 The average silhouette_score is : 0.8491348677139187\n",
      "For n_clusters = 31 The average silhouette_score is : 0.8343025417658232\n",
      "For n_clusters = 32 The average silhouette_score is : 0.8365934940322904\n",
      "For n_clusters = 33 The average silhouette_score is : 0.8383894279279772\n",
      "For n_clusters = 34 The average silhouette_score is : 0.8530055839820546\n",
      "For n_clusters = 35 The average silhouette_score is : 0.842198545207326\n",
      "For n_clusters = 36 The average silhouette_score is : 0.8454295873646194\n",
      "For n_clusters = 37 The average silhouette_score is : 0.8483309603378777\n",
      "For n_clusters = 38 The average silhouette_score is : 0.8486929495961687\n",
      "For n_clusters = 39 The average silhouette_score is : 0.8494459815958318\n",
      "For n_clusters = 40 The average silhouette_score is : 0.8501963141894076\n",
      "For n_clusters = 41 The average silhouette_score is : 0.8544359420948516\n",
      "For n_clusters = 42 The average silhouette_score is : 0.8527789359443853\n",
      "For n_clusters = 43 The average silhouette_score is : 0.8574132351318295\n",
      "For n_clusters = 44 The average silhouette_score is : 0.8587783587477403\n",
      "For n_clusters = 45 The average silhouette_score is : 0.8456931226749127\n",
      "For n_clusters = 46 The average silhouette_score is : 0.8684419057474921\n",
      "For n_clusters = 47 The average silhouette_score is : 0.8503005740370572\n",
      "For n_clusters = 48 The average silhouette_score is : 0.8635913293034434\n",
      "For n_clusters = 49 The average silhouette_score is : 0.8671229563526813\n",
      "For n_clusters = 50 The average silhouette_score is : 0.8556915025373752\n",
      "For n_clusters = 51 The average silhouette_score is : 0.8703543547720859\n",
      "For n_clusters = 52 The average silhouette_score is : 0.8495014268131129\n",
      "For n_clusters = 53 The average silhouette_score is : 0.8619755493934841\n",
      "For n_clusters = 54 The average silhouette_score is : 0.8600394522026948\n",
      "For n_clusters = 55 The average silhouette_score is : 0.8646805757234357\n",
      "For n_clusters = 56 The average silhouette_score is : 0.8740212064498042\n",
      "For n_clusters = 57 The average silhouette_score is : 0.8643879722241775\n",
      "For n_clusters = 58 The average silhouette_score is : 0.8679629994426271\n",
      "For n_clusters = 59 The average silhouette_score is : 0.8650617975620564\n",
      "For n_clusters = 60 The average silhouette_score is : 0.8679927983189436\n",
      "For n_clusters = 61 The average silhouette_score is : 0.8609841673131426\n",
      "For n_clusters = 62 The average silhouette_score is : 0.8701652057898037\n",
      "For n_clusters = 63 The average silhouette_score is : 0.8719342705607463\n",
      "For n_clusters = 64 The average silhouette_score is : 0.8666164567640431\n",
      "For n_clusters = 65 The average silhouette_score is : 0.8739513625823514\n",
      "For n_clusters = 66 The average silhouette_score is : 0.8748331654423505\n",
      "For n_clusters = 67 The average silhouette_score is : 0.8759633391580106\n",
      "For n_clusters = 68 The average silhouette_score is : 0.8847401271322101\n",
      "For n_clusters = 69 The average silhouette_score is : 0.8481546690479015\n",
      "For n_clusters = 70 The average silhouette_score is : 0.88368210433814\n",
      "For n_clusters = 71 The average silhouette_score is : 0.8672147972764677\n",
      "For n_clusters = 72 The average silhouette_score is : 0.8689328398902177\n",
      "For n_clusters = 73 The average silhouette_score is : 0.8851557010369406\n",
      "For n_clusters = 74 The average silhouette_score is : 0.827796191048236\n",
      "For n_clusters = 75 The average silhouette_score is : 0.8332760614263138\n",
      "For n_clusters = 76 The average silhouette_score is : 0.8329685846420392\n",
      "For n_clusters = 77 The average silhouette_score is : 0.8477978739719669\n",
      "For n_clusters = 78 The average silhouette_score is : 0.8481236529470243\n",
      "For n_clusters = 79 The average silhouette_score is : 0.8317694897754518\n"
     ]
    }
   ],
   "source": [
    "num_clusters = [_ for _ in range(30,80)]\n",
    "for k in num_clusters:\n",
    "    km = KMeans(n_clusters=k)\n",
    "    cluster_labels = km.fit_predict(pca_X)\n",
    "    silhouette_avg = silhouette_score(pca_X, cluster_labels)\n",
    "    print(\"For n_clusters =\", k,\n",
    "          \"The average silhouette_score is :\", silhouette_avg)"
   ]
  },
  {
   "cell_type": "code",
   "execution_count": 78,
   "metadata": {},
   "outputs": [
    {
     "data": {
      "text/plain": [
       "array([0.99999589, 0.99999999])"
      ]
     },
     "execution_count": 78,
     "metadata": {},
     "output_type": "execute_result"
    }
   ],
   "source": [
    "pca.explained_variance_ratio_.cumsum()"
   ]
  },
  {
   "cell_type": "code",
   "execution_count": 79,
   "metadata": {},
   "outputs": [],
   "source": [
    "kmeans = KMeans(n_clusters=73)\n",
    "kmeans.fit(pca_X)\n",
    "y_kmeans = kmeans.predict(pca_X)"
   ]
  },
  {
   "cell_type": "code",
   "execution_count": 80,
   "metadata": {},
   "outputs": [
    {
     "data": {
      "text/plain": [
       "<matplotlib.collections.PathCollection at 0x7f5365d19b70>"
      ]
     },
     "execution_count": 80,
     "metadata": {},
     "output_type": "execute_result"
    },
    {
     "data": {
      "image/png": "[encoded data removed]",
      "text/plain": [
       "<Figure size 432x288 with 1 Axes>"
      ]
     },
     "metadata": {
      "needs_background": "light"
     },
     "output_type": "display_data"
    }
   ],
   "source": [
    "plt.scatter(pca_X[:, 0], pca_X[:, 1], c=y_kmeans, s=50, cmap='viridis')\n",
    "\n"
   ]
  },
  {
   "cell_type": "code",
   "execution_count": 81,
   "metadata": {},
   "outputs": [],
   "source": [
    "feature_df[\"lineage\"] = df.dataset_id"
   ]
  },
  {
   "cell_type": "code",
   "execution_count": 82,
   "metadata": {},
   "outputs": [],
   "source": [
    "feature_df[\"table_name\"] = df.table_id"
   ]
  },
  {
   "cell_type": "code",
   "execution_count": 83,
   "metadata": {},
   "outputs": [],
   "source": [
    "feature_df[\"cluster_labels\"] = y_kmeans"
   ]
  },
  {
   "cell_type": "code",
   "execution_count": 84,
   "metadata": {},
   "outputs": [],
   "source": [
    "feature_df.to_csv(\"sample_data2.csv\",index=False)"
   ]
  },
  {
   "cell_type": "code",
   "execution_count": 166,
   "metadata": {},
   "outputs": [
    {
     "data": {
      "text/plain": [
       "['bigdataspain',\n",
       " 'censo_chile',\n",
       " 'dbpedia',\n",
       " 'dbpedia2014temp',\n",
       " 'fivethirtyeight_uber',\n",
       " 'freebase20140119',\n",
       " 'geocode',\n",
       " 'ghtorrent',\n",
       " 'github_extracts',\n",
       " 'hackernews',\n",
       " 'leadahq_challenge',\n",
       " 'liquor',\n",
       " 'mexico',\n",
       " 'mta_nyc_si',\n",
       " 'nyc',\n",
       " 'openlibrary',\n",
       " 'opensecrets',\n",
       " 'popular_names',\n",
       " 'public_dump',\n",
       " 'pypi',\n",
       " 'python_extracts',\n",
       " 'reddit',\n",
       " 'reddit_comments',\n",
       " 'reddit_extracts',\n",
       " 'reddit_posts',\n",
       " 'reddit_v2',\n",
       " 'sheets',\n",
       " 'stackoverflow',\n",
       " 'stackoverflow_archive',\n",
       " 'test_acousticbrainz',\n",
       " 'weather_gsod',\n",
       " 'wikidata',\n",
       " 'wikipedia',\n",
       " 'wikipedia_extracts',\n",
       " 'wikipedia_v2',\n",
       " 'wikipedia_v3',\n",
       " 'wikipedia_vt']"
      ]
     },
     "execution_count": 166,
     "metadata": {},
     "output_type": "execute_result"
    }
   ],
   "source": [
    "df.dataset_id.unique().tolist()"
   ]
  },
  {
   "cell_type": "code",
   "execution_count": 85,
   "metadata": {},
   "outputs": [
    {
     "data": {
      "text/html": [
       "<div>\n",
       "<style scoped>\n",
       "    .dataframe tbody tr th:only-of-type {\n",
       "        vertical-align: middle;\n",
       "    }\n",
       "\n",
       "    .dataframe tbody tr th {\n",
       "        vertical-align: top;\n",
       "    }\n",
       "\n",
       "    .dataframe thead th {\n",
       "        text-align: right;\n",
       "    }\n",
       "</style>\n",
       "<table border=\"1\" class=\"dataframe\">\n",
       "  <thead>\n",
       "    <tr style=\"text-align: right;\">\n",
       "      <th></th>\n",
       "      <th>num_columns</th>\n",
       "      <th>day_of_week</th>\n",
       "      <th>day</th>\n",
       "      <th>month</th>\n",
       "      <th>year</th>\n",
       "      <th>minute</th>\n",
       "      <th>hour</th>\n",
       "      <th>qhr</th>\n",
       "      <th>num_days_since_start</th>\n",
       "      <th>num_hours_since_start</th>\n",
       "      <th>num_mins_since_start</th>\n",
       "      <th>lineage</th>\n",
       "      <th>table_name</th>\n",
       "      <th>cluster_labels</th>\n",
       "    </tr>\n",
       "  </thead>\n",
       "  <tbody>\n",
       "    <tr>\n",
       "      <th>0</th>\n",
       "      <td>398</td>\n",
       "      <td>3</td>\n",
       "      <td>18</td>\n",
       "      <td>5</td>\n",
       "      <td>2017</td>\n",
       "      <td>29</td>\n",
       "      <td>14</td>\n",
       "      <td>57</td>\n",
       "      <td>432</td>\n",
       "      <td>10381</td>\n",
       "      <td>622888</td>\n",
       "      <td>austin_311</td>\n",
       "      <td>311_service_requests</td>\n",
       "      <td>3</td>\n",
       "    </tr>\n",
       "    <tr>\n",
       "      <th>1</th>\n",
       "      <td>69</td>\n",
       "      <td>3</td>\n",
       "      <td>25</td>\n",
       "      <td>5</td>\n",
       "      <td>2017</td>\n",
       "      <td>43</td>\n",
       "      <td>3</td>\n",
       "      <td>14</td>\n",
       "      <td>439</td>\n",
       "      <td>10539</td>\n",
       "      <td>632321</td>\n",
       "      <td>austin_bikeshare</td>\n",
       "      <td>bikeshare_stations</td>\n",
       "      <td>71</td>\n",
       "    </tr>\n",
       "  </tbody>\n",
       "</table>\n",
       "</div>"
      ],
      "text/plain": [
       "   num_columns  day_of_week  day  month  year  minute  hour  qhr  \\\n",
       "0          398            3   18      5  2017      29    14   57   \n",
       "1           69            3   25      5  2017      43     3   14   \n",
       "\n",
       "   num_days_since_start  num_hours_since_start  num_mins_since_start  \\\n",
       "0                   432                  10381                622888   \n",
       "1                   439                  10539                632321   \n",
       "\n",
       "            lineage            table_name  cluster_labels  \n",
       "0        austin_311  311_service_requests               3  \n",
       "1  austin_bikeshare    bikeshare_stations              71  "
      ]
     },
     "execution_count": 85,
     "metadata": {},
     "output_type": "execute_result"
    }
   ],
   "source": [
    "feature_df.head(2)"
   ]
  },
  {
   "cell_type": "code",
   "execution_count": 86,
   "metadata": {},
   "outputs": [],
   "source": [
    "feature_df.drop(columns=[\"lineage\",\"table_name\",\"cluster_labels\"],inplace=True)"
   ]
  },
  {
   "cell_type": "code",
   "execution_count": 89,
   "metadata": {},
   "outputs": [],
   "source": [
    "import ast"
   ]
  },
  {
   "cell_type": "code",
   "execution_count": 91,
   "metadata": {},
   "outputs": [
    {
     "data": {
      "text/html": [
       "<div>\n",
       "<style scoped>\n",
       "    .dataframe tbody tr th:only-of-type {\n",
       "        vertical-align: middle;\n",
       "    }\n",
       "\n",
       "    .dataframe tbody tr th {\n",
       "        vertical-align: top;\n",
       "    }\n",
       "\n",
       "    .dataframe thead th {\n",
       "        text-align: right;\n",
       "    }\n",
       "</style>\n",
       "<table border=\"1\" class=\"dataframe\">\n",
       "  <thead>\n",
       "    <tr style=\"text-align: right;\">\n",
       "      <th></th>\n",
       "      <th>dataset_id</th>\n",
       "      <th>table_columns</th>\n",
       "      <th>table_created</th>\n",
       "      <th>table_id</th>\n",
       "      <th>table_modified</th>\n",
       "      <th>table_num_bytes</th>\n",
       "      <th>table_num_rows</th>\n",
       "      <th>table_type</th>\n",
       "      <th>num_columns</th>\n",
       "    </tr>\n",
       "  </thead>\n",
       "  <tbody>\n",
       "    <tr>\n",
       "      <th>0</th>\n",
       "      <td>austin_311</td>\n",
       "      <td>['unique_key', 'complaint_type', 'complaint_de...</td>\n",
       "      <td>2017-05-18 14:29:56</td>\n",
       "      <td>311_service_requests</td>\n",
       "      <td>2019-01-05 00:58:32</td>\n",
       "      <td>185335640</td>\n",
       "      <td>640525</td>\n",
       "      <td>TABLE</td>\n",
       "      <td>398</td>\n",
       "    </tr>\n",
       "    <tr>\n",
       "      <th>1</th>\n",
       "      <td>austin_bikeshare</td>\n",
       "      <td>['station_id', 'name', 'status', 'latitude', '...</td>\n",
       "      <td>2017-05-25 03:43:34</td>\n",
       "      <td>bikeshare_stations</td>\n",
       "      <td>2019-01-24 10:44:40</td>\n",
       "      <td>7384</td>\n",
       "      <td>94</td>\n",
       "      <td>TABLE</td>\n",
       "      <td>69</td>\n",
       "    </tr>\n",
       "  </tbody>\n",
       "</table>\n",
       "</div>"
      ],
      "text/plain": [
       "         dataset_id                                      table_columns  \\\n",
       "0        austin_311  ['unique_key', 'complaint_type', 'complaint_de...   \n",
       "1  austin_bikeshare  ['station_id', 'name', 'status', 'latitude', '...   \n",
       "\n",
       "        table_created              table_id      table_modified  \\\n",
       "0 2017-05-18 14:29:56  311_service_requests 2019-01-05 00:58:32   \n",
       "1 2017-05-25 03:43:34    bikeshare_stations 2019-01-24 10:44:40   \n",
       "\n",
       "   table_num_bytes  table_num_rows table_type  num_columns  \n",
       "0        185335640          640525      TABLE          398  \n",
       "1             7384              94      TABLE           69  "
      ]
     },
     "execution_count": 91,
     "metadata": {},
     "output_type": "execute_result"
    }
   ],
   "source": [
    "df.head(2)"
   ]
  },
  {
   "cell_type": "code",
   "execution_count": 92,
   "metadata": {},
   "outputs": [],
   "source": [
    "feature_df[\"col_names\"] = df.table_columns"
   ]
  },
  {
   "cell_type": "code",
   "execution_count": 93,
   "metadata": {},
   "outputs": [],
   "source": [
    "feature_df[\"cols\"] = feature_df.apply(lambda x : \" \".join(ast.literal_eval(x[\"col_names\"])),axis =1)"
   ]
  },
  {
   "cell_type": "code",
   "execution_count": 94,
   "metadata": {},
   "outputs": [
    {
     "data": {
      "text/html": [
       "<div>\n",
       "<style scoped>\n",
       "    .dataframe tbody tr th:only-of-type {\n",
       "        vertical-align: middle;\n",
       "    }\n",
       "\n",
       "    .dataframe tbody tr th {\n",
       "        vertical-align: top;\n",
       "    }\n",
       "\n",
       "    .dataframe thead th {\n",
       "        text-align: right;\n",
       "    }\n",
       "</style>\n",
       "<table border=\"1\" class=\"dataframe\">\n",
       "  <thead>\n",
       "    <tr style=\"text-align: right;\">\n",
       "      <th></th>\n",
       "      <th>num_columns</th>\n",
       "      <th>day_of_week</th>\n",
       "      <th>day</th>\n",
       "      <th>month</th>\n",
       "      <th>year</th>\n",
       "      <th>minute</th>\n",
       "      <th>hour</th>\n",
       "      <th>qhr</th>\n",
       "      <th>num_days_since_start</th>\n",
       "      <th>num_hours_since_start</th>\n",
       "      <th>num_mins_since_start</th>\n",
       "      <th>col_names</th>\n",
       "      <th>cols</th>\n",
       "    </tr>\n",
       "  </thead>\n",
       "  <tbody>\n",
       "    <tr>\n",
       "      <th>0</th>\n",
       "      <td>398</td>\n",
       "      <td>3</td>\n",
       "      <td>18</td>\n",
       "      <td>5</td>\n",
       "      <td>2017</td>\n",
       "      <td>29</td>\n",
       "      <td>14</td>\n",
       "      <td>57</td>\n",
       "      <td>432</td>\n",
       "      <td>10381</td>\n",
       "      <td>622888</td>\n",
       "      <td>['unique_key', 'complaint_type', 'complaint_de...</td>\n",
       "      <td>unique_key complaint_type complaint_descriptio...</td>\n",
       "    </tr>\n",
       "    <tr>\n",
       "      <th>1</th>\n",
       "      <td>69</td>\n",
       "      <td>3</td>\n",
       "      <td>25</td>\n",
       "      <td>5</td>\n",
       "      <td>2017</td>\n",
       "      <td>43</td>\n",
       "      <td>3</td>\n",
       "      <td>14</td>\n",
       "      <td>439</td>\n",
       "      <td>10539</td>\n",
       "      <td>632321</td>\n",
       "      <td>['station_id', 'name', 'status', 'latitude', '...</td>\n",
       "      <td>station_id name status latitude longitude loca...</td>\n",
       "    </tr>\n",
       "  </tbody>\n",
       "</table>\n",
       "</div>"
      ],
      "text/plain": [
       "   num_columns  day_of_week  day  month  year  minute  hour  qhr  \\\n",
       "0          398            3   18      5  2017      29    14   57   \n",
       "1           69            3   25      5  2017      43     3   14   \n",
       "\n",
       "   num_days_since_start  num_hours_since_start  num_mins_since_start  \\\n",
       "0                   432                  10381                622888   \n",
       "1                   439                  10539                632321   \n",
       "\n",
       "                                           col_names  \\\n",
       "0  ['unique_key', 'complaint_type', 'complaint_de...   \n",
       "1  ['station_id', 'name', 'status', 'latitude', '...   \n",
       "\n",
       "                                                cols  \n",
       "0  unique_key complaint_type complaint_descriptio...  \n",
       "1  station_id name status latitude longitude loca...  "
      ]
     },
     "execution_count": 94,
     "metadata": {},
     "output_type": "execute_result"
    }
   ],
   "source": [
    "feature_df.head(2)"
   ]
  },
  {
   "cell_type": "code",
   "execution_count": 95,
   "metadata": {},
   "outputs": [],
   "source": [
    "from sklearn.feature_extraction.text import CountVectorizer"
   ]
  },
  {
   "cell_type": "code",
   "execution_count": 96,
   "metadata": {},
   "outputs": [],
   "source": [
    "vectorizer = CountVectorizer()"
   ]
  },
  {
   "cell_type": "code",
   "execution_count": 97,
   "metadata": {},
   "outputs": [
    {
     "data": {
      "text/plain": [
       "CountVectorizer(analyzer='word', binary=False, decode_error='strict',\n",
       "        dtype=<class 'numpy.int64'>, encoding='utf-8', input='content',\n",
       "        lowercase=True, max_df=1.0, max_features=None, min_df=1,\n",
       "        ngram_range=(1, 1), preprocessor=None, stop_words=None,\n",
       "        strip_accents=None, token_pattern='(?u)\\\\b\\\\w\\\\w+\\\\b',\n",
       "        tokenizer=None, vocabulary=None)"
      ]
     },
     "execution_count": 97,
     "metadata": {},
     "output_type": "execute_result"
    }
   ],
   "source": [
    "vectorizer.fit(feature_df.cols)"
   ]
  },
  {
   "cell_type": "code",
   "execution_count": 98,
   "metadata": {},
   "outputs": [
    {
     "data": {
      "text/plain": [
       "5750"
      ]
     },
     "execution_count": 98,
     "metadata": {},
     "output_type": "execute_result"
    }
   ],
   "source": [
    "len(vectorizer.get_feature_names())"
   ]
  },
  {
   "cell_type": "code",
   "execution_count": 99,
   "metadata": {},
   "outputs": [],
   "source": [
    "cols_df = pd.DataFrame(vectorizer.transform(feature_df.cols).toarray(),columns=vectorizer.get_feature_names())"
   ]
  },
  {
   "cell_type": "code",
   "execution_count": 100,
   "metadata": {},
   "outputs": [
    {
     "data": {
      "text/html": [
       "<div>\n",
       "<style scoped>\n",
       "    .dataframe tbody tr th:only-of-type {\n",
       "        vertical-align: middle;\n",
       "    }\n",
       "\n",
       "    .dataframe tbody tr th {\n",
       "        vertical-align: top;\n",
       "    }\n",
       "\n",
       "    .dataframe thead th {\n",
       "        text-align: right;\n",
       "    }\n",
       "</style>\n",
       "<table border=\"1\" class=\"dataframe\">\n",
       "  <thead>\n",
       "    <tr style=\"text-align: right;\">\n",
       "      <th></th>\n",
       "      <th>a_alias</th>\n",
       "      <th>a_assists</th>\n",
       "      <th>a_assists_turnover_ratio</th>\n",
       "      <th>a_blocked_att</th>\n",
       "      <th>a_blocks</th>\n",
       "      <th>a_coach_tech_fouls</th>\n",
       "      <th>a_conf_alias</th>\n",
       "      <th>a_conf_id</th>\n",
       "      <th>a_conf_name</th>\n",
       "      <th>a_defensive_rebounds</th>\n",
       "      <th>...</th>\n",
       "      <th>zip_original</th>\n",
       "      <th>zipba</th>\n",
       "      <th>zipcode</th>\n",
       "      <th>zipcode_geom</th>\n",
       "      <th>zipcode_of_incident</th>\n",
       "      <th>zipma</th>\n",
       "      <th>zone</th>\n",
       "      <th>zone_geom</th>\n",
       "      <th>zone_id</th>\n",
       "      <th>zone_name</th>\n",
       "    </tr>\n",
       "  </thead>\n",
       "  <tbody>\n",
       "    <tr>\n",
       "      <th>0</th>\n",
       "      <td>0</td>\n",
       "      <td>0</td>\n",
       "      <td>0</td>\n",
       "      <td>0</td>\n",
       "      <td>0</td>\n",
       "      <td>0</td>\n",
       "      <td>0</td>\n",
       "      <td>0</td>\n",
       "      <td>0</td>\n",
       "      <td>0</td>\n",
       "      <td>...</td>\n",
       "      <td>0</td>\n",
       "      <td>0</td>\n",
       "      <td>0</td>\n",
       "      <td>0</td>\n",
       "      <td>0</td>\n",
       "      <td>0</td>\n",
       "      <td>0</td>\n",
       "      <td>0</td>\n",
       "      <td>0</td>\n",
       "      <td>0</td>\n",
       "    </tr>\n",
       "    <tr>\n",
       "      <th>1</th>\n",
       "      <td>0</td>\n",
       "      <td>0</td>\n",
       "      <td>0</td>\n",
       "      <td>0</td>\n",
       "      <td>0</td>\n",
       "      <td>0</td>\n",
       "      <td>0</td>\n",
       "      <td>0</td>\n",
       "      <td>0</td>\n",
       "      <td>0</td>\n",
       "      <td>...</td>\n",
       "      <td>0</td>\n",
       "      <td>0</td>\n",
       "      <td>0</td>\n",
       "      <td>0</td>\n",
       "      <td>0</td>\n",
       "      <td>0</td>\n",
       "      <td>0</td>\n",
       "      <td>0</td>\n",
       "      <td>0</td>\n",
       "      <td>0</td>\n",
       "    </tr>\n",
       "  </tbody>\n",
       "</table>\n",
       "<p>2 rows × 5750 columns</p>\n",
       "</div>"
      ],
      "text/plain": [
       "   a_alias  a_assists  a_assists_turnover_ratio  a_blocked_att  a_blocks  \\\n",
       "0        0          0                         0              0         0   \n",
       "1        0          0                         0              0         0   \n",
       "\n",
       "   a_coach_tech_fouls  a_conf_alias  a_conf_id  a_conf_name  \\\n",
       "0                   0             0          0            0   \n",
       "1                   0             0          0            0   \n",
       "\n",
       "   a_defensive_rebounds    ...      zip_original  zipba  zipcode  \\\n",
       "0                     0    ...                 0      0        0   \n",
       "1                     0    ...                 0      0        0   \n",
       "\n",
       "   zipcode_geom  zipcode_of_incident  zipma  zone  zone_geom  zone_id  \\\n",
       "0             0                    0      0     0          0        0   \n",
       "1             0                    0      0     0          0        0   \n",
       "\n",
       "   zone_name  \n",
       "0          0  \n",
       "1          0  \n",
       "\n",
       "[2 rows x 5750 columns]"
      ]
     },
     "execution_count": 100,
     "metadata": {},
     "output_type": "execute_result"
    }
   ],
   "source": [
    "cols_df.head(2)"
   ]
  },
  {
   "cell_type": "code",
   "execution_count": 101,
   "metadata": {},
   "outputs": [
    {
     "data": {
      "text/html": [
       "<div>\n",
       "<style scoped>\n",
       "    .dataframe tbody tr th:only-of-type {\n",
       "        vertical-align: middle;\n",
       "    }\n",
       "\n",
       "    .dataframe tbody tr th {\n",
       "        vertical-align: top;\n",
       "    }\n",
       "\n",
       "    .dataframe thead th {\n",
       "        text-align: right;\n",
       "    }\n",
       "</style>\n",
       "<table border=\"1\" class=\"dataframe\">\n",
       "  <thead>\n",
       "    <tr style=\"text-align: right;\">\n",
       "      <th></th>\n",
       "      <th>num_columns</th>\n",
       "      <th>day_of_week</th>\n",
       "      <th>day</th>\n",
       "      <th>month</th>\n",
       "      <th>year</th>\n",
       "      <th>minute</th>\n",
       "      <th>hour</th>\n",
       "      <th>qhr</th>\n",
       "      <th>num_days_since_start</th>\n",
       "      <th>num_hours_since_start</th>\n",
       "      <th>num_mins_since_start</th>\n",
       "      <th>col_names</th>\n",
       "      <th>cols</th>\n",
       "    </tr>\n",
       "  </thead>\n",
       "  <tbody>\n",
       "    <tr>\n",
       "      <th>0</th>\n",
       "      <td>398</td>\n",
       "      <td>3</td>\n",
       "      <td>18</td>\n",
       "      <td>5</td>\n",
       "      <td>2017</td>\n",
       "      <td>29</td>\n",
       "      <td>14</td>\n",
       "      <td>57</td>\n",
       "      <td>432</td>\n",
       "      <td>10381</td>\n",
       "      <td>622888</td>\n",
       "      <td>['unique_key', 'complaint_type', 'complaint_de...</td>\n",
       "      <td>unique_key complaint_type complaint_descriptio...</td>\n",
       "    </tr>\n",
       "    <tr>\n",
       "      <th>1</th>\n",
       "      <td>69</td>\n",
       "      <td>3</td>\n",
       "      <td>25</td>\n",
       "      <td>5</td>\n",
       "      <td>2017</td>\n",
       "      <td>43</td>\n",
       "      <td>3</td>\n",
       "      <td>14</td>\n",
       "      <td>439</td>\n",
       "      <td>10539</td>\n",
       "      <td>632321</td>\n",
       "      <td>['station_id', 'name', 'status', 'latitude', '...</td>\n",
       "      <td>station_id name status latitude longitude loca...</td>\n",
       "    </tr>\n",
       "  </tbody>\n",
       "</table>\n",
       "</div>"
      ],
      "text/plain": [
       "   num_columns  day_of_week  day  month  year  minute  hour  qhr  \\\n",
       "0          398            3   18      5  2017      29    14   57   \n",
       "1           69            3   25      5  2017      43     3   14   \n",
       "\n",
       "   num_days_since_start  num_hours_since_start  num_mins_since_start  \\\n",
       "0                   432                  10381                622888   \n",
       "1                   439                  10539                632321   \n",
       "\n",
       "                                           col_names  \\\n",
       "0  ['unique_key', 'complaint_type', 'complaint_de...   \n",
       "1  ['station_id', 'name', 'status', 'latitude', '...   \n",
       "\n",
       "                                                cols  \n",
       "0  unique_key complaint_type complaint_descriptio...  \n",
       "1  station_id name status latitude longitude loca...  "
      ]
     },
     "execution_count": 101,
     "metadata": {},
     "output_type": "execute_result"
    }
   ],
   "source": [
    "feature_df.head(2)"
   ]
  },
  {
   "cell_type": "code",
   "execution_count": 102,
   "metadata": {},
   "outputs": [],
   "source": [
    "feature_df.drop(columns=[\"col_names\",\"cols\"],inplace=True)"
   ]
  },
  {
   "cell_type": "code",
   "execution_count": 103,
   "metadata": {},
   "outputs": [],
   "source": [
    "fin_df = pd.concat([feature_df,cols_df],axis =1)"
   ]
  },
  {
   "cell_type": "code",
   "execution_count": 104,
   "metadata": {},
   "outputs": [
    {
     "data": {
      "text/html": [
       "<div>\n",
       "<style scoped>\n",
       "    .dataframe tbody tr th:only-of-type {\n",
       "        vertical-align: middle;\n",
       "    }\n",
       "\n",
       "    .dataframe tbody tr th {\n",
       "        vertical-align: top;\n",
       "    }\n",
       "\n",
       "    .dataframe thead th {\n",
       "        text-align: right;\n",
       "    }\n",
       "</style>\n",
       "<table border=\"1\" class=\"dataframe\">\n",
       "  <thead>\n",
       "    <tr style=\"text-align: right;\">\n",
       "      <th></th>\n",
       "      <th>num_columns</th>\n",
       "      <th>day_of_week</th>\n",
       "      <th>day</th>\n",
       "      <th>month</th>\n",
       "      <th>year</th>\n",
       "      <th>minute</th>\n",
       "      <th>hour</th>\n",
       "      <th>qhr</th>\n",
       "      <th>num_days_since_start</th>\n",
       "      <th>num_hours_since_start</th>\n",
       "      <th>...</th>\n",
       "      <th>zip_original</th>\n",
       "      <th>zipba</th>\n",
       "      <th>zipcode</th>\n",
       "      <th>zipcode_geom</th>\n",
       "      <th>zipcode_of_incident</th>\n",
       "      <th>zipma</th>\n",
       "      <th>zone</th>\n",
       "      <th>zone_geom</th>\n",
       "      <th>zone_id</th>\n",
       "      <th>zone_name</th>\n",
       "    </tr>\n",
       "  </thead>\n",
       "  <tbody>\n",
       "    <tr>\n",
       "      <th>0</th>\n",
       "      <td>398</td>\n",
       "      <td>3</td>\n",
       "      <td>18</td>\n",
       "      <td>5</td>\n",
       "      <td>2017</td>\n",
       "      <td>29</td>\n",
       "      <td>14</td>\n",
       "      <td>57</td>\n",
       "      <td>432</td>\n",
       "      <td>10381</td>\n",
       "      <td>...</td>\n",
       "      <td>0</td>\n",
       "      <td>0</td>\n",
       "      <td>0</td>\n",
       "      <td>0</td>\n",
       "      <td>0</td>\n",
       "      <td>0</td>\n",
       "      <td>0</td>\n",
       "      <td>0</td>\n",
       "      <td>0</td>\n",
       "      <td>0</td>\n",
       "    </tr>\n",
       "    <tr>\n",
       "      <th>1</th>\n",
       "      <td>69</td>\n",
       "      <td>3</td>\n",
       "      <td>25</td>\n",
       "      <td>5</td>\n",
       "      <td>2017</td>\n",
       "      <td>43</td>\n",
       "      <td>3</td>\n",
       "      <td>14</td>\n",
       "      <td>439</td>\n",
       "      <td>10539</td>\n",
       "      <td>...</td>\n",
       "      <td>0</td>\n",
       "      <td>0</td>\n",
       "      <td>0</td>\n",
       "      <td>0</td>\n",
       "      <td>0</td>\n",
       "      <td>0</td>\n",
       "      <td>0</td>\n",
       "      <td>0</td>\n",
       "      <td>0</td>\n",
       "      <td>0</td>\n",
       "    </tr>\n",
       "  </tbody>\n",
       "</table>\n",
       "<p>2 rows × 5761 columns</p>\n",
       "</div>"
      ],
      "text/plain": [
       "   num_columns  day_of_week  day  month  year  minute  hour  qhr  \\\n",
       "0          398            3   18      5  2017      29    14   57   \n",
       "1           69            3   25      5  2017      43     3   14   \n",
       "\n",
       "   num_days_since_start  num_hours_since_start    ...      zip_original  \\\n",
       "0                   432                  10381    ...                 0   \n",
       "1                   439                  10539    ...                 0   \n",
       "\n",
       "   zipba  zipcode  zipcode_geom  zipcode_of_incident  zipma  zone  zone_geom  \\\n",
       "0      0        0             0                    0      0     0          0   \n",
       "1      0        0             0                    0      0     0          0   \n",
       "\n",
       "   zone_id  zone_name  \n",
       "0        0          0  \n",
       "1        0          0  \n",
       "\n",
       "[2 rows x 5761 columns]"
      ]
     },
     "execution_count": 104,
     "metadata": {},
     "output_type": "execute_result"
    }
   ],
   "source": [
    "fin_df.head(2)"
   ]
  },
  {
   "cell_type": "code",
   "execution_count": 105,
   "metadata": {},
   "outputs": [],
   "source": [
    "fin_df.dropna(inplace=True)"
   ]
  },
  {
   "cell_type": "code",
   "execution_count": 106,
   "metadata": {},
   "outputs": [
    {
     "data": {
      "text/plain": [
       "(1514, 5761)"
      ]
     },
     "execution_count": 106,
     "metadata": {},
     "output_type": "execute_result"
    }
   ],
   "source": [
    "fin_df.shape"
   ]
  },
  {
   "cell_type": "code",
   "execution_count": 108,
   "metadata": {},
   "outputs": [],
   "source": [
    "pca = PCA(n_components=50)"
   ]
  },
  {
   "cell_type": "code",
   "execution_count": 109,
   "metadata": {},
   "outputs": [],
   "source": [
    "pca_X2 = pca.fit_transform(fin_df.values)"
   ]
  },
  {
   "cell_type": "code",
   "execution_count": 111,
   "metadata": {},
   "outputs": [
    {
     "data": {
      "text/plain": [
       "array([0.99999589, 0.99999999, 1.        , 1.        , 1.        ,\n",
       "       1.        , 1.        , 1.        , 1.        , 1.        ,\n",
       "       1.        , 1.        , 1.        , 1.        , 1.        ,\n",
       "       1.        , 1.        , 1.        , 1.        , 1.        ,\n",
       "       1.        , 1.        , 1.        , 1.        , 1.        ,\n",
       "       1.        , 1.        , 1.        , 1.        , 1.        ,\n",
       "       1.        , 1.        , 1.        , 1.        , 1.        ,\n",
       "       1.        , 1.        , 1.        , 1.        , 1.        ,\n",
       "       1.        , 1.        , 1.        , 1.        , 1.        ,\n",
       "       1.        , 1.        , 1.        , 1.        , 1.        ])"
      ]
     },
     "execution_count": 111,
     "metadata": {},
     "output_type": "execute_result"
    }
   ],
   "source": [
    "pca.explained_variance_ratio_.cumsum()"
   ]
  },
  {
   "cell_type": "code",
   "execution_count": 112,
   "metadata": {},
   "outputs": [
    {
     "name": "stdout",
     "output_type": "stream",
     "text": [
      "For n_clusters = 40 The average silhouette_score is : 0.8517637546422081\n",
      "For n_clusters = 41 The average silhouette_score is : 0.8554201540464497\n",
      "For n_clusters = 42 The average silhouette_score is : 0.8572535531268176\n",
      "For n_clusters = 43 The average silhouette_score is : 0.8603587227592492\n",
      "For n_clusters = 44 The average silhouette_score is : 0.8548250200271391\n",
      "For n_clusters = 45 The average silhouette_score is : 0.8612918244085142\n",
      "For n_clusters = 46 The average silhouette_score is : 0.8648266268441507\n",
      "For n_clusters = 47 The average silhouette_score is : 0.8660074954469946\n",
      "For n_clusters = 48 The average silhouette_score is : 0.8645521315321498\n",
      "For n_clusters = 49 The average silhouette_score is : 0.868624650671157\n",
      "For n_clusters = 50 The average silhouette_score is : 0.8552393837918003\n",
      "For n_clusters = 51 The average silhouette_score is : 0.8589199364040287\n",
      "For n_clusters = 52 The average silhouette_score is : 0.870321969915157\n",
      "For n_clusters = 53 The average silhouette_score is : 0.8617616726733573\n",
      "For n_clusters = 54 The average silhouette_score is : 0.8571926786307894\n",
      "For n_clusters = 55 The average silhouette_score is : 0.8686663632579811\n",
      "For n_clusters = 56 The average silhouette_score is : 0.8738518760862918\n",
      "For n_clusters = 57 The average silhouette_score is : 0.8741661153061466\n",
      "For n_clusters = 58 The average silhouette_score is : 0.8665208361192294\n",
      "For n_clusters = 59 The average silhouette_score is : 0.8603751121752453\n",
      "For n_clusters = 60 The average silhouette_score is : 0.8705734109576961\n",
      "For n_clusters = 61 The average silhouette_score is : 0.8640269872446955\n",
      "For n_clusters = 62 The average silhouette_score is : 0.8661071450843983\n",
      "For n_clusters = 63 The average silhouette_score is : 0.8616417604388225\n",
      "For n_clusters = 64 The average silhouette_score is : 0.8645236276723937\n",
      "For n_clusters = 65 The average silhouette_score is : 0.871880321933044\n",
      "For n_clusters = 66 The average silhouette_score is : 0.8690434426573361\n",
      "For n_clusters = 67 The average silhouette_score is : 0.8780510795079867\n",
      "For n_clusters = 68 The average silhouette_score is : 0.8627328705846878\n",
      "For n_clusters = 69 The average silhouette_score is : 0.8670590158910467\n",
      "For n_clusters = 70 The average silhouette_score is : 0.8644109246522296\n",
      "For n_clusters = 71 The average silhouette_score is : 0.843569898110098\n",
      "For n_clusters = 72 The average silhouette_score is : 0.880913579844754\n",
      "For n_clusters = 73 The average silhouette_score is : 0.8305431638840904\n",
      "For n_clusters = 74 The average silhouette_score is : 0.8463539586646726\n",
      "For n_clusters = 75 The average silhouette_score is : 0.8461282396249811\n",
      "For n_clusters = 76 The average silhouette_score is : 0.8313874964891811\n",
      "For n_clusters = 77 The average silhouette_score is : 0.832295847375201\n",
      "For n_clusters = 78 The average silhouette_score is : 0.8290003450015662\n",
      "For n_clusters = 79 The average silhouette_score is : 0.8338312142478004\n"
     ]
    }
   ],
   "source": [
    "sum_squared_distance = []\n",
    "num_clusters = [_ for _ in range(40,80)]\n",
    "for k in num_clusters:\n",
    "    km = KMeans(n_clusters=k)\n",
    "    cluster_labels = km.fit_predict(pca_X2)\n",
    "    silhouette_avg = silhouette_score(fin_df.values, cluster_labels)\n",
    "    print(\"For n_clusters =\", k,\n",
    "          \"The average silhouette_score is :\", silhouette_avg)"
   ]
  },
  {
   "cell_type": "code",
   "execution_count": 113,
   "metadata": {},
   "outputs": [],
   "source": [
    "km = KMeans(n_clusters=57)"
   ]
  },
  {
   "cell_type": "code",
   "execution_count": 114,
   "metadata": {},
   "outputs": [],
   "source": [
    "kmeans.fit(pca_X2)\n",
    "y_kmeans = kmeans.predict(pca_X2)"
   ]
  },
  {
   "cell_type": "code",
   "execution_count": 119,
   "metadata": {},
   "outputs": [],
   "source": [
    "fin_df[\"lineage\"] = df.dataset_id"
   ]
  },
  {
   "cell_type": "code",
   "execution_count": 121,
   "metadata": {},
   "outputs": [],
   "source": [
    "fin_df[\"table_name\"] = df.table_id"
   ]
  },
  {
   "cell_type": "code",
   "execution_count": 120,
   "metadata": {},
   "outputs": [],
   "source": [
    "fin_df[\"cluster_labels\"] = y_kmeans"
   ]
  },
  {
   "cell_type": "code",
   "execution_count": 118,
   "metadata": {},
   "outputs": [
    {
     "data": {
      "text/plain": [
       "Index(['num_columns', 'day_of_week', 'day', 'month', 'year', 'minute', 'hour',\n",
       "       'qhr', 'num_days_since_start', 'num_hours_since_start',\n",
       "       'num_mins_since_start', 'lineage', 'table_name', 'cluster_labels'],\n",
       "      dtype='object')"
      ]
     },
     "execution_count": 118,
     "metadata": {},
     "output_type": "execute_result"
    }
   ],
   "source": [
    "feature_df.columns"
   ]
  },
  {
   "cell_type": "code",
   "execution_count": 84,
   "metadata": {},
   "outputs": [],
   "source": [
    "feature_df.to_csv(\"sample_data2.csv\",index=False)"
   ]
  },
  {
   "cell_type": "code",
   "execution_count": 123,
   "metadata": {},
   "outputs": [],
   "source": [
    "new_df = fin_df[['num_columns', 'day_of_week', 'day', 'month', 'year', 'minute', 'hour',\n",
    "       'qhr', 'num_days_since_start', 'num_hours_since_start',\n",
    "       'num_mins_since_start', 'lineage', 'table_name', 'cluster_labels']]"
   ]
  },
  {
   "cell_type": "code",
   "execution_count": 124,
   "metadata": {},
   "outputs": [
    {
     "name": "stderr",
     "output_type": "stream",
     "text": [
      "/home/krishna/anaconda3/envs/py36/lib/python3.6/site-packages/ipykernel_launcher.py:1: SettingWithCopyWarning: \n",
      "A value is trying to be set on a copy of a slice from a DataFrame.\n",
      "Try using .loc[row_indexer,col_indexer] = value instead\n",
      "\n",
      "See the caveats in the documentation: http://pandas.pydata.org/pandas-docs/stable/indexing.html#indexing-view-versus-copy\n",
      "  \"\"\"Entry point for launching an IPython kernel.\n"
     ]
    }
   ],
   "source": [
    "new_df[\"col_names\"] = df.table_columns"
   ]
  },
  {
   "cell_type": "code",
   "execution_count": 125,
   "metadata": {},
   "outputs": [],
   "source": [
    "new_df.to_csv(\"sample_data3.csv\",index=False)"
   ]
  },
  {
   "cell_type": "code",
   "execution_count": null,
   "metadata": {},
   "outputs": [],
   "source": []
  }
 ],
 "metadata": {
  "kernelspec": {
   "display_name": "py36",
   "language": "python",
   "name": "py36"
  },
  "language_info": {
   "codemirror_mode": {
    "name": "ipython",
    "version": 3
   },
   "file_extension": ".py",
   "mimetype": "text/x-python",
   "name": "python",
   "nbconvert_exporter": "python",
   "pygments_lexer": "ipython3",
   "version": "3.6.8"
  }
 },
 "nbformat": 4,
 "nbformat_minor": 2
}
